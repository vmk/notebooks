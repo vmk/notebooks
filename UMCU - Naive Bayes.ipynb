{
 "cells": [
  {
   "cell_type": "code",
   "execution_count": 17,
   "metadata": {
    "collapsed": false
   },
   "outputs": [
    {
     "name": "stdout",
     "output_type": "stream",
     "text": [
      "2135579a4aa630,1,\"2135579a4aa630 1713684 71fe092b72aa56be5998fbf23e6a826a 0 1 0 0 0 1659495.0 2 Gewijzigd 1 1 x per dag 20 milligram ORAAL 0 20.0 1 MILLIGRAM 1 D 2012-02-07 2012-01-23 OLANZAPINE SMELTTABLET 20MG 0 SMELTTABLET N05AH03 PSYCHOLEPTICS NERVOUS SYSTEM Diazepines, oxazepines and thiazepines ANTIPSYCHOTICS 20.0 olanzapine 1 - Tuesday 4804 15479 0 - Monday 0 1 1 x per dag 20 milligram 2135579a4aa630 4804 2011-12-15 2012-02-06 Klinische opname Klinische behandeling 53.0 3 - Thursday 0 - Monday False False 25.0 18-30 False KL. PSYCHOTISCHE STOORNISSEN 1 True\"\n",
      "2454\n"
     ]
    }
   ],
   "source": [
    "rawData = sc.textFile('case-control-equal.txt')\n",
    "print rawData.first()\n",
    "print rawData.count()\n"
   ]
  },
  {
   "cell_type": "code",
   "execution_count": 18,
   "metadata": {
    "collapsed": false
   },
   "outputs": [
    {
     "name": "stdout",
     "output_type": "stream",
     "text": [
      "[('2135579a4aa630', 1, '\"2135579a4aa630 1713684 71fe092b72aa56be5998fbf23e6a826a 0 1 0 0 0 1659495.0 2 Gewijzigd 1 1 x per dag 20 milligram ORAAL 0 20.0 1 MILLIGRAM 1 D 2012-02-07 2012-01-23 OLANZAPINE SMELTTABLET 20MG 0 SMELTTABLET N05AH03 PSYCHOLEPTICS NERVOUS SYSTEM Diazepines'), ('dbd484faf711a0', 1, '\"dbd484faf711a0 1693355 71fe092b72aa56be5998fbf23e6a826a 0 1 0 0 0 1693355.0 1 Initiele verstrekking 1 1 x per dag 2 milligram ORAAL 0 2.0 1 MILLIGRAM 1 D 2012-01-17 2012-01-16 RISPERIDON SMELTTABLET 2MG 0 SMELTTABLET N05AX08 PSYCHOLEPTICS NERVOUS SYSTEM Other antipsychotics ANTIPSYCHOTICS 2.0 risperidon 1 - Tuesday -1 14554 0 - Monday 0 1 1 x per dag 2 milligram\"'), ('7ce58679a76272', 1, '\"7ce58679a76272 2012-01-05 2012-06-30 as1_6.02.01.03.04 4463 Bipolaire I stoornis: Laatste episode manisch')]\n",
      "2454\n"
     ]
    }
   ],
   "source": [
    "tuples = rawData.map(lambda l: l.split(\",\")).map(lambda a : (str(a[0]), int(a[1]), str(a[2].encode('utf8'))))\n",
    "print tuples.take(3)\n",
    "print tuples.count()"
   ]
  },
  {
   "cell_type": "code",
   "execution_count": 19,
   "metadata": {
    "collapsed": false
   },
   "outputs": [],
   "source": [
    "from pyspark.mllib.feature import HashingTF\n",
    "htf = HashingTF()"
   ]
  },
  {
   "cell_type": "code",
   "execution_count": 20,
   "metadata": {
    "collapsed": false
   },
   "outputs": [],
   "source": [
    "hashedTuples = tuples.map(lambda (i, c, d) : (i, c, htf.transform(d)))"
   ]
  },
  {
   "cell_type": "code",
   "execution_count": 21,
   "metadata": {
    "collapsed": false
   },
   "outputs": [
    {
     "name": "stdout",
     "output_type": "stream",
     "text": [
      "('2135579a4aa630', 1, SparseVector(1048576, {8148: 1.0, 19142: 3.0, 30136: 6.0, 60275: 2.0, 71269: 2.0, 82263: 1.0, 93257: 2.0, 134386: 1.0, 145380: 7.0, 167368: 4.0, 189356: 4.0, 219495: 3.0, 263471: 2.0, 274465: 36.0, 293606: 3.0, 304600: 2.0, 378715: 1.0, 389709: 9.0, 411697: 20.0, 422691: 1.0, 430838: 1.0, 441832: 6.0, 463820: 6.0, 485808: 13.0, 504953: 1.0, 515947: 1.0, 537935: 4.0, 559923: 15.0, 612046: 4.0, 623040: 8.0, 634034: 6.0, 653179: 2.0, 664173: 2.0, 686161: 3.0, 697155: 2.0, 708149: 3.0, 738284: 2.0, 771266: 2.0, 782260: 7.0, 812399: 1.0, 834387: 3.0, 845381: 2.0, 856375: 6.0, 897504: 10.0, 908498: 7.0, 919492: 8.0, 930486: 5.0, 960625: 2.0, 971619: 3.0, 982613: 8.0, 1004601: 3.0}))\n"
     ]
    }
   ],
   "source": [
    "print hashedTuples.first()"
   ]
  },
  {
   "cell_type": "code",
   "execution_count": 22,
   "metadata": {
    "collapsed": true
   },
   "outputs": [],
   "source": [
    "from pyspark.mllib.regression import LabeledPoint\n",
    "inputData = hashedTuples.map(lambda (i,c,v): LabeledPoint(c,v))"
   ]
  },
  {
   "cell_type": "code",
   "execution_count": 23,
   "metadata": {
    "collapsed": false
   },
   "outputs": [],
   "source": [
    "training, testing, validation = inputData.randomSplit([0.7,0.3,0.0], 5)"
   ]
  },
  {
   "cell_type": "code",
   "execution_count": 24,
   "metadata": {
    "collapsed": false
   },
   "outputs": [
    {
     "name": "stdout",
     "output_type": "stream",
     "text": [
      "(1.0,(1048576,[8148,19142,30136,60275,71269,82263,93257,134386,145380,167368,189356,208501,219495,230489,263471,274465,282612,293606,304600,356727,367721,389709,411697,422691,441832,463820,485808,504953,537935,559923,579064,590058,612046,623040,634034,664173,686161,697155,708149,738284,771266,782260,812399,834387,845381,856375,886510,897504,908498,919492,930486,960625,971619,982613,1004601,1045730],[1.0,2.0,5.0,9.0,7.0,1.0,2.0,5.0,12.0,8.0,7.0,5.0,5.0,1.0,3.0,57.0,1.0,5.0,3.0,1.0,2.0,8.0,19.0,2.0,11.0,7.0,22.0,2.0,4.0,13.0,3.0,2.0,6.0,7.0,5.0,5.0,4.0,2.0,4.0,4.0,4.0,9.0,5.0,5.0,2.0,6.0,3.0,13.0,10.0,8.0,4.0,4.0,4.0,11.0,4.0,2.0]))\n"
     ]
    }
   ],
   "source": [
    "print training.first()"
   ]
  },
  {
   "cell_type": "code",
   "execution_count": 25,
   "metadata": {
    "collapsed": false
   },
   "outputs": [],
   "source": [
    "from pyspark.mllib.classification import NaiveBayes, NaiveBayesModel\n",
    "# Train a naive Bayes model.\n",
    "model = NaiveBayes.train(training, 1.0)\n",
    "\n",
    "# Make prediction and test accuracy.\n",
    "predictionAndLabel = testing.map(lambda p : (model.predict(p.features), p.label))\n",
    "accuracy = 1.0 * predictionAndLabel.filter(lambda (x, v): x == v).count() / testing.count()\n",
    "\n"
   ]
  },
  {
   "cell_type": "code",
   "execution_count": 34,
   "metadata": {
    "collapsed": false
   },
   "outputs": [
    {
     "name": "stdout",
     "output_type": "stream",
     "text": [
      "0.842105263158\n"
     ]
    }
   ],
   "source": [
    "tp = float(predictionAndLabel.filter(lambda (x, v): x == 1 and x == v).count())\n",
    "fp =  float(predictionAndLabel.filter(lambda (x, v): x == 1 and x != v).count())\n",
    "precision = tp / (tp + fp)\n",
    "print precision"
   ]
  },
  {
   "cell_type": "code",
   "execution_count": 29,
   "metadata": {
    "collapsed": false
   },
   "outputs": [
    {
     "name": "stdout",
     "output_type": "stream",
     "text": [
      "0.876984126984\n"
     ]
    }
   ],
   "source": [
    "print accuracy"
   ]
  },
  {
   "cell_type": "code",
   "execution_count": 30,
   "metadata": {
    "collapsed": false
   },
   "outputs": [
    {
     "name": "stdout",
     "output_type": "stream",
     "text": [
      "0.838461538462\n"
     ]
    }
   ],
   "source": [
    "predictionAndLabel = testing.map(lambda p : (model.predict(p.features), p.label))\n",
    "count = testing.filter(lambda p: p.label == 0).count()\n",
    "\n",
    "accuracy = 1.0 * predictionAndLabel.filter(lambda (x, v): x == v and v == 0).count() / count\n",
    "print accuracy"
   ]
  },
  {
   "cell_type": "code",
   "execution_count": 31,
   "metadata": {
    "collapsed": false
   },
   "outputs": [
    {
     "data": {
      "text/plain": [
       "357"
      ]
     },
     "execution_count": 31,
     "metadata": {},
     "output_type": "execute_result"
    }
   ],
   "source": [
    "predictionAndLabel.filter(lambda (x, v): x == 0).count()"
   ]
  },
  {
   "cell_type": "code",
   "execution_count": 32,
   "metadata": {
    "collapsed": false,
    "scrolled": true
   },
   "outputs": [
    {
     "name": "stdout",
     "output_type": "stream",
     "text": [
      "0.918032786885\n"
     ]
    }
   ],
   "source": [
    "predictionAndLabel = testing.map(lambda p : (model.predict(p.features), p.label))\n",
    "count = testing.filter(lambda p: p.label == 1).count()\n",
    "\n",
    "accuracy = 1.0 * predictionAndLabel.filter(lambda (x, v): x == v and v == 1).count() / count\n",
    "print accuracy"
   ]
  },
  {
   "cell_type": "code",
   "execution_count": 33,
   "metadata": {
    "collapsed": false
   },
   "outputs": [
    {
     "data": {
      "text/plain": [
       "399"
      ]
     },
     "execution_count": 33,
     "metadata": {},
     "output_type": "execute_result"
    }
   ],
   "source": [
    "predictionAndLabel.filter(lambda (x, v): x == 1).count()"
   ]
  },
  {
   "cell_type": "code",
   "execution_count": null,
   "metadata": {
    "collapsed": true
   },
   "outputs": [],
   "source": []
  }
 ],
 "metadata": {
  "kernelspec": {
   "display_name": "Python 2",
   "language": "python",
   "name": "python2"
  },
  "language_info": {
   "codemirror_mode": {
    "name": "ipython",
    "version": 2
   },
   "file_extension": ".py",
   "mimetype": "text/x-python",
   "name": "python",
   "nbconvert_exporter": "python",
   "pygments_lexer": "ipython2",
   "version": "2.7.6"
  }
 },
 "nbformat": 4,
 "nbformat_minor": 0
}
