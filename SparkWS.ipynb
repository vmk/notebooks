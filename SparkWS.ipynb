{
 "cells": [
  {
   "cell_type": "code",
   "execution_count": 1,
   "metadata": {
    "collapsed": false
   },
   "outputs": [],
   "source": [
    "import os\n",
    "os.environ['PYSPARK_PYTHON'] = '/opt/conda/envs/python2/bin/python2'\n",
    "\n",
    "from pyspark import SparkConf, SparkContext\n",
    "sconf = SparkConf()\n",
    "sconf.set(\"spark.driver.memory\", \"32g\")\n",
    "sconf.setMaster(\"local[*]\")\n",
    "sc = SparkContext(conf=sconf)"
   ]
  },
  {
   "cell_type": "code",
   "execution_count": 2,
   "metadata": {
    "collapsed": true
   },
   "outputs": [],
   "source": [
    "from pyspark.sql import SQLContext\n",
    "sqlCtx = SQLContext(sc)"
   ]
  },
  {
   "cell_type": "code",
   "execution_count": 3,
   "metadata": {
    "collapsed": false
   },
   "outputs": [
    {
     "data": {
      "text/plain": [
       "'1.10.1'"
      ]
     },
     "execution_count": 3,
     "metadata": {},
     "output_type": "execute_result"
    }
   ],
   "source": [
    "import numpy ; numpy.version.version"
   ]
  },
  {
   "cell_type": "code",
   "execution_count": 4,
   "metadata": {
    "collapsed": false
   },
   "outputs": [],
   "source": [
    "data = sqlCtx.read.json('20newsgroups.labelled.json.gz')"
   ]
  },
  {
   "cell_type": "code",
   "execution_count": 5,
   "metadata": {
    "collapsed": false
   },
   "outputs": [
    {
     "name": "stdout",
     "output_type": "stream",
     "text": [
      "root\n",
      " |-- approved: string (nullable = true)\n",
      " |-- article-id: string (nullable = true)\n",
      " |-- content: string (nullable = true)\n",
      " |-- date: string (nullable = true)\n",
      " |-- distribution: string (nullable = true)\n",
      " |-- followup-to: string (nullable = true)\n",
      " |-- from: string (nullable = true)\n",
      " |-- in-reply-to: string (nullable = true)\n",
      " |-- keywords: string (nullable = true)\n",
      " |-- label: string (nullable = true)\n",
      " |-- lines: string (nullable = true)\n",
      " |-- message-id: string (nullable = true)\n",
      " |-- newsgroups: string (nullable = true)\n",
      " |-- nntp-posting-host: string (nullable = true)\n",
      " |-- organization: string (nullable = true)\n",
      " |-- originator: string (nullable = true)\n",
      " |-- path: string (nullable = true)\n",
      " |-- references: string (nullable = true)\n",
      " |-- reply-to: string (nullable = true)\n",
      " |-- sender: string (nullable = true)\n",
      " |-- subject: string (nullable = true)\n",
      " |-- summary: string (nullable = true)\n",
      " |-- x-newsreader: string (nullable = true)\n",
      " |-- xref: string (nullable = true)\n",
      "\n"
     ]
    }
   ],
   "source": [
    "data.printSchema()"
   ]
  },
  {
   "cell_type": "code",
   "execution_count": 6,
   "metadata": {
    "collapsed": false
   },
   "outputs": [
    {
     "name": "stdout",
     "output_type": "stream",
     "text": [
      "[Row(labelCount=20)]\n"
     ]
    }
   ],
   "source": [
    "data.registerTempTable('newsgroups')\n",
    "docs = sqlCtx.sql(\"SELECT label, content FROM newsgroups\")\n",
    "labelsDistinct = sqlCtx.sql(\"SELECT DISTINCT(label) FROM newsgroups\")\n",
    "print sqlCtx.sql(\"SELECT COUNT(DISTINCT(label)) as labelCount FROM newsgroups\").collect()"
   ]
  },
  {
   "cell_type": "code",
   "execution_count": 7,
   "metadata": {
    "collapsed": false
   },
   "outputs": [
    {
     "name": "stdout",
     "output_type": "stream",
     "text": [
      "20\n"
     ]
    },
    {
     "data": {
      "text/html": [
       "<table><thead><tr><th>Label</th></tr></thead><tbody><tr><td>rec.sport.hockey</td></tr><tr><td>sci.electronics</td></tr><tr><td>sci.med</td></tr><tr><td>rec.autos</td></tr><tr><td>comp.sys.mac.hardware</td></tr><tr><td>comp.windows.x</td></tr><tr><td>rec.sport.baseball</td></tr><tr><td>comp.sys.ibm.pc.hardware</td></tr><tr><td>misc.forsale</td></tr><tr><td>rec.motorcycles</td></tr><tr><td>sci.crypt</td></tr><tr><td>talk.politics.misc</td></tr><tr><td>comp.graphics</td></tr><tr><td>alt.atheism</td></tr><tr><td>talk.politics.mideast</td></tr><tr><td>soc.religion.christian</td></tr><tr><td>talk.politics.guns</td></tr><tr><td>comp.os.ms-windows.misc</td></tr><tr><td>sci.space</td></tr><tr><td>talk.religion.misc</td></tr></tbody></table>"
      ],
      "text/plain": [
       "<IPython.core.display.HTML object>"
      ]
     },
     "metadata": {},
     "output_type": "display_data"
    }
   ],
   "source": [
    "print labelsDistinct.count()\n",
    "labelList = labelsDistinct.map(lambda r: str(r.label)).collect()\n",
    "sc.broadcast(labelList)\n",
    "from IPython.display import display, HTML\n",
    "th = \"<th>Label</th>\"\n",
    "td = [\"<tr><td>\" + d + \"</td></tr>\" for d in labelList]\n",
    "display(HTML(\"<table><thead><tr>\" + \"\".join(th) + \"</tr></thead><tbody>\" + \"\".join(td) + \"</tbody></table>\"))"
   ]
  },
  {
   "cell_type": "code",
   "execution_count": 8,
   "metadata": {
    "collapsed": false
   },
   "outputs": [
    {
     "data": {
      "text/html": [
       "<table><thead><tr><th>ID</th><th>Label</th><th>Messages</th></tr></thead><tbody><tr><td>9</td><td>rec.motorcycles</td><td>1000</tr><tr><td>4</td><td>comp.sys.mac.hardware</td><td>1000</tr><tr><td>11</td><td>talk.politics.misc</td><td>1000</tr><tr><td>15</td><td>soc.religion.christian</td><td>997</tr><tr><td>12</td><td>comp.graphics</td><td>1000</tr><tr><td>19</td><td>talk.religion.misc</td><td>1000</tr><tr><td>5</td><td>comp.windows.x</td><td>1000</tr><tr><td>7</td><td>comp.sys.ibm.pc.hardware</td><td>1000</tr><tr><td>16</td><td>talk.politics.guns</td><td>1000</tr><tr><td>13</td><td>alt.atheism</td><td>1000</tr><tr><td>2</td><td>sci.med</td><td>1000</tr><tr><td>10</td><td>sci.crypt</td><td>1000</tr><tr><td>18</td><td>sci.space</td><td>1000</tr><tr><td>8</td><td>misc.forsale</td><td>1000</tr><tr><td>0</td><td>rec.sport.hockey</td><td>1000</tr><tr><td>6</td><td>rec.sport.baseball</td><td>1000</tr><tr><td>1</td><td>sci.electronics</td><td>1000</tr><tr><td>17</td><td>comp.os.ms-windows.misc</td><td>1000</tr><tr><td>3</td><td>rec.autos</td><td>1000</tr><tr><td>14</td><td>talk.politics.mideast</td><td>1000</tr></tbody></table>"
      ],
      "text/plain": [
       "<IPython.core.display.HTML object>"
      ]
     },
     "metadata": {},
     "output_type": "display_data"
    }
   ],
   "source": [
    "labels = sqlCtx.sql(\"SELECT label FROM newsgroups\")\n",
    "labelCounts = labels.map(lambda r: (str(r.label), 1)).reduceByKey(lambda v1, v2: v1 + v2).collect()\n",
    "\n",
    "from IPython.display import display, HTML\n",
    "th = \"<th>ID</th><th>Label</th><th>Messages</th>\"\n",
    "td = [\"<tr><td>\" + str(labelList.index(l)) +\"</td><td>\" + l + \"</td><td>\" + str(m) +\"</tr>\" for (l,m) in labelCounts]\n",
    "display(HTML(\"<table><thead><tr>\" + \"\".join(th) + \"</tr></thead><tbody>\" + \"\".join(td) + \"</tbody></table>\"))"
   ]
  },
  {
   "cell_type": "code",
   "execution_count": 22,
   "metadata": {
    "collapsed": false
   },
   "outputs": [
    {
     "name": "stdout",
     "output_type": "stream",
     "text": [
      "(1048576,[8148,19142,30136,60275,71269,82263,93257,104251,115245,134386,145380,156374,167368,178362,189356,208501,219495,230489,241483,252477,263471,274465,282612,293606,304600,315594,337582,356727,367721,375612,378715,389709,400703,411697,422691,430838,441832,463820,485808,496802,504953,515947,523838,537935,548929,559923,570917,579064,590058,612046,623040,634034,653179,664173,686161,697155,708149,738284,741131,760272,771266,782260,793254,812399,834387,845381,856375,867369,886510,897504,908498,919492,930486,935534,941480,960625,971619,982613,993607,1004601,1034736,1045730],[23.0,33.0,31.0,485.0,269.0,9.0,41.0,26.0,117.0,572.0,890.0,21.0,51.0,3.0,65.0,632.0,164.0,5.0,11.0,1.0,146.0,1960.0,189.0,129.0,4.0,18.0,4.0,76.0,363.0,1.0,3.0,29.0,1.0,53.0,91.0,99.0,661.0,36.0,63.0,1.0,26.0,4.0,1.0,46.0,2.0,40.0,2.0,122.0,56.0,32.0,98.0,18.0,11.0,319.0,40.0,49.0,32.0,199.0,291.0,1.0,45.0,24.0,19.0,562.0,52.0,38.0,18.0,25.0,616.0,586.0,58.0,48.0,41.0,1.0,25.0,137.0,108.0,60.0,28.0,32.0,7.0,227.0])\n"
     ]
    }
   ],
   "source": [
    "from pyspark.mllib.feature import HashingTF\n",
    "htf = HashingTF()\n",
    "labels = docs.map(lambda r: (labelList.index(r.label)))\n",
    "tfDocs = htf.transform(docs.map(lambda r: r.content.encode('utf-8')))\n",
    "tfDocs.cache()\n",
    "print tfDocs.first()"
   ]
  },
  {
   "cell_type": "code",
   "execution_count": 23,
   "metadata": {
    "collapsed": false
   },
   "outputs": [
    {
     "name": "stdout",
     "output_type": "stream",
     "text": [
      "(1048576,[8148,19142,30136,60275,71269,82263,93257,104251,115245,134386,145380,156374,167368,178362,189356,208501,219495,230489,241483,252477,263471,274465,282612,293606,304600,315594,337582,356727,367721,375612,378715,389709,400703,411697,422691,430838,441832,463820,485808,496802,504953,515947,523838,537935,548929,559923,570917,579064,590058,612046,623040,634034,653179,664173,686161,697155,708149,738284,741131,760272,771266,782260,793254,812399,834387,845381,856375,867369,886510,897504,908498,919492,930486,935534,941480,960625,971619,982613,993607,1004601,1034736,1045730],[16.4658488032,19.2724426797,17.6080522841,2.40695283093,2.16087114383,9.94711346486,17.1408894998,6.35426667785,7.3834102957,2.78122806646,3.70155620884,8.33127780896,2.4206340085,5.33682207546,10.4731668274,2.66025648347,3.26337720704,8.36405165195,8.73492091711,0.709481482023,1.51175012391,4.61188227504,1.89015822685,2.55376484612,3.73589158668,16.6292090246,4.16021885638,3.43605254593,3.00747370688,5.76025282114,7.13324271748,16.4234662606,0.457896005121,20.1394592292,63.2038954534,2.19747626983,3.47974030672,10.0327824101,18.0966737487,2.36969383769,8.88018535027,2.13802458972,5.76025282114,20.7732460058,0.423094762351,15.2054419625,3.60463208883,2.14791029847,2.34755495869,15.4958715508,15.5488061637,7.56496288518,8.75684783467,2.38568632691,16.4352113518,18.4942580708,17.1260509102,2.51350680822,0.538902528949,2.10980074416,10.8371572249,11.0883557478,4.15961358524,2.53496144723,23.7859360307,12.3371208763,11.0562479124,5.03969685711,3.18091599966,2.43720442515,10.8852313436,22.4786353383,29.7441497394,5.76025282114,4.80831238861,2.5375577205,3.37904657006,8.08822544787,16.7188233663,21.0272335612,5.38496337091,2.568481804])\n",
      "(13, SparseVector(1048576, {8148: 16.4658, 19142: 19.2724, 30136: 17.6081, 60275: 2.407, 71269: 2.1609, 82263: 9.9471, 93257: 17.1409, 104251: 6.3543, 115245: 7.3834, 134386: 2.7812, 145380: 3.7016, 156374: 8.3313, 167368: 2.4206, 178362: 5.3368, 189356: 10.4732, 208501: 2.6603, 219495: 3.2634, 230489: 8.3641, 241483: 8.7349, 252477: 0.7095, 263471: 1.5118, 274465: 4.6119, 282612: 1.8902, 293606: 2.5538, 304600: 3.7359, 315594: 16.6292, 337582: 4.1602, 356727: 3.4361, 367721: 3.0075, 375612: 5.7603, 378715: 7.1332, 389709: 16.4235, 400703: 0.4579, 411697: 20.1395, 422691: 63.2039, 430838: 2.1975, 441832: 3.4797, 463820: 10.0328, 485808: 18.0967, 496802: 2.3697, 504953: 8.8802, 515947: 2.138, 523838: 5.7603, 537935: 20.7732, 548929: 0.4231, 559923: 15.2054, 570917: 3.6046, 579064: 2.1479, 590058: 2.3476, 612046: 15.4959, 623040: 15.5488, 634034: 7.565, 653179: 8.7568, 664173: 2.3857, 686161: 16.4352, 697155: 18.4943, 708149: 17.1261, 738284: 2.5135, 741131: 0.5389, 760272: 2.1098, 771266: 10.8372, 782260: 11.0884, 793254: 4.1596, 812399: 2.535, 834387: 23.7859, 845381: 12.3371, 856375: 11.0562, 867369: 5.0397, 886510: 3.1809, 897504: 2.4372, 908498: 10.8852, 919492: 22.4786, 930486: 29.7441, 935534: 5.7603, 941480: 4.8083, 960625: 2.5376, 971619: 3.379, 982613: 8.0882, 993607: 16.7188, 1004601: 21.0272, 1034736: 5.385, 1045730: 2.5685}))\n"
     ]
    }
   ],
   "source": [
    "from pyspark.mllib.feature import IDF\n",
    "hidf = IDF()\n",
    "hidf = hidf.fit(tfDocs)\n",
    "tfIdfDocs = hidf.transform(tfDocs)\n",
    "print tfIdfDocs.first()\n",
    "\n",
    "featureAndLabelData = labels.zip(tfIdfDocs)\n",
    "\n",
    "print featureAndLabelData.first()\n"
   ]
  },
  {
   "cell_type": "code",
   "execution_count": 24,
   "metadata": {
    "collapsed": false
   },
   "outputs": [],
   "source": [
    "from pyspark.mllib.regression import LabeledPoint\n",
    "inputData = featureAndLabelData.map(lambda (c,v): LabeledPoint(c,v))"
   ]
  },
  {
   "cell_type": "code",
   "execution_count": 25,
   "metadata": {
    "collapsed": false
   },
   "outputs": [
    {
     "name": "stdout",
     "output_type": "stream",
     "text": [
      "16320\n"
     ]
    }
   ],
   "source": [
    "training, testing, validation = inputData.randomSplit([0.9,0.1,0.1], 5)\n",
    "training.cache()\n",
    "print training.count()"
   ]
  },
  {
   "cell_type": "code",
   "execution_count": 26,
   "metadata": {
    "collapsed": false
   },
   "outputs": [],
   "source": [
    "from pyspark.mllib.classification import NaiveBayes, NaiveBayesModel\n",
    "# Train a naive Bayes model.\n",
    "model = NaiveBayes.train(training, 1.0)\n",
    "\n",
    "# Make prediction and test accuracy.\n",
    "#predictionAndLabel = testing.map(lambda p : (model.predict(p.features), p.label))\n",
    "#accuracy = 1.0 * predictionAndLabel.filter(lambda (x, v): x == v).count() / testing.count()"
   ]
  },
  {
   "cell_type": "code",
   "execution_count": 27,
   "metadata": {
    "collapsed": false
   },
   "outputs": [
    {
     "name": "stdout",
     "output_type": "stream",
     "text": [
      "0.0577777777778\n"
     ]
    }
   ],
   "source": [
    "predictionAndLabel = testing.map(lambda p : (model.predict(p.features), p.label))\n",
    "accuracy = 1.0 * predictionAndLabel.filter(lambda (x, v): x == v).count() / testing.count()\n",
    "print accuracy"
   ]
  },
  {
   "cell_type": "code",
   "execution_count": null,
   "metadata": {
    "collapsed": true
   },
   "outputs": [],
   "source": []
  }
 ],
 "metadata": {
  "kernelspec": {
   "display_name": "Python 2",
   "language": "python",
   "name": "python2"
  },
  "language_info": {
   "codemirror_mode": {
    "name": "ipython",
    "version": 2
   },
   "file_extension": ".py",
   "mimetype": "text/x-python",
   "name": "python",
   "nbconvert_exporter": "python",
   "pygments_lexer": "ipython2",
   "version": "2.7.11"
  }
 },
 "nbformat": 4,
 "nbformat_minor": 0
}
