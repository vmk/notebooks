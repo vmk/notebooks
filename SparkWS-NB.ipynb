{
 "cells": [
  {
   "cell_type": "code",
   "execution_count": 1,
   "metadata": {
    "collapsed": false
   },
   "outputs": [],
   "source": [
    "import os\n",
    "os.environ['PYSPARK_PYTHON'] = '/opt/conda/envs/python2/bin/python2'\n",
    "\n",
    "from pyspark import SparkConf, SparkContext\n",
    "sconf = SparkConf()\n",
    "sconf.setMaster(\"local[*]\")\n",
    "sc = SparkContext(conf=sconf)"
   ]
  },
  {
   "cell_type": "code",
   "execution_count": 2,
   "metadata": {
    "collapsed": true
   },
   "outputs": [],
   "source": [
    "from pyspark.sql import SQLContext\n",
    "sqlCtx = SQLContext(sc)"
   ]
  },
  {
   "cell_type": "code",
   "execution_count": 3,
   "metadata": {
    "collapsed": false
   },
   "outputs": [],
   "source": [
    "data = sqlCtx.read.json('../notebook_data/20newsgroups.labelled.json.gz')"
   ]
  },
  {
   "cell_type": "code",
   "execution_count": 4,
   "metadata": {
    "collapsed": false
   },
   "outputs": [
    {
     "name": "stdout",
     "output_type": "stream",
     "text": [
      "root\n",
      " |-- approved: string (nullable = true)\n",
      " |-- article-id: string (nullable = true)\n",
      " |-- content: string (nullable = true)\n",
      " |-- date: string (nullable = true)\n",
      " |-- distribution: string (nullable = true)\n",
      " |-- followup-to: string (nullable = true)\n",
      " |-- from: string (nullable = true)\n",
      " |-- in-reply-to: string (nullable = true)\n",
      " |-- keywords: string (nullable = true)\n",
      " |-- label: string (nullable = true)\n",
      " |-- lines: string (nullable = true)\n",
      " |-- message-id: string (nullable = true)\n",
      " |-- newsgroups: string (nullable = true)\n",
      " |-- nntp-posting-host: string (nullable = true)\n",
      " |-- organization: string (nullable = true)\n",
      " |-- originator: string (nullable = true)\n",
      " |-- path: string (nullable = true)\n",
      " |-- references: string (nullable = true)\n",
      " |-- reply-to: string (nullable = true)\n",
      " |-- sender: string (nullable = true)\n",
      " |-- subject: string (nullable = true)\n",
      " |-- summary: string (nullable = true)\n",
      " |-- x-newsreader: string (nullable = true)\n",
      " |-- xref: string (nullable = true)\n",
      "\n"
     ]
    }
   ],
   "source": [
    "data.printSchema()"
   ]
  },
  {
   "cell_type": "code",
   "execution_count": 5,
   "metadata": {
    "collapsed": false
   },
   "outputs": [
    {
     "name": "stdout",
     "output_type": "stream",
     "text": [
      "[Row(labelCount=20)]\n"
     ]
    }
   ],
   "source": [
    "data.registerTempTable('newsgroups')\n",
    "docs = sqlCtx.sql(\"SELECT label, content FROM newsgroups\")\n",
    "labelsDistinct = sqlCtx.sql(\"SELECT DISTINCT(label) FROM newsgroups\")\n",
    "print sqlCtx.sql(\"SELECT COUNT(DISTINCT(label)) as labelCount FROM newsgroups\").collect()"
   ]
  },
  {
   "cell_type": "code",
   "execution_count": 6,
   "metadata": {
    "collapsed": false
   },
   "outputs": [
    {
     "name": "stdout",
     "output_type": "stream",
     "text": [
      "20\n"
     ]
    },
    {
     "data": {
      "text/html": [
       "<table><thead><tr><th>Label</th></tr></thead><tbody><tr><td>rec.sport.hockey</td></tr><tr><td>sci.electronics</td></tr><tr><td>sci.med</td></tr><tr><td>rec.autos</td></tr><tr><td>comp.sys.mac.hardware</td></tr><tr><td>comp.windows.x</td></tr><tr><td>rec.sport.baseball</td></tr><tr><td>comp.sys.ibm.pc.hardware</td></tr><tr><td>misc.forsale</td></tr><tr><td>rec.motorcycles</td></tr><tr><td>sci.crypt</td></tr><tr><td>talk.politics.misc</td></tr><tr><td>comp.graphics</td></tr><tr><td>alt.atheism</td></tr><tr><td>talk.politics.mideast</td></tr><tr><td>soc.religion.christian</td></tr><tr><td>talk.politics.guns</td></tr><tr><td>comp.os.ms-windows.misc</td></tr><tr><td>sci.space</td></tr><tr><td>talk.religion.misc</td></tr></tbody></table>"
      ],
      "text/plain": [
       "<IPython.core.display.HTML object>"
      ]
     },
     "metadata": {},
     "output_type": "display_data"
    }
   ],
   "source": [
    "print labelsDistinct.count()\n",
    "labelList = labelsDistinct.map(lambda r: r.label.encode('utf-8')).collect()\n",
    "sc.broadcast(labelList)\n",
    "from IPython.display import display, HTML\n",
    "th = \"<th>Label</th>\"\n",
    "td = [\"<tr><td>\" + d + \"</td></tr>\" for d in labelList]\n",
    "display(HTML(\"<table><thead><tr>\" + \"\".join(th) + \"</tr></thead><tbody>\" + \"\".join(td) + \"</tbody></table>\"))"
   ]
  },
  {
   "cell_type": "code",
   "execution_count": 7,
   "metadata": {
    "collapsed": false
   },
   "outputs": [
    {
     "data": {
      "text/html": [
       "<table><thead><tr><th>ID</th><th>Label</th><th>Messages</th></tr></thead><tbody><tr><td>9</td><td>rec.motorcycles</td><td>1000</tr><tr><td>4</td><td>comp.sys.mac.hardware</td><td>1000</tr><tr><td>11</td><td>talk.politics.misc</td><td>1000</tr><tr><td>15</td><td>soc.religion.christian</td><td>997</tr><tr><td>12</td><td>comp.graphics</td><td>1000</tr><tr><td>19</td><td>talk.religion.misc</td><td>1000</tr><tr><td>5</td><td>comp.windows.x</td><td>1000</tr><tr><td>7</td><td>comp.sys.ibm.pc.hardware</td><td>1000</tr><tr><td>16</td><td>talk.politics.guns</td><td>1000</tr><tr><td>13</td><td>alt.atheism</td><td>1000</tr><tr><td>2</td><td>sci.med</td><td>1000</tr><tr><td>10</td><td>sci.crypt</td><td>1000</tr><tr><td>18</td><td>sci.space</td><td>1000</tr><tr><td>8</td><td>misc.forsale</td><td>1000</tr><tr><td>0</td><td>rec.sport.hockey</td><td>1000</tr><tr><td>6</td><td>rec.sport.baseball</td><td>1000</tr><tr><td>1</td><td>sci.electronics</td><td>1000</tr><tr><td>17</td><td>comp.os.ms-windows.misc</td><td>1000</tr><tr><td>3</td><td>rec.autos</td><td>1000</tr><tr><td>14</td><td>talk.politics.mideast</td><td>1000</tr></tbody></table>"
      ],
      "text/plain": [
       "<IPython.core.display.HTML object>"
      ]
     },
     "metadata": {},
     "output_type": "display_data"
    }
   ],
   "source": [
    "labels = sqlCtx.sql(\"SELECT label FROM newsgroups\")\n",
    "labelCounts = labels.map(lambda r: (str(r.label), 1)).reduceByKey(lambda v1, v2: v1 + v2).collect()\n",
    "\n",
    "from IPython.display import display, HTML\n",
    "th = \"<th>ID</th><th>Label</th><th>Messages</th>\"\n",
    "td = [\"<tr><td>\" + str(labelList.index(l)) +\"</td><td>\" + l + \"</td><td>\" + str(m) +\"</tr>\" for (l,m) in labelCounts]\n",
    "display(HTML(\"<table><thead><tr>\" + \"\".join(th) + \"</tr></thead><tbody>\" + \"\".join(td) + \"</tbody></table>\"))"
   ]
  },
  {
   "cell_type": "code",
   "execution_count": 8,
   "metadata": {
    "collapsed": false
   },
   "outputs": [
    {
     "name": "stdout",
     "output_type": "stream",
     "text": [
      "[(13, 'alt.atheism', 'Archive-name: atheism/resources Alt-atheism-archive-name: resources Last-modified: 11 December 1992 Version: 1.0 Atheist Resources Addresses of Atheist Organizations USA FREEDOM FROM RELIGION FOUNDATION Darwin fish bumper stickers and assorted other atheist paraphernalia are available from the Freedom From Religion Foundation in the US. Write to: FFRF, P.O. Box 750, Madison, WI 53701. Telephone: (608) 256-8900 EVOLUTION DESIGNS Evolution Designs sell the \"Darwin fish\". It\\'s a fish symbol, like the ones Christians stick on their cars, but with feet and the word \"Darwin\" written inside. The deluxe moulded 3D plastic fish is $4.95 postpaid in the US. Write to: Evolution Designs, 7119 Laurel Canyon #4, North Hollywood, CA 91605. People in the San Francisco Bay area can get Darwin Fish from Lynn Gold -- try mailing <figmo@netcom.com>. For net people who go to Lynn directly, the price is $4.95 per fish. AMERICAN ATHEIST PRESS AAP publish various atheist books -- critiques of the Bible, lists of Biblical contradictions, and so on. One such book is: \"The Bible Handbook\" by W.P. Ball and G.W. Foote. American Atheist Press. 372 pp. ISBN 0-910309-26-4, 2nd edition, 1986. Bible contradictions, absurdities, atrocities, immoralities... contains Ball, Foote: \"The Bible Contradicts Itself\", AAP. Based on the King James version of the Bible. Write to: American Atheist Press, P.O. Box 140195, Austin, TX 78714-0195. or: 7215 Cameron Road, Austin, TX 78752-2973. Telephone: (512) 458-1244 Fax: (512) 467-9525 PROMETHEUS BOOKS Sell books including Haught\\'s \"Holy Horrors\" (see below). Write to: 700 East Amherst Street, Buffalo, New York 14215. Telephone: (716) 837-2475. An alternate address (which may be newer or older) is: Prometheus Books, 59 Glenn Drive, Buffalo, NY 14228-2197. AFRICAN-AMERICANS FOR HUMANISM An organization promoting black secular humanism and uncovering the history of black freethought. They publish a quarterly newsletter, AAH EXAMINER. Write to: Norm R. Allen, Jr., African Americans for Humanism, P.O. Box 664, Buffalo, NY 14226. United Kingdom Rationalist Press Association National Secular Society 88 Islington High Street 702 Holloway Road London N1 8EW London N19 3NL 071 226 7251 071 272 1266 British Humanist Association South Place Ethical Society 14 Lamb\\'s Conduit Passage Conway Hall London WC1R 4RH Red Lion Square 071 430 0908 London WC1R 4RL fax 071 430 1271 071 831 7723 The National Secular Society publish \"The Freethinker\", a monthly magazine founded in 1881. Germany IBKA e.V. Internationaler Bund der Konfessionslosen und Atheisten Postfach 880, D-1000 Berlin 41. Germany. IBKA publish a journal: MIZ. (Materialien und Informationen zur Zeit. Politisches Journal der Konfessionslosesn und Atheisten. Hrsg. IBKA e.V.) MIZ-Vertrieb, Postfach 880, D-1000 Berlin 41. Germany. For atheist books, write to: IBDK, Internationaler B\"ucherdienst der Konfessionslosen Postfach 3005, D-3000 Hannover 1. Germany. Telephone: 0511/211216 Books -- Fiction THOMAS M. DISCH \"The Santa Claus Compromise\" Short story. The ultimate proof that Santa exists. All characters and events are fictitious. Any similarity to living or dead gods -- uh, well... WALTER M. MILLER, JR \"A Canticle for Leibowitz\" One gem in this post atomic doomsday novel is the monks who spent their lives copying blueprints from \"Saint Leibowitz\", filling the sheets of paper with ink and leaving white lines and letters. EDGAR PANGBORN \"Davy\" Post atomic doomsday novel set in clerical states. The church, for example, forbids that anyone \"produce, describe or use any substance containing... atoms\". PHILIP K. DICK Philip K. Dick Dick wrote many philosophical and thought-provoking short stories and novels. His stories are bizarre at times, but very approachable. He wrote mainly SF, but he wrote about people, truth and religion rather than technology. Although he often believed that he had met some sort of God, he remained sceptical. Amongst his novels, the following are of some relevance: \"Galactic Pot-Healer\" A fallible alien deity summons a group of Earth craftsmen and women to a remote planet to raise a giant cathedral from beneath the oceans. When the deity begins to demand faith from the earthers, pot-healer Joe Fernwright is unable to comply. A polished, ironic and amusing novel. \"A Maze of Death\" Noteworthy for its description of a technology-based religion. \"VALIS\" The schizophrenic hero searches for the hidden mysteries of Gnostic Christianity after reality is fired into his brain by a pink laser beam of unknown but possibly divine origin. He is accompanied by his dogmatic and dismissively atheist friend and assorted other odd characters. \"The Divine Invasion\" God invades Earth by making a young woman pregnant as she returns from another star system. Unfortunately she is terminally ill, and must be assisted by a dead man whose brain is wired to 24-hour easy listening music. MARGARET ATWOOD \"The Handmaid\\'s Tale\" A story based on the premise that the US Congress is mysteriously assassinated, and fundamentalists quickly take charge of the nation to set it \"right\" again. The book is the diary of a woman\\'s life as she tries to live under the new Christian theocracy. Women\\'s right to own property is revoked, and their bank accounts are closed; sinful luxuries are outlawed, and the radio is only used for readings from the Bible. Crimes are punished retroactively: doctors who performed legal abortions in the \"old world\" are hunted down and hanged. Atwood\\'s writing style is difficult to get used to at first, but the tale grows more and more chilling as it goes on. VARIOUS AUTHORS \"The Bible\" This somewhat dull and rambling work has often been criticized. However, it is probably worth reading, if only so that you\\'ll know what all the fuss is about. It exists in many different versions, so make sure you get the one true version. Books -- Non-fiction PETER DE ROSA \"Vicars of Christ\", Bantam Press, 1988 Although de Rosa seems to be Christian or even Catholic this is a very enlighting history of papal immoralities, adulteries, fallacies etc. (German translation: \"Gottes erste Diener. Die dunkle Seite des Papsttums\", Droemer-Knaur, 1989) MICHAEL MARTIN \"Atheism: A Philosophical Justification\", Temple University Press, Philadelphia, USA. A detailed and scholarly justification of atheism. Contains an outstanding appendix defining terminology and usage in this (necessarily) tendentious area. Argues both for \"negative atheism\" (i.e. the \"non-belief in the existence of god(s)\") and also for \"positive atheism\" (\"the belief in the non-existence of god(s)\"). Includes great refutations of the most challenging arguments for god; particular attention is paid to refuting contempory theists such as Platinga and Swinburne. 541 pages. ISBN 0-87722-642-3 (hardcover; paperback also available) \"The Case Against Christianity\", Temple University Press A comprehensive critique of Christianity, in which he considers the best contemporary defences of Christianity and (ultimately) demonstrates that they are unsupportable and/or incoherent. 273 pages. ISBN 0-87722-767-5 JAMES TURNER \"Without God, Without Creed\", The Johns Hopkins University Press, Baltimore, MD, USA Subtitled \"The Origins of Unbelief in America\". Examines the way in which unbelief (whether agnostic or atheistic) became a mainstream alternative world-view. Focusses on the period 1770-1900, and while considering France and Britain the emphasis is on American, and particularly New England developments. \"Neither a religious history of secularization or atheism, Without God, Without Creed is, rather, the intellectual history of the fate of a single idea, the belief that God exists.\" 316 pages. ISBN (hardcover) 0-8018-2494-X (paper) 0-8018-3407-4 GEORGE SELDES (Editor) \"The great thoughts\", Ballantine Books, New York, USA A \"dictionary of quotations\" of a different kind, concentrating on statements and writings which, explicitly or implicitly, present the person\\'s philosophy and world-view. Includes obscure (and often suppressed) opinions from many people. For some popular observations, traces the way in which various people expressed and twisted the idea over the centuries. Quite a number of the quotations are derived from Cardiff\\'s \"What Great Men Think of Religion\" and Noyes\\' \"Views of Religion\". 490 pages. ISBN (paper) 0-345-29887-X. RICHARD SWINBURNE \"The Existence of God (Revised Edition)\", Clarendon Paperbacks, Oxford This book is the second volume in a trilogy that began with \"The Coherence of Theism\" (1977) and was concluded with \"Faith and Reason\" (1981). In this work, Swinburne attempts to construct a series of inductive arguments for the existence of God. His arguments, which are somewhat tendentious and rely upon the imputation of late 20th century western Christian values and aesthetics to a God which is supposedly as simple as can be conceived, were decisively rejected in Mackie\\'s \"The Miracle of Theism\". In the revised edition of \"The Existence of God\", Swinburne includes an Appendix in which he makes a somewhat incoherent attempt to rebut Mackie. J. L. MACKIE \"The Miracle of Theism\", Oxford This (posthumous) volume contains a comprehensive review of the principal arguments for and against the existence of God. It ranges from the classical philosophical positions of Descartes, Anselm, Berkeley, Hume et al, through the moral arguments of Newman, Kant and Sidgwick, to the recent restatements of the classical theses by Plantinga and Swinburne. It also addresses those positions which push the concept of God beyond the realm of the rational, such as those of Kierkegaard, Kung and Philips, as well as \"replacements for God\" such as Lelie\\'s axiarchism. The book is a delight to read - less formalistic and better written than Martin\\'s works, and refreshingly direct when compared with the hand-waving of Swinburne. JAMES A. HAUGHT \"Holy Horrors: An Illustrated History of Religious Murder and Madness\", Prometheus Books Looks at religious persecution from ancient times to the present day -- and not only by Christians. Library of Congress Catalog Card Number 89-64079. 1990. NORM R. ALLEN, JR. \"African American Humanism: an Anthology\" See the listing for African Americans for Humanism above. GORDON STEIN \"An Anthology of Atheism and Rationalism\", Prometheus Books An anthology covering a wide range of subjects, including \\'The Devil, Evil and Morality\\' and \\'The History of Freethought\\'. Comprehensive bibliography. EDMUND D. COHEN \"The Mind of The Bible-Believer\", Prometheus Books A study of why people become Christian fundamentalists, and what effect it has on them. Net Resources There\\'s a small mail-based archive server at mantis.co.uk which carries archives of old alt.atheism.moderated articles and assorted other files. For more information, send mail to archive-server@mantis.co.uk saying help send atheism/index and it will mail back a reply. mathew \\xef\\xbf\\xbd'), (13, 'alt.atheism', 'Archive-name: atheism/introduction Alt-atheism-archive-name: introduction Last-modified: 5 April 1993 Version: 1.2 -----BEGIN PGP SIGNED MESSAGE----- An Introduction to Atheism by mathew <mathew@mantis.co.uk> This article attempts to provide a general introduction to atheism. Whilst I have tried to be as neutral as possible regarding contentious issues, you should always remember that this document represents only one viewpoint. I would encourage you to read widely and draw your own conclusions; some relevant books are listed in a companion article. To provide a sense of cohesion and progression, I have presented this article as an imaginary conversation between an atheist and a theist. All the questions asked by the imaginary theist are questions which have been cropped up repeatedly on alt.atheism since the newsgroup was created. Some other frequently asked questions are answered in a companion article. Please note that this article is arguably slanted towards answering questions posed from a Christian viewpoint. This is because the FAQ files reflect questions which have actually been asked, and it is predominantly Christians who proselytize on alt.atheism. So when I talk of religion, I am talking primarily about religions such as Christianity, Judaism and Islam, which involve some sort of superhuman divine being. Much of the discussion will apply to other religions, but some of it may not. \"What is atheism?\" Atheism is characterized by an absence of belief in the existence of God. Some atheists go further, and believe that God does not exist. The former is often referred to as the \"weak atheist\" position, and the latter as \"strong atheism\". It is important to note the difference between these two positions. \"Weak atheism\" is simple scepticism; disbelief in the existence of God. \"Strong atheism\" is a positive belief that God does not exist. Please do not fall into the trap of assuming that all atheists are \"strong atheists\". Some atheists believe in the non-existence of all Gods; others limit their atheism to specific Gods, such as the Christian God, rather than making flat-out denials. \"But isn\\'t disbelieving in God the same thing as believing he doesn\\'t exist?\" Definitely not. Disbelief in a proposition means that one does not believe it to be true. Not believing that something is true is not equivalent to believing that it is false; one may simply have no idea whether it is true or not. Which brings us to agnosticism. \"What is agnosticism then?\" The term \\'agnosticism\\' was coined by Professor Huxley at a meeting of the Metaphysical Society in 1876. He defined an agnostic as someone who disclaimed (\"strong\") atheism and believed that the ultimate origin of things must be some cause unknown and unknowable. Thus an agnostic is someone who believes that we do not and cannot know for sure whether God exists. Words are slippery things, and language is inexact. Beware of assuming that you can work out someone\\'s philosophical point of view simply from the fact that she calls herself an atheist or an agnostic. For example, many people use agnosticism to mean \"weak atheism\", and use the word \"atheism\" only when referring to \"strong atheism\". Beware also that because the word \"atheist\" has so many shades of meaning, it is very difficult to generalize about atheists. About all you can say for sure is that atheists don\\'t believe in God. For example, it certainly isn\\'t the case that all atheists believe that science is the best way to find out about the universe. \"So what is the philosophical justification or basis for atheism?\" There are many philosophical justifications for atheism. To find out why a particular person chooses to be an atheist, it\\'s best to ask her. Many atheists feel that the idea of God as presented by the major religions is essentially self-contradictory, and that it is logically impossible that such a God could exist. Others are atheists through scepticism, because they see no evidence that God exists. \"But isn\\'t it impossible to prove the non-existence of something?\" There are many counter-examples to such a statement. For example, it is quite simple to prove that there does not exist a prime number larger than all other prime numbers. Of course, this deals with well-defined objects obeying well-defined rules. Whether Gods or universes are similarly well-defined is a matter for debate. However, assuming for the moment that the existence of a God is not provably impossible, there are still subtle reasons for assuming the non-existence of God. If we assume that something does not exist, it is always possible to show that this assumption is invalid by finding a single counter-example. If on the other hand we assume that something does exist, and if the thing in question is not provably impossible, showing that the assumption is invalid may require an exhaustive search of all possible places where such a thing might be found, to show that it isn\\'t there. Such an exhaustive search is often impractical or impossible. There is no such problem with largest primes, because we can prove that they don\\'t exist. Therefore it is generally accepted that we must assume things do not exist unless we have evidence that they do. Even theists follow this rule most of the time; they don\\'t believe in unicorns, even though they can\\'t conclusively prove that no unicorns exist anywhere. To assume that God exists is to make an assumption which probably cannot be tested. We cannot make an exhaustive search of everywhere God might be to prove that he doesn\\'t exist anywhere. So the sceptical atheist assumes by default that God does not exist, since that is an assumption we can test. Those who profess strong atheism usually do not claim that no sort of God exists; instead, they generally restrict their claims so as to cover varieties of God described by followers of various religions. So whilst it may be impossible to prove conclusively that no God exists, it may be possible to prove that (say) a God as described by a particular religious book does not exist. It may even be possible to prove that no God described by any present-day religion exists. In practice, believing that no God described by any religion exists is very close to believing that no God exists. However, it is sufficiently different that counter-arguments based on the impossibility of disproving every kind of God are not really applicable. \"But what if God is essentially non-detectable?\" If God interacts with our universe in any way, the effects of his interaction must be measurable. Hence his interaction with our universe must be detectable. If God is essentially non-detectable, it must therefore be the case that he does not interact with our universe in any way. Many atheists would argue that if God does not interact with our universe at all, it is of no importance whether he exists or not. If the Bible is to be believed, God was easily detectable by the Israelites. Surely he should still be detectable today? Note that I am not demanding that God interact in a scientifically verifiable, physical way. It must surely be possible to perceive some effect caused by his presence, though; otherwise, how can I distinguish him from all the other things that don\\'t exist? \"OK, you may think there\\'s a philosophical justification for atheism, but isn\\'t it still a religious belief?\" One of the most common pastimes in philosophical discussion is \"the redefinition game\". The cynical view of this game is as follows: Person A begins by making a contentious statement. When person B points out that it can\\'t be true, person A gradually re-defines the words he used in the statement until he arrives at something person B is prepared to accept. He then records the statement, along with the fact that person B has agreed to it, and continues. Eventually A uses the statement as an \"agreed fact\", but uses his original definitions of all the words in it rather than the obscure redefinitions originally needed to get B to agree to it. Rather than be seen to be apparently inconsistent, B will tend to play along. The point of this digression is that the answer to the question \"Isn\\'t atheism a religious belief?\" depends crucially upon what is meant by \"religious\". \"Religion\" is generally characterized by belief in a superhuman controlling power -- especially in some sort of God -- and by faith and worship. [ It\\'s worth pointing out in passing that some varieties of Buddhism are not \"religion\" according to such a definition. ] Atheism is certainly not a belief in any sort of superhuman power, nor is it categorized by worship in any meaningful sense. Widening the definition of \"religious\" to encompass atheism tends to result in many other aspects of human behaviour suddenly becoming classed as \"religious\" as well -- such as science, politics, and watching TV. \"OK, so it\\'s not a religion. But surely belief in atheism (or science) is still just an act of faith, like religion is?\" Firstly, it\\'s not entirely clear that sceptical atheism is something one actually believes in. Secondly, it is necessary to adopt a number of core beliefs or assumptions to make some sort of sense out of the sensory data we experience. Most atheists try to adopt as few core beliefs as possible; and even those are subject to questioning if experience throws them into doubt. Science has a number of core assumptions. For example, it is generally assumed that the laws of physics are the same for all observers. These are the sort of core assumptions atheists make. If such basic ideas are called \"acts of faith\", then almost everything we know must be said to be based on acts of faith, and the term loses its meaning. Faith is more often used to refer to complete, certain belief in something. According to such a definition, atheism and science are certainly not acts of faith. Of course, individual atheists or scientists can be as dogmatic as religious followers when claiming that something is \"certain\". This is not a general tendency, however; there are many atheists who would be reluctant to state with certainty that the universe exists. Faith is also used to refer to belief without supporting evidence or proof. Sceptical atheism certainly doesn\\'t fit that definition, as sceptical atheism has no beliefs. Strong atheism is closer, but still doesn\\'t really match, as even the most dogmatic atheist will tend to refer to experimental data (or the lack of it) when asserting that God does not exist. \"If atheism is not religious, surely it\\'s anti-religious?\" It is an unfortunate human tendency to label everyone as either \"for\" or \"against\", \"friend\" or \"enemy\". The truth is not so clear-cut. Atheism is the position that runs logically counter to theism; in that sense, it can be said to be \"anti-religion\". However, when religious believers speak of atheists being \"anti-religious\" they usually mean that the atheists have some sort of antipathy or hatred towards theists. This categorization of atheists as hostile towards religion is quite unfair. Atheist attitudes towards theists in fact cover a broad spectrum. Most atheists take a \"live and let live\" attitude. Unless questioned, they will not usually mention their atheism, except perhaps to close friends. Of course, this may be in part because atheism is not \"socially acceptable\" in many countries. A few atheists are quite anti-religious, and may even try to \"convert\" others when possible. Historically, such anti-religious atheists have made little impact on society outside the Eastern Bloc countries. (To digress slightly: the Soviet Union was originally dedicated to separation of church and state, just like the USA. Soviet citizens were legally free to worship as they wished. The institution of \"state atheism\" came about when Stalin took control of the Soviet Union and tried to destroy the churches in order to gain complete power over the population.) Some atheists are quite vocal about their beliefs, but only where they see religion encroaching on matters which are not its business -- for example, the government of the USA. Such individuals are usually concerned that church and state should remain separate. \"But if you don\\'t allow religion to have a say in the running of the state, surely that\\'s the same as state atheism?\" The principle of the separation of church and state is that the state shall not legislate concerning matters of religious belief. In particular, it means not only that the state cannot promote one religion at the expense of another, but also that it cannot promote any belief which is religious in nature. Religions can still have a say in discussion of purely secular matters. For example, religious believers have historically been responsible for encouraging many political reforms. Even today, many organizations campaigning for an increase in spending on foreign aid are founded as religious campaigns. So long as they campaign concerning secular matters, and so long as they do not discriminate on religious grounds, most atheists are quite happy to see them have their say. \"What about prayer in schools? If there\\'s no God, why do you care if people pray?\" Because people who do pray are voters and lawmakers, and tend to do things that those who don\\'t pray can\\'t just ignore. Also, Christian prayer in schools is intimidating to non-Christians, even if they are told that they need not join in. The diversity of religious and non-religious belief means that it is impossible to formulate a meaningful prayer that will be acceptable to all those present at any public event. Also, non-prayers tend to have friends and family who pray. It is reasonable to care about friends and family wasting their time, even without other motives. \"You mentioned Christians who campaign for increased foreign aid. What about atheists? Why aren\\'t there any atheist charities or hospitals? Don\\'t atheists object to the religious charities?\" There are many charities without religious purpose that atheists can contribute to. Some atheists contribute to religious charities as well, for the sake of the practical good they do. Some atheists even do voluntary work for charities founded on a theistic basis. Most atheists seem to feel that atheism isn\\'t worth shouting about in connection with charity. To them, atheism is just a simple, obvious everyday matter, and so is charity. Many feel that it\\'s somewhat cheap, not to say self-righteous, to use simple charity as an excuse to plug a particular set of religious beliefs. To \"weak\" atheists, building a hospital to say \"I do not believe in God\" is a rather strange idea; it\\'s rather like holding a party to say \"Today is not my birthday\". Why the fuss? Atheism is rarely evangelical. \"You said atheism isn\\'t anti-religious. But is it perhaps a backlash against one\\'s upbringing, a way of rebelling?\" Perhaps it is, for some. But many people have parents who do not attempt to force any religious (or atheist) ideas upon them, and many of those people choose to call themselves atheists. It\\'s also doubtless the case that some religious people chose religion as a backlash against an atheist upbringing, as a way of being different. On the other hand, many people choose religion as a way of conforming to the expectations of others. On the whole, we can\\'t conclude much about whether atheism or religion are backlash or conformism; although in general, people have a tendency to go along with a group rather than act or think independently. \"How do atheists differ from religious people?\" They don\\'t believe in God. That\\'s all there is to it. Atheists may listen to heavy metal -- backwards, even -- or they may prefer a Verdi Requiem, even if they know the words. They may wear Hawaiian shirts, they may dress all in black, they may even wear orange robes. (Many Buddhists lack a belief in any sort of God.) Some atheists even carry a copy of the Bible around -- for arguing against, of course! Whoever you are, the chances are you have met several atheists without realising it. Atheists are usually unexceptional in behaviour and appearance. \"Unexceptional? But aren\\'t atheists less moral than religious people?\" That depends. If you define morality as obedience to God, then of course atheists are less moral as they don\\'t obey any God. But usually when one talks of morality, one talks of what is acceptable (\"right\") and unacceptable (\"wrong\") behaviour within society. Humans are social animals, and to be maximally successful they must co-operate with each other. This is a good enough reason to discourage most atheists from \"anti-social\" or \"immoral\" behaviour, purely for the purposes of self-preservation. Many atheists behave in a \"moral\" or \"compassionate\" way simply because they feel a natural tendency to empathize with other humans. So why do they care what happens to others? They don\\'t know, they simply are that way. Naturally, there are some people who behave \"immorally\" and try to use atheism to justify their actions. However, there are equally many people who behave \"immorally\" and then try to use religious beliefs to justify their actions. For example: \"Here is a trustworthy saying that deserves full acceptance: Jesus Christ came into the world to save sinners... But for that very reason, I was shown mercy so that in me... Jesus Christ might display His unlimited patience as an example for those who would believe in him and receive eternal life. Now to the king eternal, immortal, invisible, the only God, be honor and glory forever and ever.\" The above quote is from a statement made to the court on February 17th 1992 by Jeffrey Dahmer, the notorious cannibal serial killer of Milwaukee, Wisconsin. It seems that for every atheist mass-murderer, there is a religious mass-murderer. But what of more trivial morality? A survey conducted by the Roper Organization found that behavior deteriorated after \"born again\" experiences. While only 4% of respondents said they had driven intoxicated before being \"born again,\" 12% had done so after conversion. Similarly, 5% had used illegal drugs before conversion, 9% after. Two percent admitted to engaging in illicit sex before salvation; 5% after. [\"Freethought Today\", September 1991, p. 12.] So it seems that at best, religion does not have a monopoly on moral behaviour. \"Is there such a thing as atheist morality?\" If you mean \"Is there such a thing as morality for atheists?\", then the answer is yes, as explained above. Many atheists have ideas about morality which are at least as strong as those held by religious people. If you mean \"Does atheism have a characteristic moral code?\", then the answer is no. Atheism by itself does not imply anything much about how a person will behave. Most atheists follow many of the same \"moral rules\" as theists, but for different reasons. Atheists view morality as something created by humans, according to the way humans feel the world \\'ought\\' to work, rather than seeing it as a set of rules decreed by a supernatural being. \"Then aren\\'t atheists just theists who are denying God?\" A study by the Freedom From Religion Foundation found that over 90% of the atheists who responded became atheists because religion did not work for them. They had found that religious beliefs were fundamentally incompatible with what they observed around them. Atheists are not unbelievers through ignorance or denial; they are unbelievers through choice. The vast majority of them have spent time studying one or more religions, sometimes in very great depth. They have made a careful and considered decision to reject religious beliefs. This decision may, of course, be an inevitable consequence of that individual\\'s personality. For a naturally sceptical person, the choice of atheism is often the only one that makes sense, and hence the only choice that person can honestly make. \"But don\\'t atheists want to believe in God?\" Atheists live their lives as though there is nobody watching over them. Many of them have no desire to be watched over, no matter how good-natured the \"Big Brother\" figure might be. Some atheists would like to be able to believe in God -- but so what? Should one believe things merely because one wants them to be true? The risks of such an approach should be obvious. Atheists often decide that wanting to believe something is not enough; there must be evidence for the belief. \"But of course atheists see no evidence for the existence of God -- they are unwilling in their souls to see!\" Many, if not most atheists were previously religious. As has been explained above, the vast majority have seriously considered the possibility that God exists. Many atheists have spent time in prayer trying to reach God. Of course, it is true that some atheists lack an open mind; but assuming that all atheists are biased and insincere is offensive and closed-minded. Comments such as \"Of course God is there, you just aren\\'t looking properly\" are likely to be viewed as patronizing. Certainly, if you wish to engage in philosophical debate with atheists it is vital that you give them the benefit of the doubt and assume that they are being sincere if they say that they have searched for God. If you are not willing to believe that they are basically telling the truth, debate is futile. \"Isn\\'t the whole of life completely pointless to an atheist?\" Many atheists live a purposeful life. They decide what they think gives meaning to life, and they pursue those goals. They try to make their lives count, not by wishing for eternal life, but by having an influence on other people who will live on. For example, an atheist may dedicate his life to political reform, in the hope of leaving his mark on history. It is a natural human tendency to look for \"meaning\" or \"purpose\" in random events. However, it is by no means obvious that \"life\" is the sort of thing that has a \"meaning\". To put it another way, not everything which looks like a question is actually a sensible thing to ask. Some atheists believe that asking \"What is the meaning of life?\" is as silly as asking \"What is the meaning of a cup of coffee?\". They believe that life has no purpose or meaning, it just is. \"So how do atheists find comfort in time of danger?\" There are many ways of obtaining comfort; from family, friends, or even pets. Or on a less spiritual level, from food or drink or TV. That may sound rather an empty and vulnerable way to face danger, but so what? Should individuals believe in things because they are comforting, or should they face reality no matter how harsh it might be? In the end, it\\'s a decision for the individual concerned. Most atheists are unable to believe something they would not otherwise believe merely because it makes them feel comfortable. They put truth before comfort, and consider that if searching for truth sometimes makes them feel unhappy, that\\'s just hard luck. \"Don\\'t atheists worry that they might suddenly be shown to be wrong?\" The short answer is \"No, do you?\" Many atheists have been atheists for years. They have encountered many arguments and much supposed evidence for the existence of God, but they have found all of it to be invalid or inconclusive. Thousands of years of religious belief haven\\'t resulted in any good proof of the existence of God. Atheists therefore tend to feel that they are unlikely to be proved wrong in the immediate future, and they stop worrying about it. \"So why should theists question their beliefs? Don\\'t the same arguments apply?\" No, because the beliefs being questioned are not similar. Weak atheism is the sceptical \"default position\" to take; it asserts nothing. Strong atheism is a negative belief. Theism is a very strong positive belief. Atheists sometimes also argue that theists should question their beliefs because of the very real harm they can cause -- not just to the believers, but to everyone else. \"What sort of harm?\" Religion represents a huge financial and work burden on mankind. It\\'s not just a matter of religious believers wasting their money on church buildings; think of all the time and effort spent building churches, praying, and so on. Imagine how that effort could be better spent. Many theists believe in miracle healing. There have been plenty of instances of ill people being \"healed\" by a priest, ceasing to take the medicines prescribed to them by doctors, and dying as a result. Some theists have died because they have refused blood transfusions on religious grounds. It is arguable that the Catholic Church\\'s opposition to birth control -- and condoms in particular -- is increasing the problem of overpopulation in many third-world countries and contributing to the spread of AIDS world-wide. Religious believers have been known to murder their children rather than allow their children to become atheists or marry someone of a different religion. \"Those weren\\'t REAL believers. They just claimed to be believers as some sort of excuse.\" What makes a real believer? There are so many One True Religions it\\'s hard to tell. Look at Christianity: there are many competing groups, all convinced that they are the only true Christians. Sometimes they even fight and kill each other. How is an atheist supposed to decide who\\'s a REAL Christian and who isn\\'t, when even the major Christian churches like the Catholic Church and the Church of England can\\'t decide amongst themselves? In the end, most atheists take a pragmatic view, and decide that anyone who calls himself a Christian, and uses Christian belief or dogma to justify his actions, should be considered a Christian. Maybe some of those Christians are just perverting Christian teaching for their own ends -- but surely if the Bible can be so readily used to support un-Christian acts it can\\'t be much of a moral code? If the Bible is the word of God, why couldn\\'t he have made it less easy to misinterpret? And how do you know that your beliefs aren\\'t a perversion of what your God intended? If there is no single unambiguous interpretation of the Bible, then why should an atheist take one interpretation over another just on your say-so? Sorry, but if someone claims that he believes in Jesus and that he murdered others because Jesus and the Bible told him to do so, we must call him a Christian. \"Obviously those extreme sorts of beliefs should be questioned. But since nobody has ever proved that God does not exist, it must be very unlikely that more basic religious beliefs, shared by all faiths, are nonsense.\" That does not hold, because as was pointed out at the start of this dialogue, positive assertions concerning the existence of entities are inherently much harder to disprove than negative ones. Nobody has ever proved that unicorns don\\'t exist, but that doesn\\'t make it unlikely that they are myths. It is therefore much more valid to hold a negative assertion by default than it is to hold a positive assertion by default. Of course, \"weak\" atheists would argue that asserting nothing is better still. \"Well, if atheism\\'s so great, why are there so many theists?\" Unfortunately, the popularity of a belief has little to do with how \"correct\" it is, or whether it \"works\"; consider how many people believe in astrology, graphology, and other pseudo-sciences. Many atheists feel that it is simply a human weakness to want to believe in gods. Certainly in many primitive human societies, religion allows the people to deal with phenomena that they do not adequately understand. Of course, there\\'s more to religion than that. In the industrialized world, we find people believing in religious explanations of phenomena even when there are perfectly adequate natural explanations. Religion may have started as a means of attempting to explain the world, but nowadays it serves other purposes as well. \"But so many cultures have developed religions. Surely that must say something?\" Not really. Most religions are only superficially similar; for example, it\\'s worth remembering that religions such as Buddhism and Taoism lack any sort of concept of God in the Christian sense. Of course, most religions are quick to denounce competing religions, so it\\'s rather odd to use one religion to try and justify another. \"What about all the famous scientists and philosophers who have concluded that God exists?\" For every scientist or philosopher who believes in a god, there is one who does not. Besides, as has already been pointed out, the truth of a belief is not determined by how many people believe it. Also, it is important to realize that atheists do not view famous scientists or philosophers in the same way that theists view their religious leaders. A famous scientist is only human; she may be an expert in some fields, but when she talks about other matters her words carry no special weight. Many respected scientists have made themselves look foolish by speaking on subjects which lie outside their fields of expertise. \"So are you really saying that widespread belief in religion indicates nothing?\" Not entirely. It certainly indicates that the religion in question has properties which have helped it so spread so far. The theory of memetics talks of \"memes\" -- sets of ideas which can propagate themselves between human minds, by analogy with genes. Some atheists view religions as sets of particularly successful parasitic memes, which spread by encouraging their hosts to convert others. Some memes avoid destruction by discouraging believers from questioning doctrine, or by using peer pressure to keep one-time believers from admitting that they were mistaken. Some religious memes even encourage their hosts to destroy hosts controlled by other memes. Of course, in the memetic view there is no particular virtue associated with successful propagation of a meme. Religion is not a good thing because of the number of people who believe it, any more than a disease is a good thing because of the number of people who have caught it. \"Even if religion is not entirely true, at least it puts across important messages. What are the fundamental messages of atheism?\" There are many important ideas atheists promote. The following are just a few of them; don\\'t be surprised to see ideas which are also present in some religions. There is more to moral behaviour than mindlessly following rules. Be especially sceptical of positive claims. If you want your life to have some sort of meaning, it\\'s up to you to find it. Search for what is true, even if it makes you uncomfortable. Make the most of your life, as it\\'s probably the only one you\\'ll have. It\\'s no good relying on some external power to change you; you must change yourself. Just because something\\'s popular doesn\\'t mean it\\'s good. If you must assume something, assume something it\\'s easy to test. Don\\'t believe things just because you want them to be true. and finally (and most importantly): All beliefs should be open to question. Thanks for taking the time to read this article. mathew -----BEGIN PGP SIGNATURE----- Version: 2.2 iQCVAgUBK8AjRXzXN+VrOblFAQFSbwP+MHePY4g7ge8Mo5wpsivX+kHYYxMErFAO 7ltVtMVTu66Nz6sBbPw9QkbjArbY/S2sZ9NF5htdii0R6SsEyPl0R6/9bV9okE/q nihqnzXE8pGvLt7tlez4EoeHZjXLEFrdEyPVayT54yQqGb4HARbOEHDcrTe2atmP q0Z4hSSPpAU= =q2V5 -----END PGP SIGNATURE----- For information about PGP 2.2, send mail to pgpinfo@mantis.co.uk. \\xef\\xbf\\xbd'), (13, 'alt.atheism', 'In article <65974@mimsy.umd.edu> mangoe@cs.umd.edu (Charley Wingate) writes: >>Well, John has a quite different, not necessarily more elaborated theology. >>There is some evidence that he must have known Luke, and that the content >>of Q was known to him, but not in a \\'canonized\\' form. > >This is a new argument to me. Could you elaborate a little? > The argument goes as follows: Q-oid quotes appear in John, but not in the almost codified way they were in Matthew or Luke. However, they are considered to be similar enough to point to knowledge of Q as such, and not an entirely different source. >>Assuming that he knew Luke would obviously put him after Luke, and would >>give evidence for the latter assumption. > >I don\\'t think this follows. If you take the most traditional attributions, >then Luke might have known John, but John is an elder figure in either case. >We\\'re talking spans of time here which are well within the range of >lifetimes. We are talking date of texts here, not the age of the authors. The usual explanation for the time order of Mark, Matthew and Luke does not consider their respective ages. It says Matthew has read the text of Mark, and Luke that of Matthew (and probably that of Mark). As it is assumed that John knew the content of Luke\\'s text. The evidence for that is not overwhelming, admittedly. >>>(1) Earlier manuscripts of John have been discovered. > >>Interesting, where and which? How are they dated? How old are they? > >Unfortunately, I haven\\'t got the info at hand. It was (I think) in the late >\\'70s or early \\'80s, and it was possibly as old as CE 200. > When they are from about 200, why do they shed doubt on the order on putting John after the rest of the three? >>I don\\'t see your point, it is exactly what James Felder said. They had no >>first hand knowledge of the events, and it obvious that at least two of them >>used older texts as the base of their account. And even the association of >>Luke to Paul or Mark to Peter are not generally accepted. > >Well, a genuine letter of Peter would be close enough, wouldn\\'t it? > Sure, an original together with Id card of sender and receiver would be fine. So what\\'s that supposed to say? Am I missing something? >And I don\\'t think a \"one step removed\" source is that bad. If Luke and Mark >and Matthew learned their stories directly from diciples, then I really >cannot believe in the sort of \"big transformation from Jesus to gospel\" that >some people posit. In news reports, one generally gets no better >information than this. > >And if John IS a diciple, then there\\'s nothing more to be said. > That John was a disciple is not generally accepted. The style and language together with the theology are usually used as counterargument. The argument that John was a disciple relies on the claim in the gospel of John itself. Is there any other evidence for it? One step and one generation removed is bad even in our times. Compare that to reports of similar events in our century in almost illiterate societies. Not even to speak off that believers are not necessarily the best sources. >>It is also obvious that Mark has been edited. How old are the oldest >>manuscripts? To my knowledge (which can be antiquated) the oldest is >>quite after any of these estimates, and it is not even complete. > >The only clear \"editing\" is problem of the ending, and it\\'s basically a >hopeless mess. The oldest versions give a strong sense of incompleteness, >to the point where the shortest versions seem to break off in midsentence. >The most obvious solution is that at some point part of the text was lost. >The material from verse 9 on is pretty clearly later and seems to represent >a synopsys of the end of Luke. > In other words, one does not know what the original of Mark did look like and arguments based on Mark are pretty weak. But how is that connected to a redating of John? Benedikt'), (13, 'alt.atheism', 'dmn@kepler.unh.edu (...until kings become philosophers or philosophers become kings) writes: > Recently, RAs have been ordered (and none have resisted or cared about > it apparently) to post a religious flyer entitled _The Soul Scroll: Thoughts > on religion, spirituality, and matters of the soul_ on the inside of bathroom > stall doors. (at my school, the University of New Hampshire) It is some sort > of newsletter assembled by a Hall Director somewhere on campus. It poses a > question about \\'spirituality\\' each issue, and solicits responses to be > included in the next \\'issue.\\' It\\'s all pretty vague. I assume it\\'s put out > by a Christian, but they\\'re very careful not to mention Jesus or the bible. > I\\'ve heard someone defend it, saying \"Well it doesn\\'t support any one religion. > \" So what??? This is a STATE university, and as a strong supporter of the > separation of church and state, I was enraged. > > What can I do about this? It sounds to me like it\\'s just SCREAMING OUT for parody. Give a copy to your friendly neighbourhood SubGenius preacher; with luck, he\\'ll run it through the mental mincer and hand you back an outrageously offensive and gut-bustingly funny parody you can paste over the originals. I can see it now: The Stool Scroll Thoughts on Religion, Spirituality, and Matters of the Colon (You can use this text to wipe) mathew'), (13, 'alt.atheism', 'In article <N4HY.93Apr5120934@harder.ccr-p.ida.org>, n4hy@harder.ccr-p.ida.org (Bob McGwier) writes: |> [1] HOWEVER, I hate economic terrorism and political correctness |> worse than I hate this policy. |> [2] A more effective approach is to stop donating |> to ANY organizating that directly or indirectly supports gay rights issues |> until they end the boycott on funding of scouts. Can somebody reconcile the apparent contradiction between [1] and [2]? -- Rob Strom, strom@watson.ibm.com, (914) 784-7641 IBM Research, 30 Saw Mill River Road, P.O. Box 704, Yorktown Heights, NY 10598'), (13, 'alt.atheism', 'In article <1993Apr5.091139.823@batman.bmd.trw.com> jbrown@batman.bmd.trw.com writes: >> Didn\\'t you say Lucifer was created with a perfect nature? > >Yes. > Define perfect then. >> I think you >> are playing the usual game here, make sweeping statements like omni-, >> holy, or perfect, and don\\'t note that they mean exactly what they say. >> And that says that you must not use this terms when it leads to >> contradictions. > >I\\'m not trying to play games here. But I understand how it might seem >that way especially when one is coming from a completely different point >of view such as atheism. > Take your foot out of your mouth, I wondered about that already when I was a Catholic Christian. The fact that the contradiction is unresolvable is one of the reasons why I am an atheist. Believe me, I believed similar sentences for a long time. But that shows the power of religion and not anything about its claims. >>>Now God could have prevented Lucifer\\'s fall by taking away his ability >>>to choose between moral alternatives (worship God or worship himself), >>>but that would mean that God was in error to have make Lucifer or any >>>being with free will in the first place. >> >> Exactly. God allows evil, an evil if there ever was one. >> > >Now that\\'s an opinion, or at best a premise. But from my point of view, >it is not a premise which is necessary true, specifically, that it is >an evil to allow evil to occur. > It follows from a definition of evil as ordinarily used. Letting evil happen or allowing evil to take place, in this place even causing evil, is another evil. >> But could you give a definition of free will? Especially in the >> presence of an omniscient being? >> >\"Will\" is \"self-determination\". In other words, God created conscious >beings who have the ability to choose between moral choices independently >of God. All \"will\", therefore, is \"free will\". > The omniscient attribute of god will know what the creatures will do even before the omnipotent has created them. There is no choice left. All is known, the course of events is fixed. Not even for the omniscient itself, to extend an argument by James Tims. >>>If God is omniscient, then >>>clearly, creating beings with free moral choice is a greater good than >>>the emergence of ungodliness (evil/sin) since He created them knowing >>>the outcome in advance. >> >> Why is it the greater good to allow evil with the knowledge that it >> will happen? Why not make a unipolar system with the possibility of >> doing good or not doing good, but that does not necessarily imply >> doing evil. It is logically possible, but your god has not done it. > >I do not know that such is logically possible. If God restrains a >free being\\'s choice to choose to do evil and simply do \"not good\", >then can it be said that the being truly has a free moral choice? >And if \"good\" is defined as loving and obeying God, and avoiding >those behaviors which God prohibits, then how can you say that one >who is \"not good\" is not evil as well? Like I said, I am not sure >that doing \"not good\" without doing evil is logically possible. And when I am not omnipotent, how can I have free will? You have said something about choices and the scenario gives them. Therefore we have what you define as free will. Imagine the following. I can do good to other beings, but I cannot harm them. Easily implemented by making everyone appreciate being the object of good deeds, but don\\'t make them long for them, so they can not feel the absence of good as evil. But whose case am I arguing? It is conceivable, so the omnipotent can do it. Or it would not be omnipotent. If you want logically consistent as well, you have to give up the pet idea of an omnipotent first. (Deletion) > >Perhaps it is weak, in a way. If I were just speculating about the >ubiquitous pink unicorns, then there would be no basis for such >speculation. But this idea of God didn\\'t just fall on me out of the >blue :), or while reading science fiction or fantasy. (I know that >some will disagree) :) The Bible describes a God who is omniscient, >and nevertheless created beings with free moral choice, from which >the definitional logic follows. But that\\'s not all there is to it. >There seems to be (at least in my mind) a certain amount of evidence >which indicates that God exists and that the Biblical description >of Him may be a fair one. It is that evidence which bolsters the >argument in my view. That the bible describes an omniscient and omnipotent god destroys the credibility of the bible, nothing less. And a lot of people would be interested in evidence for a god, unfortunately, there can\\'t be any with these definitions. Benedikt'), (13, 'alt.atheism', \"arromdee@jyusenkyou.cs.jhu.edu (Ken Arromdee) writes: >>The motto originated in the Star-Spangled Banner. Tell me that this has >>something to do with atheists. >The motto _on_coins_ originated as a McCarthyite smear which equated atheism >with Communism and called both unamerican. No it didn't. The motto has been on various coins since the Civil War. It was just required to be on *all* currency in the 50's. keith\"), (13, 'alt.atheism', 'In article <114127@bu.edu> jaeger@buphy.bu.edu (Gregg Jaeger) writes: >>When they are victimized they are Muslims. When they victimize others >>they are not True Muslims (tm) or no Muslims at all. > >>Quite annoying. > >I don\\'t understand the point of this petty sarcasm. It is a basic >principle of Islam that if one is born muslim or one says \"I testify >that there is no god but God and Mohammad is a prophet of God\" that, >so long as one does not explicitly reject Islam by word then one _must_ >be considered muslim by all muslims. So the phenomenon you\\'re attempting >to make into a general rule or psychology is a direct odds with basic >Islamic principles. If you want to attack Islam you could do better than >than to argue against something that Islam explicitly contradicts. > It was no criticism of Islam for a change, it was a criticism of the arguments used. Namely, whenever people you identify as Muslims are the victims of the attacks of others, they are used an argument for the bad situation of Muslims. But whenever deeds by Muslim that victimize others are named, they do not count as an argument because what these people did was not done as a true Muslims. No mention is made how Muslims are the cause of a bad situation of another party. Double standards. Benedikt'), (13, 'alt.atheism', '(reference line trimmed) livesey@solntze.wpd.sgi.com (Jon Livesey) writes: [...] >There is a good deal more confusion here. You started off with the >assertion that there was some \"objective\" morality, and as you admit >here, you finished up with a recursive definition. Murder is >\"objectively\" immoral, but eactly what is murder and what is not itself >requires an appeal to morality. Yes. >Now you have switch targets a little, but only a little. Now you are >asking what is the \"goal\"? What do you mean by \"goal?\". Are you >suggesting that there is some \"objective\" \"goal\" out there somewhere, >and we form our morals to achieve it? Well, for example, the goal of \"natural\" morality is the survival and propogation of the species. Another example of a moral system is presented within the Declaration of Independence, which states that we should be guaranteed life liberty and the pursuit of happiness. You see, to have a moral system, we must define the purpose of the system. That is, we shall be moral unto what end? >>Murder is certainly a violation of the golden rule. And, I thought I had >>defined murder as an intentional killing of a non-murderer, against his will. >>And you responded to this by asking whether or not the execution of an >>innocent person under our system of capital punishment was a murder or not. >>I fail to see what this has to do with anything. I never claimed that our >>system of morality was an objective one. >I thought that was your very first claim. That there was >some kind of \"objective\" morality, and that an example of that was >that murder is wrong. If you don\\'t want to claim that any more, >that\\'s fine. Well, murder violates the golen rule, which is certainly a pillar of most every moral system. However, I am not assuming that our current system and the manner of its implementation are objectively moral. I think that it is a very good approximation, but we can\\'t be perfect. >And by the way, you don\\'t seem to understand the difference between >\"arbitrary\" and \"objective\". If Keith Schneider \"defines\" murder >to be this that and the other, that\\'s arbitrary. Jon Livesey may >still say \"Well, according to my personal system of morality, all >killing of humans against their will is murder, and wrong, and what >the legal definition of murder may be in the USA, Kuweit, Saudi >Arabia, or the PRC may be matters not a whit to me\". Well, \"objective\" would assume a system based on clear and fundamental concepts, while \"arbitary\" implies no clear line of reasoning. keith'), (13, 'alt.atheism', \"kmr4@po.CWRU.edu (Keith M. Ryan) writes: >>Then why do people keep asking the same questions over and over? >Because you rarely ever answer them. Nope, I've answered each question posed, and most were answered multiple times. keith\")]\n"
     ]
    }
   ],
   "source": [
    "import re\n",
    "\n",
    "labelledDocs = docs.map(lambda r: (labelList.index(r.label), r.label.encode('utf-8'), re.sub('\\s+', ' ', r.content.encode('utf-8')).strip()))\n",
    "print labelledDocs.take(10)"
   ]
  },
  {
   "cell_type": "code",
   "execution_count": 19,
   "metadata": {
    "collapsed": false
   },
   "outputs": [
    {
     "name": "stdout",
     "output_type": "stream",
     "text": [
      "NLTK Downloader\n",
      "---------------------------------------------------------------------------\n",
      "    d) Download   l) List    u) Update   c) Config   h) Help   q) Quit\n",
      "---------------------------------------------------------------------------\n",
      "Downloader> d\n",
      "\n",
      "Download which package (l=list; x=cancel)?\n",
      "  Identifier> x\n",
      "\n",
      "---------------------------------------------------------------------------\n",
      "    d) Download   l) List    u) Update   c) Config   h) Help   q) Quit\n",
      "---------------------------------------------------------------------------\n",
      "Downloader> q\n"
     ]
    },
    {
     "ename": "Py4JJavaError",
     "evalue": "An error occurred while calling z:org.apache.spark.api.python.PythonRDD.runJob.\n: org.apache.spark.SparkException: Job aborted due to stage failure: Task 0 in stage 27.0 failed 1 times, most recent failure: Lost task 0.0 in stage 27.0 (TID 425, localhost): org.apache.spark.api.python.PythonException: Traceback (most recent call last):\n  File \"/usr/local/spark/python/lib/pyspark.zip/pyspark/worker.py\", line 111, in main\n    process()\n  File \"/usr/local/spark/python/lib/pyspark.zip/pyspark/worker.py\", line 106, in process\n    serializer.dump_stream(func(split_index, iterator), outfile)\n  File \"/usr/local/spark/python/lib/pyspark.zip/pyspark/serializers.py\", line 263, in dump_stream\n    vs = list(itertools.islice(iterator, batch))\n  File \"/usr/local/spark/python/pyspark/rdd.py\", line 1295, in takeUpToNumLeft\n    yield next(iterator)\n  File \"<ipython-input-19-18ae91e853b5>\", line 5, in <lambda>\n  File \"/opt/conda/envs/python2/lib/python2.7/site-packages/nltk/tokenize/__init__.py\", line 104, in word_tokenize\n    return [token for sent in sent_tokenize(text, language)\n  File \"/opt/conda/envs/python2/lib/python2.7/site-packages/nltk/tokenize/__init__.py\", line 88, in sent_tokenize\n    tokenizer = load('tokenizers/punkt/{0}.pickle'.format(language))\n  File \"/opt/conda/envs/python2/lib/python2.7/site-packages/nltk/data.py\", line 796, in load\n    opened_resource = _open(resource_url)\n  File \"/opt/conda/envs/python2/lib/python2.7/site-packages/nltk/data.py\", line 914, in _open\n    return find(path_, path + ['']).open()\n  File \"/opt/conda/envs/python2/lib/python2.7/site-packages/nltk/data.py\", line 636, in find\n    raise LookupError(resource_not_found)\nLookupError: \n**********************************************************************\n  Resource u'tokenizers/punkt/english.pickle' not found.  Please\n  use the NLTK Downloader to obtain the resource:  >>>\n  nltk.download()\n  Searched in:\n    - '/home/jovyan/nltk_data'\n    - '/usr/share/nltk_data'\n    - '/usr/local/share/nltk_data'\n    - '/usr/lib/nltk_data'\n    - '/usr/local/lib/nltk_data'\n    - u''\n**********************************************************************\n\n\tat org.apache.spark.api.python.PythonRunner$$anon$1.read(PythonRDD.scala:166)\n\tat org.apache.spark.api.python.PythonRunner$$anon$1.<init>(PythonRDD.scala:207)\n\tat org.apache.spark.api.python.PythonRunner.compute(PythonRDD.scala:125)\n\tat org.apache.spark.api.python.PythonRDD.compute(PythonRDD.scala:70)\n\tat org.apache.spark.rdd.RDD.computeOrReadCheckpoint(RDD.scala:297)\n\tat org.apache.spark.rdd.RDD.iterator(RDD.scala:264)\n\tat org.apache.spark.scheduler.ResultTask.runTask(ResultTask.scala:66)\n\tat org.apache.spark.scheduler.Task.run(Task.scala:88)\n\tat org.apache.spark.executor.Executor$TaskRunner.run(Executor.scala:214)\n\tat java.util.concurrent.ThreadPoolExecutor.runWorker(ThreadPoolExecutor.java:1145)\n\tat java.util.concurrent.ThreadPoolExecutor$Worker.run(ThreadPoolExecutor.java:615)\n\tat java.lang.Thread.run(Thread.java:745)\n\nDriver stacktrace:\n\tat org.apache.spark.scheduler.DAGScheduler.org$apache$spark$scheduler$DAGScheduler$$failJobAndIndependentStages(DAGScheduler.scala:1283)\n\tat org.apache.spark.scheduler.DAGScheduler$$anonfun$abortStage$1.apply(DAGScheduler.scala:1271)\n\tat org.apache.spark.scheduler.DAGScheduler$$anonfun$abortStage$1.apply(DAGScheduler.scala:1270)\n\tat scala.collection.mutable.ResizableArray$class.foreach(ResizableArray.scala:59)\n\tat scala.collection.mutable.ArrayBuffer.foreach(ArrayBuffer.scala:47)\n\tat org.apache.spark.scheduler.DAGScheduler.abortStage(DAGScheduler.scala:1270)\n\tat org.apache.spark.scheduler.DAGScheduler$$anonfun$handleTaskSetFailed$1.apply(DAGScheduler.scala:697)\n\tat org.apache.spark.scheduler.DAGScheduler$$anonfun$handleTaskSetFailed$1.apply(DAGScheduler.scala:697)\n\tat scala.Option.foreach(Option.scala:236)\n\tat org.apache.spark.scheduler.DAGScheduler.handleTaskSetFailed(DAGScheduler.scala:697)\n\tat org.apache.spark.scheduler.DAGSchedulerEventProcessLoop.doOnReceive(DAGScheduler.scala:1496)\n\tat org.apache.spark.scheduler.DAGSchedulerEventProcessLoop.onReceive(DAGScheduler.scala:1458)\n\tat org.apache.spark.scheduler.DAGSchedulerEventProcessLoop.onReceive(DAGScheduler.scala:1447)\n\tat org.apache.spark.util.EventLoop$$anon$1.run(EventLoop.scala:48)\n\tat org.apache.spark.scheduler.DAGScheduler.runJob(DAGScheduler.scala:567)\n\tat org.apache.spark.SparkContext.runJob(SparkContext.scala:1822)\n\tat org.apache.spark.SparkContext.runJob(SparkContext.scala:1835)\n\tat org.apache.spark.SparkContext.runJob(SparkContext.scala:1848)\n\tat org.apache.spark.api.python.PythonRDD$.runJob(PythonRDD.scala:393)\n\tat org.apache.spark.api.python.PythonRDD.runJob(PythonRDD.scala)\n\tat sun.reflect.NativeMethodAccessorImpl.invoke0(Native Method)\n\tat sun.reflect.NativeMethodAccessorImpl.invoke(NativeMethodAccessorImpl.java:57)\n\tat sun.reflect.DelegatingMethodAccessorImpl.invoke(DelegatingMethodAccessorImpl.java:43)\n\tat java.lang.reflect.Method.invoke(Method.java:606)\n\tat py4j.reflection.MethodInvoker.invoke(MethodInvoker.java:231)\n\tat py4j.reflection.ReflectionEngine.invoke(ReflectionEngine.java:379)\n\tat py4j.Gateway.invoke(Gateway.java:259)\n\tat py4j.commands.AbstractCommand.invokeMethod(AbstractCommand.java:133)\n\tat py4j.commands.CallCommand.execute(CallCommand.java:79)\n\tat py4j.GatewayConnection.run(GatewayConnection.java:207)\n\tat java.lang.Thread.run(Thread.java:745)\nCaused by: org.apache.spark.api.python.PythonException: Traceback (most recent call last):\n  File \"/usr/local/spark/python/lib/pyspark.zip/pyspark/worker.py\", line 111, in main\n    process()\n  File \"/usr/local/spark/python/lib/pyspark.zip/pyspark/worker.py\", line 106, in process\n    serializer.dump_stream(func(split_index, iterator), outfile)\n  File \"/usr/local/spark/python/lib/pyspark.zip/pyspark/serializers.py\", line 263, in dump_stream\n    vs = list(itertools.islice(iterator, batch))\n  File \"/usr/local/spark/python/pyspark/rdd.py\", line 1295, in takeUpToNumLeft\n    yield next(iterator)\n  File \"<ipython-input-19-18ae91e853b5>\", line 5, in <lambda>\n  File \"/opt/conda/envs/python2/lib/python2.7/site-packages/nltk/tokenize/__init__.py\", line 104, in word_tokenize\n    return [token for sent in sent_tokenize(text, language)\n  File \"/opt/conda/envs/python2/lib/python2.7/site-packages/nltk/tokenize/__init__.py\", line 88, in sent_tokenize\n    tokenizer = load('tokenizers/punkt/{0}.pickle'.format(language))\n  File \"/opt/conda/envs/python2/lib/python2.7/site-packages/nltk/data.py\", line 796, in load\n    opened_resource = _open(resource_url)\n  File \"/opt/conda/envs/python2/lib/python2.7/site-packages/nltk/data.py\", line 914, in _open\n    return find(path_, path + ['']).open()\n  File \"/opt/conda/envs/python2/lib/python2.7/site-packages/nltk/data.py\", line 636, in find\n    raise LookupError(resource_not_found)\nLookupError: \n**********************************************************************\n  Resource u'tokenizers/punkt/english.pickle' not found.  Please\n  use the NLTK Downloader to obtain the resource:  >>>\n  nltk.download()\n  Searched in:\n    - '/home/jovyan/nltk_data'\n    - '/usr/share/nltk_data'\n    - '/usr/local/share/nltk_data'\n    - '/usr/lib/nltk_data'\n    - '/usr/local/lib/nltk_data'\n    - u''\n**********************************************************************\n\n\tat org.apache.spark.api.python.PythonRunner$$anon$1.read(PythonRDD.scala:166)\n\tat org.apache.spark.api.python.PythonRunner$$anon$1.<init>(PythonRDD.scala:207)\n\tat org.apache.spark.api.python.PythonRunner.compute(PythonRDD.scala:125)\n\tat org.apache.spark.api.python.PythonRDD.compute(PythonRDD.scala:70)\n\tat org.apache.spark.rdd.RDD.computeOrReadCheckpoint(RDD.scala:297)\n\tat org.apache.spark.rdd.RDD.iterator(RDD.scala:264)\n\tat org.apache.spark.scheduler.ResultTask.runTask(ResultTask.scala:66)\n\tat org.apache.spark.scheduler.Task.run(Task.scala:88)\n\tat org.apache.spark.executor.Executor$TaskRunner.run(Executor.scala:214)\n\tat java.util.concurrent.ThreadPoolExecutor.runWorker(ThreadPoolExecutor.java:1145)\n\tat java.util.concurrent.ThreadPoolExecutor$Worker.run(ThreadPoolExecutor.java:615)\n\t... 1 more\n",
     "output_type": "error",
     "traceback": [
      "\u001b[1;31m---------------------------------------------------------------------------\u001b[0m",
      "\u001b[1;31mPy4JJavaError\u001b[0m                             Traceback (most recent call last)",
      "\u001b[1;32m<ipython-input-19-18ae91e853b5>\u001b[0m in \u001b[0;36m<module>\u001b[1;34m()\u001b[0m\n\u001b[0;32m      4\u001b[0m \u001b[0mhtf\u001b[0m \u001b[1;33m=\u001b[0m \u001b[0mHashingTF\u001b[0m\u001b[1;33m(\u001b[0m\u001b[1;33m)\u001b[0m\u001b[1;33m\u001b[0m\u001b[0m\n\u001b[0;32m      5\u001b[0m \u001b[0mhtfDocs\u001b[0m \u001b[1;33m=\u001b[0m \u001b[0mlabelledDocs\u001b[0m\u001b[1;33m.\u001b[0m\u001b[0mmap\u001b[0m\u001b[1;33m(\u001b[0m\u001b[1;32mlambda\u001b[0m \u001b[1;33m(\u001b[0m\u001b[0mi\u001b[0m\u001b[1;33m,\u001b[0m\u001b[0ml\u001b[0m\u001b[1;33m,\u001b[0m\u001b[0mc\u001b[0m\u001b[1;33m)\u001b[0m \u001b[1;33m:\u001b[0m \u001b[1;33m(\u001b[0m\u001b[0mi\u001b[0m\u001b[1;33m,\u001b[0m \u001b[0ml\u001b[0m\u001b[1;33m,\u001b[0m \u001b[0mhtf\u001b[0m\u001b[1;33m.\u001b[0m\u001b[0mtransform\u001b[0m\u001b[1;33m(\u001b[0m\u001b[0mnltk\u001b[0m\u001b[1;33m.\u001b[0m\u001b[0mword_tokenize\u001b[0m\u001b[1;33m(\u001b[0m\u001b[0mc\u001b[0m\u001b[1;33m)\u001b[0m\u001b[1;33m)\u001b[0m\u001b[1;33m)\u001b[0m\u001b[1;33m)\u001b[0m\u001b[1;33m\u001b[0m\u001b[0m\n\u001b[1;32m----> 6\u001b[1;33m \u001b[1;32mprint\u001b[0m \u001b[0mhtfDocs\u001b[0m\u001b[1;33m.\u001b[0m\u001b[0mtake\u001b[0m\u001b[1;33m(\u001b[0m\u001b[1;36m1\u001b[0m\u001b[1;33m)\u001b[0m\u001b[1;33m\u001b[0m\u001b[0m\n\u001b[0m",
      "\u001b[1;32m/usr/local/spark/python/pyspark/rdd.py\u001b[0m in \u001b[0;36mtake\u001b[1;34m(self, num)\u001b[0m\n\u001b[0;32m   1297\u001b[0m \u001b[1;33m\u001b[0m\u001b[0m\n\u001b[0;32m   1298\u001b[0m             \u001b[0mp\u001b[0m \u001b[1;33m=\u001b[0m \u001b[0mrange\u001b[0m\u001b[1;33m(\u001b[0m\u001b[0mpartsScanned\u001b[0m\u001b[1;33m,\u001b[0m \u001b[0mmin\u001b[0m\u001b[1;33m(\u001b[0m\u001b[0mpartsScanned\u001b[0m \u001b[1;33m+\u001b[0m \u001b[0mnumPartsToTry\u001b[0m\u001b[1;33m,\u001b[0m \u001b[0mtotalParts\u001b[0m\u001b[1;33m)\u001b[0m\u001b[1;33m)\u001b[0m\u001b[1;33m\u001b[0m\u001b[0m\n\u001b[1;32m-> 1299\u001b[1;33m             \u001b[0mres\u001b[0m \u001b[1;33m=\u001b[0m \u001b[0mself\u001b[0m\u001b[1;33m.\u001b[0m\u001b[0mcontext\u001b[0m\u001b[1;33m.\u001b[0m\u001b[0mrunJob\u001b[0m\u001b[1;33m(\u001b[0m\u001b[0mself\u001b[0m\u001b[1;33m,\u001b[0m \u001b[0mtakeUpToNumLeft\u001b[0m\u001b[1;33m,\u001b[0m \u001b[0mp\u001b[0m\u001b[1;33m)\u001b[0m\u001b[1;33m\u001b[0m\u001b[0m\n\u001b[0m\u001b[0;32m   1300\u001b[0m \u001b[1;33m\u001b[0m\u001b[0m\n\u001b[0;32m   1301\u001b[0m             \u001b[0mitems\u001b[0m \u001b[1;33m+=\u001b[0m \u001b[0mres\u001b[0m\u001b[1;33m\u001b[0m\u001b[0m\n",
      "\u001b[1;32m/usr/local/spark/python/pyspark/context.py\u001b[0m in \u001b[0;36mrunJob\u001b[1;34m(self, rdd, partitionFunc, partitions, allowLocal)\u001b[0m\n\u001b[0;32m    914\u001b[0m         \u001b[1;31m# SparkContext#runJob.\u001b[0m\u001b[1;33m\u001b[0m\u001b[1;33m\u001b[0m\u001b[0m\n\u001b[0;32m    915\u001b[0m         \u001b[0mmappedRDD\u001b[0m \u001b[1;33m=\u001b[0m \u001b[0mrdd\u001b[0m\u001b[1;33m.\u001b[0m\u001b[0mmapPartitions\u001b[0m\u001b[1;33m(\u001b[0m\u001b[0mpartitionFunc\u001b[0m\u001b[1;33m)\u001b[0m\u001b[1;33m\u001b[0m\u001b[0m\n\u001b[1;32m--> 916\u001b[1;33m         \u001b[0mport\u001b[0m \u001b[1;33m=\u001b[0m \u001b[0mself\u001b[0m\u001b[1;33m.\u001b[0m\u001b[0m_jvm\u001b[0m\u001b[1;33m.\u001b[0m\u001b[0mPythonRDD\u001b[0m\u001b[1;33m.\u001b[0m\u001b[0mrunJob\u001b[0m\u001b[1;33m(\u001b[0m\u001b[0mself\u001b[0m\u001b[1;33m.\u001b[0m\u001b[0m_jsc\u001b[0m\u001b[1;33m.\u001b[0m\u001b[0msc\u001b[0m\u001b[1;33m(\u001b[0m\u001b[1;33m)\u001b[0m\u001b[1;33m,\u001b[0m \u001b[0mmappedRDD\u001b[0m\u001b[1;33m.\u001b[0m\u001b[0m_jrdd\u001b[0m\u001b[1;33m,\u001b[0m \u001b[0mpartitions\u001b[0m\u001b[1;33m)\u001b[0m\u001b[1;33m\u001b[0m\u001b[0m\n\u001b[0m\u001b[0;32m    917\u001b[0m         \u001b[1;32mreturn\u001b[0m \u001b[0mlist\u001b[0m\u001b[1;33m(\u001b[0m\u001b[0m_load_from_socket\u001b[0m\u001b[1;33m(\u001b[0m\u001b[0mport\u001b[0m\u001b[1;33m,\u001b[0m \u001b[0mmappedRDD\u001b[0m\u001b[1;33m.\u001b[0m\u001b[0m_jrdd_deserializer\u001b[0m\u001b[1;33m)\u001b[0m\u001b[1;33m)\u001b[0m\u001b[1;33m\u001b[0m\u001b[0m\n\u001b[0;32m    918\u001b[0m \u001b[1;33m\u001b[0m\u001b[0m\n",
      "\u001b[1;32m/usr/local/spark/python/lib/py4j-0.8.2.1-src.zip/py4j/java_gateway.py\u001b[0m in \u001b[0;36m__call__\u001b[1;34m(self, *args)\u001b[0m\n\u001b[0;32m    536\u001b[0m         \u001b[0manswer\u001b[0m \u001b[1;33m=\u001b[0m \u001b[0mself\u001b[0m\u001b[1;33m.\u001b[0m\u001b[0mgateway_client\u001b[0m\u001b[1;33m.\u001b[0m\u001b[0msend_command\u001b[0m\u001b[1;33m(\u001b[0m\u001b[0mcommand\u001b[0m\u001b[1;33m)\u001b[0m\u001b[1;33m\u001b[0m\u001b[0m\n\u001b[0;32m    537\u001b[0m         return_value = get_return_value(answer, self.gateway_client,\n\u001b[1;32m--> 538\u001b[1;33m                 self.target_id, self.name)\n\u001b[0m\u001b[0;32m    539\u001b[0m \u001b[1;33m\u001b[0m\u001b[0m\n\u001b[0;32m    540\u001b[0m         \u001b[1;32mfor\u001b[0m \u001b[0mtemp_arg\u001b[0m \u001b[1;32min\u001b[0m \u001b[0mtemp_args\u001b[0m\u001b[1;33m:\u001b[0m\u001b[1;33m\u001b[0m\u001b[0m\n",
      "\u001b[1;32m/usr/local/spark/python/pyspark/sql/utils.py\u001b[0m in \u001b[0;36mdeco\u001b[1;34m(*a, **kw)\u001b[0m\n\u001b[0;32m     34\u001b[0m     \u001b[1;32mdef\u001b[0m \u001b[0mdeco\u001b[0m\u001b[1;33m(\u001b[0m\u001b[1;33m*\u001b[0m\u001b[0ma\u001b[0m\u001b[1;33m,\u001b[0m \u001b[1;33m**\u001b[0m\u001b[0mkw\u001b[0m\u001b[1;33m)\u001b[0m\u001b[1;33m:\u001b[0m\u001b[1;33m\u001b[0m\u001b[0m\n\u001b[0;32m     35\u001b[0m         \u001b[1;32mtry\u001b[0m\u001b[1;33m:\u001b[0m\u001b[1;33m\u001b[0m\u001b[0m\n\u001b[1;32m---> 36\u001b[1;33m             \u001b[1;32mreturn\u001b[0m \u001b[0mf\u001b[0m\u001b[1;33m(\u001b[0m\u001b[1;33m*\u001b[0m\u001b[0ma\u001b[0m\u001b[1;33m,\u001b[0m \u001b[1;33m**\u001b[0m\u001b[0mkw\u001b[0m\u001b[1;33m)\u001b[0m\u001b[1;33m\u001b[0m\u001b[0m\n\u001b[0m\u001b[0;32m     37\u001b[0m         \u001b[1;32mexcept\u001b[0m \u001b[0mpy4j\u001b[0m\u001b[1;33m.\u001b[0m\u001b[0mprotocol\u001b[0m\u001b[1;33m.\u001b[0m\u001b[0mPy4JJavaError\u001b[0m \u001b[1;32mas\u001b[0m \u001b[0me\u001b[0m\u001b[1;33m:\u001b[0m\u001b[1;33m\u001b[0m\u001b[0m\n\u001b[0;32m     38\u001b[0m             \u001b[0ms\u001b[0m \u001b[1;33m=\u001b[0m \u001b[0me\u001b[0m\u001b[1;33m.\u001b[0m\u001b[0mjava_exception\u001b[0m\u001b[1;33m.\u001b[0m\u001b[0mtoString\u001b[0m\u001b[1;33m(\u001b[0m\u001b[1;33m)\u001b[0m\u001b[1;33m\u001b[0m\u001b[0m\n",
      "\u001b[1;32m/usr/local/spark/python/lib/py4j-0.8.2.1-src.zip/py4j/protocol.py\u001b[0m in \u001b[0;36mget_return_value\u001b[1;34m(answer, gateway_client, target_id, name)\u001b[0m\n\u001b[0;32m    298\u001b[0m                 raise Py4JJavaError(\n\u001b[0;32m    299\u001b[0m                     \u001b[1;34m'An error occurred while calling {0}{1}{2}.\\n'\u001b[0m\u001b[1;33m.\u001b[0m\u001b[1;33m\u001b[0m\u001b[0m\n\u001b[1;32m--> 300\u001b[1;33m                     format(target_id, '.', name), value)\n\u001b[0m\u001b[0;32m    301\u001b[0m             \u001b[1;32melse\u001b[0m\u001b[1;33m:\u001b[0m\u001b[1;33m\u001b[0m\u001b[0m\n\u001b[0;32m    302\u001b[0m                 raise Py4JError(\n",
      "\u001b[1;31mPy4JJavaError\u001b[0m: An error occurred while calling z:org.apache.spark.api.python.PythonRDD.runJob.\n: org.apache.spark.SparkException: Job aborted due to stage failure: Task 0 in stage 27.0 failed 1 times, most recent failure: Lost task 0.0 in stage 27.0 (TID 425, localhost): org.apache.spark.api.python.PythonException: Traceback (most recent call last):\n  File \"/usr/local/spark/python/lib/pyspark.zip/pyspark/worker.py\", line 111, in main\n    process()\n  File \"/usr/local/spark/python/lib/pyspark.zip/pyspark/worker.py\", line 106, in process\n    serializer.dump_stream(func(split_index, iterator), outfile)\n  File \"/usr/local/spark/python/lib/pyspark.zip/pyspark/serializers.py\", line 263, in dump_stream\n    vs = list(itertools.islice(iterator, batch))\n  File \"/usr/local/spark/python/pyspark/rdd.py\", line 1295, in takeUpToNumLeft\n    yield next(iterator)\n  File \"<ipython-input-19-18ae91e853b5>\", line 5, in <lambda>\n  File \"/opt/conda/envs/python2/lib/python2.7/site-packages/nltk/tokenize/__init__.py\", line 104, in word_tokenize\n    return [token for sent in sent_tokenize(text, language)\n  File \"/opt/conda/envs/python2/lib/python2.7/site-packages/nltk/tokenize/__init__.py\", line 88, in sent_tokenize\n    tokenizer = load('tokenizers/punkt/{0}.pickle'.format(language))\n  File \"/opt/conda/envs/python2/lib/python2.7/site-packages/nltk/data.py\", line 796, in load\n    opened_resource = _open(resource_url)\n  File \"/opt/conda/envs/python2/lib/python2.7/site-packages/nltk/data.py\", line 914, in _open\n    return find(path_, path + ['']).open()\n  File \"/opt/conda/envs/python2/lib/python2.7/site-packages/nltk/data.py\", line 636, in find\n    raise LookupError(resource_not_found)\nLookupError: \n**********************************************************************\n  Resource u'tokenizers/punkt/english.pickle' not found.  Please\n  use the NLTK Downloader to obtain the resource:  >>>\n  nltk.download()\n  Searched in:\n    - '/home/jovyan/nltk_data'\n    - '/usr/share/nltk_data'\n    - '/usr/local/share/nltk_data'\n    - '/usr/lib/nltk_data'\n    - '/usr/local/lib/nltk_data'\n    - u''\n**********************************************************************\n\n\tat org.apache.spark.api.python.PythonRunner$$anon$1.read(PythonRDD.scala:166)\n\tat org.apache.spark.api.python.PythonRunner$$anon$1.<init>(PythonRDD.scala:207)\n\tat org.apache.spark.api.python.PythonRunner.compute(PythonRDD.scala:125)\n\tat org.apache.spark.api.python.PythonRDD.compute(PythonRDD.scala:70)\n\tat org.apache.spark.rdd.RDD.computeOrReadCheckpoint(RDD.scala:297)\n\tat org.apache.spark.rdd.RDD.iterator(RDD.scala:264)\n\tat org.apache.spark.scheduler.ResultTask.runTask(ResultTask.scala:66)\n\tat org.apache.spark.scheduler.Task.run(Task.scala:88)\n\tat org.apache.spark.executor.Executor$TaskRunner.run(Executor.scala:214)\n\tat java.util.concurrent.ThreadPoolExecutor.runWorker(ThreadPoolExecutor.java:1145)\n\tat java.util.concurrent.ThreadPoolExecutor$Worker.run(ThreadPoolExecutor.java:615)\n\tat java.lang.Thread.run(Thread.java:745)\n\nDriver stacktrace:\n\tat org.apache.spark.scheduler.DAGScheduler.org$apache$spark$scheduler$DAGScheduler$$failJobAndIndependentStages(DAGScheduler.scala:1283)\n\tat org.apache.spark.scheduler.DAGScheduler$$anonfun$abortStage$1.apply(DAGScheduler.scala:1271)\n\tat org.apache.spark.scheduler.DAGScheduler$$anonfun$abortStage$1.apply(DAGScheduler.scala:1270)\n\tat scala.collection.mutable.ResizableArray$class.foreach(ResizableArray.scala:59)\n\tat scala.collection.mutable.ArrayBuffer.foreach(ArrayBuffer.scala:47)\n\tat org.apache.spark.scheduler.DAGScheduler.abortStage(DAGScheduler.scala:1270)\n\tat org.apache.spark.scheduler.DAGScheduler$$anonfun$handleTaskSetFailed$1.apply(DAGScheduler.scala:697)\n\tat org.apache.spark.scheduler.DAGScheduler$$anonfun$handleTaskSetFailed$1.apply(DAGScheduler.scala:697)\n\tat scala.Option.foreach(Option.scala:236)\n\tat org.apache.spark.scheduler.DAGScheduler.handleTaskSetFailed(DAGScheduler.scala:697)\n\tat org.apache.spark.scheduler.DAGSchedulerEventProcessLoop.doOnReceive(DAGScheduler.scala:1496)\n\tat org.apache.spark.scheduler.DAGSchedulerEventProcessLoop.onReceive(DAGScheduler.scala:1458)\n\tat org.apache.spark.scheduler.DAGSchedulerEventProcessLoop.onReceive(DAGScheduler.scala:1447)\n\tat org.apache.spark.util.EventLoop$$anon$1.run(EventLoop.scala:48)\n\tat org.apache.spark.scheduler.DAGScheduler.runJob(DAGScheduler.scala:567)\n\tat org.apache.spark.SparkContext.runJob(SparkContext.scala:1822)\n\tat org.apache.spark.SparkContext.runJob(SparkContext.scala:1835)\n\tat org.apache.spark.SparkContext.runJob(SparkContext.scala:1848)\n\tat org.apache.spark.api.python.PythonRDD$.runJob(PythonRDD.scala:393)\n\tat org.apache.spark.api.python.PythonRDD.runJob(PythonRDD.scala)\n\tat sun.reflect.NativeMethodAccessorImpl.invoke0(Native Method)\n\tat sun.reflect.NativeMethodAccessorImpl.invoke(NativeMethodAccessorImpl.java:57)\n\tat sun.reflect.DelegatingMethodAccessorImpl.invoke(DelegatingMethodAccessorImpl.java:43)\n\tat java.lang.reflect.Method.invoke(Method.java:606)\n\tat py4j.reflection.MethodInvoker.invoke(MethodInvoker.java:231)\n\tat py4j.reflection.ReflectionEngine.invoke(ReflectionEngine.java:379)\n\tat py4j.Gateway.invoke(Gateway.java:259)\n\tat py4j.commands.AbstractCommand.invokeMethod(AbstractCommand.java:133)\n\tat py4j.commands.CallCommand.execute(CallCommand.java:79)\n\tat py4j.GatewayConnection.run(GatewayConnection.java:207)\n\tat java.lang.Thread.run(Thread.java:745)\nCaused by: org.apache.spark.api.python.PythonException: Traceback (most recent call last):\n  File \"/usr/local/spark/python/lib/pyspark.zip/pyspark/worker.py\", line 111, in main\n    process()\n  File \"/usr/local/spark/python/lib/pyspark.zip/pyspark/worker.py\", line 106, in process\n    serializer.dump_stream(func(split_index, iterator), outfile)\n  File \"/usr/local/spark/python/lib/pyspark.zip/pyspark/serializers.py\", line 263, in dump_stream\n    vs = list(itertools.islice(iterator, batch))\n  File \"/usr/local/spark/python/pyspark/rdd.py\", line 1295, in takeUpToNumLeft\n    yield next(iterator)\n  File \"<ipython-input-19-18ae91e853b5>\", line 5, in <lambda>\n  File \"/opt/conda/envs/python2/lib/python2.7/site-packages/nltk/tokenize/__init__.py\", line 104, in word_tokenize\n    return [token for sent in sent_tokenize(text, language)\n  File \"/opt/conda/envs/python2/lib/python2.7/site-packages/nltk/tokenize/__init__.py\", line 88, in sent_tokenize\n    tokenizer = load('tokenizers/punkt/{0}.pickle'.format(language))\n  File \"/opt/conda/envs/python2/lib/python2.7/site-packages/nltk/data.py\", line 796, in load\n    opened_resource = _open(resource_url)\n  File \"/opt/conda/envs/python2/lib/python2.7/site-packages/nltk/data.py\", line 914, in _open\n    return find(path_, path + ['']).open()\n  File \"/opt/conda/envs/python2/lib/python2.7/site-packages/nltk/data.py\", line 636, in find\n    raise LookupError(resource_not_found)\nLookupError: \n**********************************************************************\n  Resource u'tokenizers/punkt/english.pickle' not found.  Please\n  use the NLTK Downloader to obtain the resource:  >>>\n  nltk.download()\n  Searched in:\n    - '/home/jovyan/nltk_data'\n    - '/usr/share/nltk_data'\n    - '/usr/local/share/nltk_data'\n    - '/usr/lib/nltk_data'\n    - '/usr/local/lib/nltk_data'\n    - u''\n**********************************************************************\n\n\tat org.apache.spark.api.python.PythonRunner$$anon$1.read(PythonRDD.scala:166)\n\tat org.apache.spark.api.python.PythonRunner$$anon$1.<init>(PythonRDD.scala:207)\n\tat org.apache.spark.api.python.PythonRunner.compute(PythonRDD.scala:125)\n\tat org.apache.spark.api.python.PythonRDD.compute(PythonRDD.scala:70)\n\tat org.apache.spark.rdd.RDD.computeOrReadCheckpoint(RDD.scala:297)\n\tat org.apache.spark.rdd.RDD.iterator(RDD.scala:264)\n\tat org.apache.spark.scheduler.ResultTask.runTask(ResultTask.scala:66)\n\tat org.apache.spark.scheduler.Task.run(Task.scala:88)\n\tat org.apache.spark.executor.Executor$TaskRunner.run(Executor.scala:214)\n\tat java.util.concurrent.ThreadPoolExecutor.runWorker(ThreadPoolExecutor.java:1145)\n\tat java.util.concurrent.ThreadPoolExecutor$Worker.run(ThreadPoolExecutor.java:615)\n\t... 1 more\n"
     ]
    }
   ],
   "source": [
    "from pyspark.mllib.feature import HashingTF\n",
    "import nltk\n",
    "nltk.download()\n",
    "htf = HashingTF()\n",
    "htfDocs = labelledDocs.map(lambda (i,l,c) : (i, l, htf.transform(nltk.word_tokenize(c))))\n",
    "print htfDocs.take(1)"
   ]
  },
  {
   "cell_type": "code",
   "execution_count": 13,
   "metadata": {
    "collapsed": false
   },
   "outputs": [
    {
     "name": "stdout",
     "output_type": "stream",
     "text": [
      "(13.0,(1048576,[8148,19142,30136,60275,71269,82263,93257,104251,115245,134386,145380,156374,167368,178362,189356,208501,219495,230489,241483,252477,263471,274465,282612,293606,304600,315594,337582,356727,367721,375612,378715,389709,400703,411697,422691,430838,441832,463820,485808,496802,504953,515947,523838,537935,548929,559923,570917,579064,590058,612046,623040,634034,653179,664173,686161,697155,708149,738284,760272,771266,782260,793254,812399,834387,845381,856375,867369,886510,897504,908498,919492,930486,935534,941480,960625,971619,982613,993607,1004601,1034736,1045730],[23.0,33.0,31.0,485.0,269.0,9.0,41.0,26.0,117.0,572.0,890.0,21.0,51.0,3.0,65.0,632.0,164.0,5.0,11.0,1.0,146.0,1660.0,189.0,129.0,4.0,18.0,4.0,76.0,363.0,1.0,3.0,29.0,1.0,53.0,91.0,99.0,661.0,36.0,63.0,1.0,26.0,4.0,1.0,46.0,2.0,40.0,2.0,122.0,56.0,32.0,98.0,18.0,11.0,319.0,40.0,49.0,32.0,199.0,1.0,45.0,24.0,19.0,562.0,52.0,38.0,18.0,25.0,616.0,586.0,58.0,48.0,41.0,1.0,25.0,137.0,108.0,60.0,28.0,32.0,7.0,227.0]))\n",
      "(13.0,(1048576,[8148,19142,30136,60275,71269,82263,93257,104251,115245,134386,145380,156374,167368,178362,189356,208501,219495,230489,241483,252477,263471,274465,282612,293606,304600,315594,337582,356727,367721,375612,378715,389709,400703,411697,422691,430838,441832,463820,485808,496802,504953,515947,523838,537935,548929,559923,570917,579064,590058,612046,623040,634034,653179,664173,686161,697155,708149,738284,760272,771266,782260,793254,812399,834387,845381,856375,867369,886510,897504,908498,919492,930486,935534,941480,960625,971619,982613,993607,1004601,1034736,1045730],[23.0,33.0,31.0,485.0,269.0,9.0,41.0,26.0,117.0,572.0,890.0,21.0,51.0,3.0,65.0,632.0,164.0,5.0,11.0,1.0,146.0,1660.0,189.0,129.0,4.0,18.0,4.0,76.0,363.0,1.0,3.0,29.0,1.0,53.0,91.0,99.0,661.0,36.0,63.0,1.0,26.0,4.0,1.0,46.0,2.0,40.0,2.0,122.0,56.0,32.0,98.0,18.0,11.0,319.0,40.0,49.0,32.0,199.0,1.0,45.0,24.0,19.0,562.0,52.0,38.0,18.0,25.0,616.0,586.0,58.0,48.0,41.0,1.0,25.0,137.0,108.0,60.0,28.0,32.0,7.0,227.0]))\n",
      "(13.0,(1048576,[8148,19142,30136,60275,71269,82263,93257,104251,115245,134386,145380,156374,167368,178362,189356,208501,219495,230489,241483,252477,263471,274465,282612,293606,304600,315594,337582,356727,367721,375612,378715,389709,400703,411697,422691,430838,441832,463820,485808,496802,504953,515947,523838,537935,548929,559923,570917,579064,590058,612046,623040,634034,653179,664173,686161,697155,708149,738284,760272,771266,782260,793254,812399,834387,845381,856375,867369,886510,897504,908498,919492,930486,935534,941480,960625,971619,982613,993607,1004601,1034736,1045730],[23.0,33.0,31.0,485.0,269.0,9.0,41.0,26.0,117.0,572.0,890.0,21.0,51.0,3.0,65.0,632.0,164.0,5.0,11.0,1.0,146.0,1660.0,189.0,129.0,4.0,18.0,4.0,76.0,363.0,1.0,3.0,29.0,1.0,53.0,91.0,99.0,661.0,36.0,63.0,1.0,26.0,4.0,1.0,46.0,2.0,40.0,2.0,122.0,56.0,32.0,98.0,18.0,11.0,319.0,40.0,49.0,32.0,199.0,1.0,45.0,24.0,19.0,562.0,52.0,38.0,18.0,25.0,616.0,586.0,58.0,48.0,41.0,1.0,25.0,137.0,108.0,60.0,28.0,32.0,7.0,227.0]))\n"
     ]
    }
   ],
   "source": [
    "from pyspark.mllib.regression import LabeledPoint\n",
    "inputData = htfDocs.map(lambda (i,l,v): LabeledPoint(i,v))\n",
    "print inputData.first()\n",
    "training = inputData\n",
    "testing = inputData\n",
    "#training, testing, validation = inputData.randomSplit([0.7,0.2,0.1])\n",
    "print training.first()\n",
    "print testing.first()"
   ]
  },
  {
   "cell_type": "code",
   "execution_count": 12,
   "metadata": {
    "collapsed": false
   },
   "outputs": [
    {
     "name": "stdout",
     "output_type": "stream",
     "text": [
      "328.487263203\n"
     ]
    }
   ],
   "source": [
    "import timeit\n",
    "start_time = timeit.default_timer()\n",
    "\n",
    "from pyspark.mllib.classification import NaiveBayes, NaiveBayesModel\n",
    "model = NaiveBayes.train(training, 1.0)\n",
    "\n",
    "elapsed = timeit.default_timer() - start_time\n",
    "print elapsed + \" seconds\""
   ]
  },
  {
   "cell_type": "code",
   "execution_count": 14,
   "metadata": {
    "collapsed": false
   },
   "outputs": [
    {
     "name": "stdout",
     "output_type": "stream",
     "text": [
      "[(14.0, 13.0), (14.0, 13.0), (14.0, 13.0), (14.0, 13.0), (14.0, 13.0), (14.0, 13.0), (14.0, 13.0), (14.0, 13.0), (14.0, 13.0), (14.0, 13.0)]\n",
      "0.0638595789368\n"
     ]
    }
   ],
   "source": [
    "predictionAndLabel = testing.map(lambda p : (model.predict(p.features), p.label))\n",
    "print predictionAndLabel.take(10)\n",
    "accuracy = 1.0 * predictionAndLabel.filter(lambda (x, v): x == v).count() / testing.count()\n",
    "print accuracy"
   ]
  },
  {
   "cell_type": "markdown",
   "metadata": {},
   "source": [
    "### Mess below"
   ]
  },
  {
   "cell_type": "code",
   "execution_count": null,
   "metadata": {
    "collapsed": false
   },
   "outputs": [],
   "source": [
    "from pyspark.mllib.feature import HashingTF\n",
    "htf = HashingTF()\n",
    "hashedTuples = docs.map(lambda r : (labelList.index(r.label), htf.transform(r.content.encode('utf-8').replace('\\n', ' ').replace('\\r', ''))))\n",
    "print hashedTuples.first()"
   ]
  },
  {
   "cell_type": "code",
   "execution_count": null,
   "metadata": {
    "collapsed": true
   },
   "outputs": [],
   "source": [
    "from pyspark.mllib.regression import LabeledPoint\n",
    "inputData = hashedTuples.map(lambda (c,v): LabeledPoint(c,v))\n",
    "training, testing, validation = inputData.randomSplit([0.7,0.3,0.0], 5)"
   ]
  },
  {
   "cell_type": "code",
   "execution_count": null,
   "metadata": {
    "collapsed": true
   },
   "outputs": [],
   "source": [
    "from pyspark.mllib.classification import NaiveBayes, NaiveBayesModel\n",
    "model = NaiveBayes.train(training, 1.0)"
   ]
  },
  {
   "cell_type": "code",
   "execution_count": null,
   "metadata": {
    "collapsed": false
   },
   "outputs": [],
   "source": [
    "predictionAndLabel = testing.map(lambda p : (model.predict(p.features), p.label))\n",
    "print predictionAndLabel.collect()\n",
    "accuracy = 1.0 * predictionAndLabel.filter(lambda (x, v): x == v).count() / testing.count()\n",
    "print accuracy"
   ]
  },
  {
   "cell_type": "code",
   "execution_count": null,
   "metadata": {
    "collapsed": false
   },
   "outputs": [],
   "source": [
    "from pyspark.mllib.feature import HashingTF\n",
    "htf = HashingTF()\n",
    "labels = docs.map(lambda r: (labelList.index(r.label)))\n",
    "tfDocs = htf.transform(docs.map(lambda r: r.content.encode('utf-8')))\n",
    "tfDocs.cache()\n",
    "print tfDocs.first()"
   ]
  },
  {
   "cell_type": "code",
   "execution_count": null,
   "metadata": {
    "collapsed": false
   },
   "outputs": [],
   "source": [
    "from pyspark.mllib.feature import IDF\n",
    "hidf = IDF()\n",
    "hidf = hidf.fit(tfDocs)\n",
    "tfIdfDocs = hidf.transform(tfDocs)\n",
    "print tfIdfDocs.first()\n",
    "\n",
    "featureAndLabelData = labels.zip(tfIdfDocs)\n",
    "\n",
    "print featureAndLabelData.first()\n"
   ]
  },
  {
   "cell_type": "code",
   "execution_count": null,
   "metadata": {
    "collapsed": false
   },
   "outputs": [],
   "source": [
    "from pyspark.mllib.regression import LabeledPoint\n",
    "inputData = featureAndLabelData.map(lambda (c,v): LabeledPoint(c,v))"
   ]
  },
  {
   "cell_type": "code",
   "execution_count": null,
   "metadata": {
    "collapsed": false
   },
   "outputs": [],
   "source": [
    "training, testing, validation = inputData.randomSplit([0.9,0.1,0.1], 5)\n",
    "training.cache()\n",
    "print training.count()"
   ]
  },
  {
   "cell_type": "code",
   "execution_count": null,
   "metadata": {
    "collapsed": false
   },
   "outputs": [],
   "source": [
    "from pyspark.mllib.classification import NaiveBayes, NaiveBayesModel\n",
    "# Train a naive Bayes model.\n",
    "model = NaiveBayes.train(training, 1.0)\n",
    "\n",
    "# Make prediction and test accuracy.\n",
    "#predictionAndLabel = testing.map(lambda p : (model.predict(p.features), p.label))\n",
    "#accuracy = 1.0 * predictionAndLabel.filter(lambda (x, v): x == v).count() / testing.count()"
   ]
  },
  {
   "cell_type": "code",
   "execution_count": null,
   "metadata": {
    "collapsed": false
   },
   "outputs": [],
   "source": [
    "predictionAndLabel = testing.map(lambda p : (model.predict(p.features), p.label))\n",
    "accuracy = 1.0 * predictionAndLabel.filter(lambda (x, v): x == v).count() / testing.count()\n",
    "print accuracy"
   ]
  },
  {
   "cell_type": "code",
   "execution_count": null,
   "metadata": {
    "collapsed": true
   },
   "outputs": [],
   "source": []
  }
 ],
 "metadata": {
  "kernelspec": {
   "display_name": "Python 2",
   "language": "python",
   "name": "python2"
  },
  "language_info": {
   "codemirror_mode": {
    "name": "ipython",
    "version": 2
   },
   "file_extension": ".py",
   "mimetype": "text/x-python",
   "name": "python",
   "nbconvert_exporter": "python",
   "pygments_lexer": "ipython2",
   "version": "2.7.11"
  }
 },
 "nbformat": 4,
 "nbformat_minor": 0
}
