{
 "cells": [
  {
   "cell_type": "markdown",
   "metadata": {},
   "source": [
    "## Predicting airplane delays using Random Forests ##\n",
    "\n",
    "In this exercise we are going to play a bit with a well known *Big Dataset* about plane trips. This notebook is an adaption of a scala notebook from the spark-notebook project:\n",
    "\n",
    "[https://github.com/andypetrella/spark-notebook](https://github.com/andypetrella/spark-notebook)\n",
    "\n",
    "We have translated the notebook to Python and adapted it for the jupyter platform.\n",
    "\n",
    "### The data ###\n",
    "\n",
    "For this small example we are going to use a subset of the [*Airline on-time performance*](http://stat-computing.org/dataexpo/2009/) data. For this exercise we will only use the data from the year 2008. This dat is already present in the workshop environment and we only have to load it into spark to get started. Let's explore what we have:"
   ]
  },
  {
   "cell_type": "code",
   "execution_count": 1,
   "metadata": {
    "collapsed": true
   },
   "outputs": [],
   "source": [
    "rawData = sc.textFile(\"2008.csv.gz\")"
   ]
  },
  {
   "cell_type": "code",
   "execution_count": 2,
   "metadata": {
    "collapsed": false
   },
   "outputs": [
    {
     "name": "stdout",
     "output_type": "stream",
     "text": [
      "7009729\n"
     ]
    }
   ],
   "source": [
    "print(rawData.count())"
   ]
  },
  {
   "cell_type": "code",
   "execution_count": 3,
   "metadata": {
    "collapsed": false
   },
   "outputs": [
    {
     "name": "stdout",
     "output_type": "stream",
     "text": [
      "<class 'pyspark.rdd.RDD'>\n",
      "[u'Year', u'Month', u'DayofMonth', u'DayOfWeek', u'DepTime', u'CRSDepTime', u'ArrTime', u'CRSArrTime', u'UniqueCarrier', u'FlightNum', u'TailNum', u'ActualElapsedTime', u'CRSElapsedTime', u'AirTime', u'ArrDelay', u'DepDelay', u'Origin', u'Dest', u'Distance', u'TaxiIn', u'TaxiOut', u'Cancelled', u'CancellationCode', u'Diverted', u'CarrierDelay', u'WeatherDelay', u'NASDelay', u'SecurityDelay', u'LateAircraftDelay']\n"
     ]
    }
   ],
   "source": [
    "print type(rawData)\n",
    "header = rawData.first().split(\",\")\n",
    "print header"
   ]
  },
  {
   "cell_type": "markdown",
   "metadata": {},
   "source": [
    "Let's strip the header and convert each line into an array. We will also make a randomsplit to reduce the amount of data for this notebook:"
   ]
  },
  {
   "cell_type": "code",
   "execution_count": 4,
   "metadata": {
    "collapsed": false
   },
   "outputs": [
    {
     "name": "stdout",
     "output_type": "stream",
     "text": [
      "6991\n"
     ]
    }
   ],
   "source": [
    "data = rawData.filter(lambda l: not(l.startswith(\"Year\"))).map(lambda l: l.split(\",\"))\n",
    "data, rest = data.randomSplit([0.001,0.999], 123456)\n",
    "print data.count()"
   ]
  },
  {
   "cell_type": "code",
   "execution_count": 5,
   "metadata": {
    "collapsed": false
   },
   "outputs": [
    {
     "name": "stdout",
     "output_type": "stream",
     "text": [
      "[[u'2008', u'1', u'3', u'4', u'1849', u'1805', u'2146', u'2110', u'WN', u'1951', u'N674AA', u'117', u'125', u'106', u'36', u'44', u'MDW', u'MHT', u'838', u'4', u'7', u'0', u'', u'0', u'31', u'0', u'0', u'0', u'5'], [u'2008', u'1', u'3', u'4', u'1620', u'1520', u'2144', u'2100', u'WN', u'78', u'N268WN', u'204', u'220', u'189', u'44', u'60', u'OAK', u'HOU', u'1642', u'3', u'12', u'0', u'', u'0', u'14', u'0', u'0', u'0', u'30']]\n"
     ]
    }
   ],
   "source": [
    "print data.take(2)"
   ]
  },
  {
   "cell_type": "markdown",
   "metadata": {},
   "source": [
    "Let's prettyprint a a row with headers to see the kind of data we have"
   ]
  },
  {
   "cell_type": "code",
   "execution_count": 6,
   "metadata": {
    "collapsed": false
   },
   "outputs": [
    {
     "data": {
      "text/html": [
       "<table><thead><tr><th>Year</th><th>Month</th><th>DayofMonth</th><th>DayOfWeek</th><th>DepTime</th><th>CRSDepTime</th><th>ArrTime</th><th>CRSArrTime</th><th>UniqueCarrier</th><th>FlightNum</th><th>TailNum</th><th>ActualElapsedTime</th><th>CRSElapsedTime</th><th>AirTime</th><th>ArrDelay</th><th>DepDelay</th><th>Origin</th><th>Dest</th><th>Distance</th><th>TaxiIn</th><th>TaxiOut</th><th>Cancelled</th><th>CancellationCode</th><th>Diverted</th><th>CarrierDelay</th><th>WeatherDelay</th><th>NASDelay</th><th>SecurityDelay</th><th>LateAircraftDelay</th></tr></thead><tbody><tr><td>2008</td><td>1</td><td>3</td><td>4</td><td>1849</td><td>1805</td><td>2146</td><td>2110</td><td>WN</td><td>1951</td><td>N674AA</td><td>117</td><td>125</td><td>106</td><td>36</td><td>44</td><td>MDW</td><td>MHT</td><td>838</td><td>4</td><td>7</td><td>0</td><td></td><td>0</td><td>31</td><td>0</td><td>0</td><td>0</td><td>5</td></tr></tbody></table>"
      ],
      "text/plain": [
       "<IPython.core.display.HTML object>"
      ]
     },
     "metadata": {},
     "output_type": "display_data"
    }
   ],
   "source": [
    "printSample = data.first()\n",
    "from IPython.display import display, HTML\n",
    "\n",
    "th = [\"<th>\" + d + \"</th>\" for d in header]\n",
    "td = [\"<td>\" + d + \"</td>\" for d in printSample]\n",
    "\n",
    "display(HTML(\"<table><thead><tr>\" + \"\".join(th) + \"</tr></thead><tbody><tr>\" + \"\".join(td) + \"</tr></tbody></table>\"))"
   ]
  },
  {
   "cell_type": "markdown",
   "metadata": {},
   "source": [
    "A list of airports will probably come in handy. Let's make it. We'll simply use an array index (the airport names are in position 16 and 17) to get a list of distinct airports."
   ]
  },
  {
   "cell_type": "code",
   "execution_count": 7,
   "metadata": {
    "collapsed": false
   },
   "outputs": [
    {
     "name": "stdout",
     "output_type": "stream",
     "text": [
      "272\n",
      "[u'MCO', u'MTJ', u'TXK', u'MFE', u'ACK', u'SJT', u'AVL', u'MSN', u'HPN', u'GPT']\n"
     ]
    }
   ],
   "source": [
    "airportsRDD = data.filter(lambda a : (a[16] != \"NA\" and a[17] != \"NA\")).flatMap(lambda a : a[16:18]).distinct()\n",
    "print airportsRDD.count()\n",
    "print airportsRDD.take(10)\n",
    "airports = airportsRDD.collect()"
   ]
  },
  {
   "cell_type": "markdown",
   "metadata": {},
   "source": [
    "### More exploration\n",
    "\n",
    "While we now have a good idea about the structure of the data it's time to delve a little deeper. Let's examine the\n",
    "distributions of the various delays."
   ]
  },
  {
   "cell_type": "code",
   "execution_count": 8,
   "metadata": {
    "collapsed": false
   },
   "outputs": [],
   "source": [
    "arrDelays = data.filter(lambda a : (a[14] != \"NA\")).flatMap(lambda a : ((str(a[16]), int(a[14])), (str(a[17]), int(a[14]))))\n",
    "depDelays = data.filter(lambda a : (a[15] != \"NA\")).flatMap(lambda a : ((str(a[16]), int(a[15])), (str(a[17]), int(a[15]))))"
   ]
  },
  {
   "cell_type": "code",
   "execution_count": 9,
   "metadata": {
    "collapsed": false
   },
   "outputs": [
    {
     "name": "stdout",
     "output_type": "stream",
     "text": [
      "[('MDW', 36), ('MHT', 36), ('OAK', 44), ('HOU', 44)]\n",
      "[('MDW', 44), ('MHT', 44), ('OAK', 60), ('HOU', 60)]\n"
     ]
    }
   ],
   "source": [
    "print arrDelays.take(4)\n",
    "print depDelays.take(4)"
   ]
  },
  {
   "cell_type": "markdown",
   "metadata": {},
   "source": [
    "In order to make histograms we will group delays by airport."
   ]
  },
  {
   "cell_type": "code",
   "execution_count": 10,
   "metadata": {
    "collapsed": false
   },
   "outputs": [],
   "source": [
    "arrDelaysByAirportHist = arrDelays.groupByKey().map(lambda (x,y) : (x, list((y)))) \n",
    "depDelaysByAirportHist = depDelays.groupByKey().map(lambda (x,y) : (x, list((y))))"
   ]
  },
  {
   "cell_type": "markdown",
   "metadata": {
    "collapsed": true
   },
   "source": [
    "With the delays grouped we can plot some histograms for San Francisco. Note that this can take a while - actual evaluation of the RDD will take place here."
   ]
  },
  {
   "cell_type": "code",
   "execution_count": 11,
   "metadata": {
    "collapsed": false
   },
   "outputs": [],
   "source": [
    "arrDelaysH = arrDelaysByAirportHist.filter(lambda (x,y) : x == \"SFO\").map(lambda (x,y) : y).collect()\n",
    "depDelaysH = depDelaysByAirportHist.filter(lambda (x,y) : x == \"SFO\").map(lambda (x,y) : y).collect()"
   ]
  },
  {
   "cell_type": "code",
   "execution_count": 12,
   "metadata": {
    "collapsed": false
   },
   "outputs": [
    {
     "data": {
      "image/png": "[encoded data removed]",
      "text/plain": [
       "<matplotlib.figure.Figure at 0xb1d2126c>"
      ]
     },
     "metadata": {},
     "output_type": "display_data"
    }
   ],
   "source": [
    "import matplotlib.pyplot as plt\n",
    "\n",
    "plt.hist(arrDelaysH, bins=100, histtype='stepfilled', color=\"b\", label=\"arrival\")\n",
    "plt.hist(depDelaysH, bins=100, histtype='stepfilled', color=\"r\", alpha=0.5, label=\"departure\")\n",
    "plt.title(\"Delays for San Francisco airport: SFO\")\n",
    "plt.xlabel(\"Delay\")\n",
    "plt.ylabel(\"Frequency\")\n",
    "plt.legend()\n",
    "plt.show()"
   ]
  },
  {
   "cell_type": "markdown",
   "metadata": {},
   "source": [
    "### Machine Learning: Random Forest\n",
    "\n",
    "Right, now let's apply some machine learning. First import some needed types."
   ]
  },
  {
   "cell_type": "code",
   "execution_count": 13,
   "metadata": {
    "collapsed": true
   },
   "outputs": [],
   "source": [
    "from pyspark.mllib.regression import LabeledPoint\n",
    "from pyspark.mllib.tree import RandomForest\n",
    "from pyspark.mllib.util import MLUtils\n",
    "from pyspark.mllib.linalg import DenseVector"
   ]
  },
  {
   "cell_type": "markdown",
   "metadata": {},
   "source": [
    "Let's drop some of the categorical features for simplicity. We will label the data with the departure delay and consider the following as features:"
   ]
  },
  {
   "cell_type": "code",
   "execution_count": 14,
   "metadata": {
    "collapsed": false
   },
   "outputs": [
    {
     "name": "stdout",
     "output_type": "stream",
     "text": [
      "[u'Year', u'Month', u'DayofMonth', u'DayOfWeek', u'DepTime', u'CRSDepTime', u'ArrTime', u'CRSArrTime', u'ActualElapsedTime', u'CRSElapsedTime', u'AirTime', u'ArrDelay', u'Origin', u'Dest', u'Distance', u'TaxiIn', u'TaxiOut']\n"
     ]
    }
   ],
   "source": [
    "features = header[0:8] + header[11:15] + header[16:18] + header[18:21]\n",
    "print features"
   ]
  },
  {
   "cell_type": "markdown",
   "metadata": {},
   "source": [
    "Now on to the boring (and slightly messy) part:\n",
    "* clean the data: if a row contains NA, drop it\n",
    "* convert the airport name to index in airport list for the feature vector\n",
    "* transform our data to the appropriate MLlib type: *LabeledPoint*"
   ]
  },
  {
   "cell_type": "code",
   "execution_count": 15,
   "metadata": {
    "collapsed": false
   },
   "outputs": [],
   "source": [
    "selectedData = data.filter(lambda a: \"NA\" not in a[0:21]).map(lambda a : \n",
    "                                   LabeledPoint(float(a[15]), \n",
    "                                   DenseVector([float(x) for x in a[0:8]] + \n",
    "                                               [float(x) for x in a[11:15]] + \n",
    "                                               [float(airports.index(a[16]))] + \n",
    "                                               [float(airports.index(a[17]))] + \n",
    "                                               [float(x) for x in a[18:21]]))).cache()"
   ]
  },
  {
   "cell_type": "markdown",
   "metadata": {},
   "source": [
    "As usual we split this data in training and test sets:"
   ]
  },
  {
   "cell_type": "code",
   "execution_count": 16,
   "metadata": {
    "collapsed": false
   },
   "outputs": [],
   "source": [
    "training, testing = selectedData.randomSplit([0.7,0.3], 123456)"
   ]
  },
  {
   "cell_type": "markdown",
   "metadata": {},
   "source": [
    "After all this work we can finally train the model. Note again that actual evaluation of the training RDD will take place here and can take a few minutes:"
   ]
  },
  {
   "cell_type": "code",
   "execution_count": 17,
   "metadata": {
    "collapsed": false
   },
   "outputs": [],
   "source": [
    "categoricalFeaturesInfo = {12:len(airports), 13:len(airports)}\n",
    "# For actual applications we would typically use much more trees\n",
    "numTrees = 10\n",
    "featureSubsetStrategy = \"auto\"\n",
    "impurity = \"variance\"\n",
    "maxDepth = 4\n",
    "maxBins = len(airports)\n",
    "\n",
    "model = RandomForest.trainRegressor(training, categoricalFeaturesInfo, numTrees, featureSubsetStrategy, impurity, maxDepth, maxBins)"
   ]
  },
  {
   "cell_type": "markdown",
   "metadata": {},
   "source": [
    "Although they are hard to interpret we can take a look at the trained trees:"
   ]
  },
  {
   "cell_type": "code",
   "execution_count": 18,
   "metadata": {
    "collapsed": false
   },
   "outputs": [
    {
     "name": "stdout",
     "output_type": "stream",
     "text": [
      "Learned regression forest model:\n",
      "TreeEnsembleModel regressor with 10 trees\n",
      "\n",
      "  Tree 0:\n",
      "    If (feature 11 <= 81.0)\n",
      "     If (feature 11 <= 28.0)\n",
      "      If (feature 12 in {119.0,208.0,254.0,258.0,12.0,227.0,250.0,200.0,19.0,28.0,31.0,126.0,234.0,7.0,98.0,165.0,179.0,245.0,259.0,131.0,191.0,223.0,1.0,9.0,253.0,177.0,225.0,264.0,184.0,145.0,10.0,82.0,76.0,182.0,8.0,30.0,229.0,233.0,81.0,147.0,199.0,270.0,124.0,219.0,2.0,94.0,103.0,213.0,65.0,35.0,146.0,24.0,36.0,160.0,185.0,215.0,127.0,92.0,110.0,201.0,46.0,50.0,60.0,100.0,138.0,240.0,69.0,114.0,122.0,206.0,42.0,58.0,96.0,108.0,239.0,246.0,32.0,178.0,109.0,195.0,161.0,59.0,192.0,11.0,106.0,158.0,271.0,51.0,97.0,144.0,83.0,48.0,149.0,224.0,142.0,173.0,23.0,155.0,37.0,205.0,21.0,190.0,125.0,66.0,168.0,181.0,237.0,243.0,162.0,251.0,25.0,120.0,255.0,174.0,198.0,72.0,55.0})\n",
      "       If (feature 11 <= 3.0)\n",
      "        Predict: -4.059469350411711\n",
      "       Else (feature 11 > 3.0)\n",
      "        Predict: 2.9381443298969074\n",
      "      Else (feature 12 not in {119.0,208.0,254.0,258.0,12.0,227.0,250.0,200.0,19.0,28.0,31.0,126.0,234.0,7.0,98.0,165.0,179.0,245.0,259.0,131.0,191.0,223.0,1.0,9.0,253.0,177.0,225.0,264.0,184.0,145.0,10.0,82.0,76.0,182.0,8.0,30.0,229.0,233.0,81.0,147.0,199.0,270.0,124.0,219.0,2.0,94.0,103.0,213.0,65.0,35.0,146.0,24.0,36.0,160.0,185.0,215.0,127.0,92.0,110.0,201.0,46.0,50.0,60.0,100.0,138.0,240.0,69.0,114.0,122.0,206.0,42.0,58.0,96.0,108.0,239.0,246.0,32.0,178.0,109.0,195.0,161.0,59.0,192.0,11.0,106.0,158.0,271.0,51.0,97.0,144.0,83.0,48.0,149.0,224.0,142.0,173.0,23.0,155.0,37.0,205.0,21.0,190.0,125.0,66.0,168.0,181.0,237.0,243.0,162.0,251.0,25.0,120.0,255.0,174.0,198.0,72.0,55.0})\n",
      "       If (feature 11 <= 6.0)\n",
      "        Predict: -1.2831816003833254\n",
      "       Else (feature 11 > 6.0)\n",
      "        Predict: 11.991961414790996\n",
      "     Else (feature 11 > 28.0)\n",
      "      If (feature 12 in {83.0,232.0,122.0,184.0,153.0,32.0,41.0,110.0,70.0,98.0,111.0,178.0,228.0,89.0,17.0,120.0,257.0,26.0,121.0,130.0,220.0,246.0,248.0,16.0,190.0,255.0,8.0,15.0,92.0,73.0,163.0,31.0,205.0,102.0,0.0,21.0,118.0,198.0,65.0,218.0})\n",
      "       If (feature 10 <= 111.0)\n",
      "        Predict: 29.34862385321101\n",
      "       Else (feature 10 > 111.0)\n",
      "        Predict: 14.975308641975309\n",
      "      Else (feature 12 not in {83.0,232.0,122.0,184.0,153.0,32.0,41.0,110.0,70.0,98.0,111.0,178.0,228.0,89.0,17.0,120.0,257.0,26.0,121.0,130.0,220.0,246.0,248.0,16.0,190.0,255.0,8.0,15.0,92.0,73.0,163.0,31.0,205.0,102.0,0.0,21.0,118.0,198.0,65.0,218.0})\n",
      "       If (feature 16 <= 25.0)\n",
      "        Predict: 54.98283261802575\n",
      "       Else (feature 16 > 25.0)\n",
      "        Predict: 27.633333333333333\n",
      "    Else (feature 11 > 81.0)\n",
      "     If (feature 11 <= 145.0)\n",
      "      If (feature 9 <= 61.0)\n",
      "       If (feature 12 in {101.0,159.0,62.0,139.0})\n",
      "        Predict: 98.5\n",
      "       Else (feature 12 not in {101.0,159.0,62.0,139.0})\n",
      "        Predict: 143.5\n",
      "      Else (feature 9 > 61.0)\n",
      "       If (feature 13 in {124.0,64.0,198.0,68.0,9.0,217.0,136.0,23.0,48.0,248.0,80.0,251.0,71.0,98.0,94.0,26.0,0.0,110.0,163.0,102.0,139.0,101.0,74.0,137.0,205.0,79.0,41.0})\n",
      "        Predict: 87.45054945054945\n",
      "       Else (feature 13 not in {124.0,64.0,198.0,68.0,9.0,217.0,136.0,23.0,48.0,248.0,80.0,251.0,71.0,98.0,94.0,26.0,0.0,110.0,163.0,102.0,139.0,101.0,74.0,137.0,205.0,79.0,41.0})\n",
      "        Predict: 124.66666666666667\n",
      "     Else (feature 11 > 145.0)\n",
      "      If (feature 11 <= 270.0)\n",
      "       If (feature 16 <= 33.0)\n",
      "        Predict: 188.9777777777778\n",
      "       Else (feature 16 > 33.0)\n",
      "        Predict: 129.6153846153846\n",
      "      Else (feature 11 > 270.0)\n",
      "       If (feature 1 <= 5.0)\n",
      "        Predict: 283.5\n",
      "       Else (feature 1 > 5.0)\n",
      "        Predict: 343.5\n",
      "  Tree 1:\n",
      "    If (feature 13 in {116.0,34.0,113.0,256.0,11.0,2.0,226.0,78.0,123.0,7.0,12.0,53.0,70.0,92.0,164.0,168.0,266.0,59.0,231.0,142.0,173.0,212.0,254.0,224.0,14.0,57.0,94.0,216.0,176.0,177.0,43.0,131.0,133.0,146.0,155.0,197.0,203.0,65.0,202.0,152.0,23.0,45.0,239.0,134.0,3.0,6.0,109.0,160.0,185.0,211.0,215.0,69.0,241.0,103.0,61.0,175.0,114.0,162.0,209.0,97.0,252.0,236.0,4.0,165.0,207.0,234.0,253.0,184.0,257.0,263.0,82.0,35.0,144.0,115.0,150.0,36.0,221.0,154.0,111.0,259.0,148.0,47.0,24.0,169.0,140.0,149.0,139.0,95.0,122.0,136.0,268.0,124.0,159.0,10.0,81.0,182.0,1.0,99.0,32.0,22.0,0.0,127.0,25.0,135.0,200.0,251.0,21.0,75.0,153.0,79.0,106.0,55.0,64.0,161.0,89.0,80.0,247.0,196.0,51.0,67.0,86.0,246.0,40.0,195.0,192.0,190.0,74.0,104.0,206.0,141.0,48.0,217.0,238.0,110.0,85.0,189.0,186.0,187.0,255.0,205.0,166.0,68.0,93.0,100.0,39.0,174.0,178.0,83.0,77.0,145.0,102.0,118.0,163.0,60.0,130.0,243.0,271.0,125.0,71.0,232.0,8.0})\n",
      "     If (feature 12 in {208.0,119.0,85.0,33.0,38.0,127.0,12.0,225.0,3.0,31.0,77.0,171.0,223.0,239.0,245.0,259.0,177.0,19.0,146.0,70.0,1.0,95.0,147.0,165.0,204.0,219.0,97.0,182.0,46.0,142.0,28.0,215.0,253.0,32.0,23.0,144.0,148.0,82.0,162.0,9.0,184.0,2.0,94.0,103.0,104.0,157.0,160.0,176.0,213.0,110.0,81.0,60.0,100.0,138.0,167.0,270.0,55.0,72.0,155.0,220.0,124.0,59.0,214.0,7.0,10.0,11.0,42.0,52.0,174.0,188.0,194.0,240.0,49.0,178.0,181.0,195.0,58.0,111.0,145.0,69.0,47.0,40.0,66.0,76.0,209.0,237.0,83.0,265.0,89.0,150.0,50.0,115.0,13.0,36.0,43.0,137.0,199.0,228.0,257.0,35.0,39.0,48.0,205.0,161.0,224.0,96.0,8.0,86.0,168.0,271.0,139.0,118.0,29.0,16.0,166.0,156.0,173.0,136.0,120.0,41.0,263.0,26.0,246.0,88.0,236.0,65.0,37.0,186.0,122.0,125.0,247.0,109.0,170.0,190.0,251.0,255.0,163.0,106.0,216.0,25.0,206.0,189.0,198.0,196.0,68.0,114.0,79.0,154.0,74.0,73.0,102.0,267.0,91.0,62.0,71.0,98.0,140.0,21.0,217.0,80.0,130.0,243.0,101.0,187.0,141.0,169.0,248.0,17.0,92.0,238.0,67.0,231.0,202.0,233.0,192.0,149.0,121.0,90.0,200.0,201.0,159.0,64.0,134.0,191.0,22.0,24.0,0.0,152.0,84.0,135.0,128.0,232.0,54.0,51.0,264.0,75.0,185.0,6.0})\n",
      "      If (feature 12 in {208.0,119.0,85.0,33.0,38.0,127.0,12.0,225.0,3.0,31.0,77.0,171.0,223.0,239.0,245.0,259.0,177.0,19.0,146.0,70.0,1.0,95.0,147.0,165.0,204.0,219.0,97.0,182.0,46.0,142.0,28.0,215.0,253.0,32.0,23.0,144.0,148.0,82.0,162.0,9.0,184.0,2.0,94.0,103.0,104.0,157.0,160.0,176.0,213.0,110.0,81.0,60.0,100.0,138.0,167.0,270.0,55.0,72.0,155.0,220.0,124.0,59.0,214.0,7.0,10.0,11.0,42.0,52.0,174.0,188.0,194.0,240.0,49.0,178.0,181.0,195.0,58.0,111.0,145.0,69.0,47.0,40.0,66.0,76.0,209.0,237.0,83.0,265.0,89.0,150.0,50.0,115.0,13.0,36.0,43.0,137.0,199.0,228.0,257.0,35.0,39.0,48.0,205.0,161.0,224.0,96.0,8.0,86.0,168.0,271.0,139.0,118.0,29.0,16.0,166.0,156.0,173.0,136.0,120.0,41.0,263.0,26.0,246.0,88.0,236.0,65.0,37.0,186.0,122.0,125.0,247.0,109.0,170.0,190.0,251.0,255.0,163.0,106.0,216.0,25.0,206.0,189.0,198.0,196.0,68.0,114.0,79.0,154.0,74.0,73.0,102.0,267.0,91.0,62.0,71.0,98.0,140.0,21.0,217.0,80.0,130.0,243.0,101.0,187.0,141.0,169.0,248.0,17.0,92.0,238.0,67.0,231.0,202.0,233.0,192.0,149.0,121.0,90.0,200.0})\n",
      "       If (feature 11 <= 49.0)\n",
      "        Predict: 1.486632622409132\n",
      "       Else (feature 11 > 49.0)\n",
      "        Predict: 76.35757575757576\n",
      "      Else (feature 12 not in {208.0,119.0,85.0,33.0,38.0,127.0,12.0,225.0,3.0,31.0,77.0,171.0,223.0,239.0,245.0,259.0,177.0,19.0,146.0,70.0,1.0,95.0,147.0,165.0,204.0,219.0,97.0,182.0,46.0,142.0,28.0,215.0,253.0,32.0,23.0,144.0,148.0,82.0,162.0,9.0,184.0,2.0,94.0,103.0,104.0,157.0,160.0,176.0,213.0,110.0,81.0,60.0,100.0,138.0,167.0,270.0,55.0,72.0,155.0,220.0,124.0,59.0,214.0,7.0,10.0,11.0,42.0,52.0,174.0,188.0,194.0,240.0,49.0,178.0,181.0,195.0,58.0,111.0,145.0,69.0,47.0,40.0,66.0,76.0,209.0,237.0,83.0,265.0,89.0,150.0,50.0,115.0,13.0,36.0,43.0,137.0,199.0,228.0,257.0,35.0,39.0,48.0,205.0,161.0,224.0,96.0,8.0,86.0,168.0,271.0,139.0,118.0,29.0,16.0,166.0,156.0,173.0,136.0,120.0,41.0,263.0,26.0,246.0,88.0,236.0,65.0,37.0,186.0,122.0,125.0,247.0,109.0,170.0,190.0,251.0,255.0,163.0,106.0,216.0,25.0,206.0,189.0,198.0,196.0,68.0,114.0,79.0,154.0,74.0,73.0,102.0,267.0,91.0,62.0,71.0,98.0,140.0,21.0,217.0,80.0,130.0,243.0,101.0,187.0,141.0,169.0,248.0,17.0,92.0,238.0,67.0,231.0,202.0,233.0,192.0,149.0,121.0,90.0,200.0})\n",
      "       If (feature 4 <= 2153.0)\n",
      "        Predict: 20.044843049327355\n",
      "       Else (feature 4 > 2153.0)\n",
      "        Predict: 123.6\n",
      "     Else (feature 12 not in {208.0,119.0,85.0,33.0,38.0,127.0,12.0,225.0,3.0,31.0,77.0,171.0,223.0,239.0,245.0,259.0,177.0,19.0,146.0,70.0,1.0,95.0,147.0,165.0,204.0,219.0,97.0,182.0,46.0,142.0,28.0,215.0,253.0,32.0,23.0,144.0,148.0,82.0,162.0,9.0,184.0,2.0,94.0,103.0,104.0,157.0,160.0,176.0,213.0,110.0,81.0,60.0,100.0,138.0,167.0,270.0,55.0,72.0,155.0,220.0,124.0,59.0,214.0,7.0,10.0,11.0,42.0,52.0,174.0,188.0,194.0,240.0,49.0,178.0,181.0,195.0,58.0,111.0,145.0,69.0,47.0,40.0,66.0,76.0,209.0,237.0,83.0,265.0,89.0,150.0,50.0,115.0,13.0,36.0,43.0,137.0,199.0,228.0,257.0,35.0,39.0,48.0,205.0,161.0,224.0,96.0,8.0,86.0,168.0,271.0,139.0,118.0,29.0,16.0,166.0,156.0,173.0,136.0,120.0,41.0,263.0,26.0,246.0,88.0,236.0,65.0,37.0,186.0,122.0,125.0,247.0,109.0,170.0,190.0,251.0,255.0,163.0,106.0,216.0,25.0,206.0,189.0,198.0,196.0,68.0,114.0,79.0,154.0,74.0,73.0,102.0,267.0,91.0,62.0,71.0,98.0,140.0,21.0,217.0,80.0,130.0,243.0,101.0,187.0,141.0,169.0,248.0,17.0,92.0,238.0,67.0,231.0,202.0,233.0,192.0,149.0,121.0,90.0,200.0,201.0,159.0,64.0,134.0,191.0,22.0,24.0,0.0,152.0,84.0,135.0,128.0,232.0,54.0,51.0,264.0,75.0,185.0,6.0})\n",
      "      If (feature 2 <= 2.0)\n",
      "       Predict: 30.0\n",
      "      Else (feature 2 > 2.0)\n",
      "       If (feature 10 <= 50.0)\n",
      "        Predict: 176.0\n",
      "       Else (feature 10 > 50.0)\n",
      "        Predict: 121.0\n",
      "    Else (feature 13 not in {116.0,34.0,113.0,256.0,11.0,2.0,226.0,78.0,123.0,7.0,12.0,53.0,70.0,92.0,164.0,168.0,266.0,59.0,231.0,142.0,173.0,212.0,254.0,224.0,14.0,57.0,94.0,216.0,176.0,177.0,43.0,131.0,133.0,146.0,155.0,197.0,203.0,65.0,202.0,152.0,23.0,45.0,239.0,134.0,3.0,6.0,109.0,160.0,185.0,211.0,215.0,69.0,241.0,103.0,61.0,175.0,114.0,162.0,209.0,97.0,252.0,236.0,4.0,165.0,207.0,234.0,253.0,184.0,257.0,263.0,82.0,35.0,144.0,115.0,150.0,36.0,221.0,154.0,111.0,259.0,148.0,47.0,24.0,169.0,140.0,149.0,139.0,95.0,122.0,136.0,268.0,124.0,159.0,10.0,81.0,182.0,1.0,99.0,32.0,22.0,0.0,127.0,25.0,135.0,200.0,251.0,21.0,75.0,153.0,79.0,106.0,55.0,64.0,161.0,89.0,80.0,247.0,196.0,51.0,67.0,86.0,246.0,40.0,195.0,192.0,190.0,74.0,104.0,206.0,141.0,48.0,217.0,238.0,110.0,85.0,189.0,186.0,187.0,255.0,205.0,166.0,68.0,93.0,100.0,39.0,174.0,178.0,83.0,77.0,145.0,102.0,118.0,163.0,60.0,130.0,243.0,271.0,125.0,71.0,232.0,8.0})\n",
      "     If (feature 11 <= 56.0)\n",
      "      If (feature 12 in {98.0,254.0,11.0,116.0,10.0,104.0,179.0,271.0,21.0,147.0,199.0,200.0,268.0,30.0,59.0,81.0,83.0,209.0,219.0,92.0,158.0,41.0,118.0,8.0,76.0,168.0,186.0,48.0,37.0,163.0,7.0,35.0,88.0,108.0,236.0,65.0,161.0,162.0,201.0,246.0,187.0,227.0,152.0,110.0,243.0,86.0,36.0,248.0,51.0,115.0,136.0,80.0,140.0,263.0,120.0,64.0,106.0,25.0,22.0,79.0,0.0,198.0,202.0,207.0,217.0,240.0,255.0,47.0,71.0,17.0,67.0,55.0,206.0,127.0,253.0,39.0,23.0,130.0})\n",
      "       If (feature 11 <= 6.0)\n",
      "        Predict: -2.899728997289973\n",
      "       Else (feature 11 > 6.0)\n",
      "        Predict: 9.441441441441441\n",
      "      Else (feature 12 not in {98.0,254.0,11.0,116.0,10.0,104.0,179.0,271.0,21.0,147.0,199.0,200.0,268.0,30.0,59.0,81.0,83.0,209.0,219.0,92.0,158.0,41.0,118.0,8.0,76.0,168.0,186.0,48.0,37.0,163.0,7.0,35.0,88.0,108.0,236.0,65.0,161.0,162.0,201.0,246.0,187.0,227.0,152.0,110.0,243.0,86.0,36.0,248.0,51.0,115.0,136.0,80.0,140.0,263.0,120.0,64.0,106.0,25.0,22.0,79.0,0.0,198.0,202.0,207.0,217.0,240.0,255.0,47.0,71.0,17.0,67.0,55.0,206.0,127.0,253.0,39.0,23.0,130.0})\n",
      "       If (feature 11 <= 17.0)\n",
      "        Predict: 2.0761245674740483\n",
      "       Else (feature 11 > 17.0)\n",
      "        Predict: 31.651785714285715\n",
      "     Else (feature 11 > 56.0)\n",
      "      If (feature 4 <= 455.0)\n",
      "       If (feature 13 in {120.0,26.0,73.0})\n",
      "        Predict: 201.0\n",
      "       Else (feature 13 not in {120.0,26.0,73.0})\n",
      "        Predict: 398.0\n",
      "      Else (feature 4 > 455.0)\n",
      "       If (feature 13 in {210.0,181.0,240.0,41.0,198.0,227.0,46.0,37.0,72.0,9.0,16.0,17.0,56.0,249.0,98.0,147.0,84.0,88.0,214.0,26.0,137.0,101.0,73.0,248.0,30.0,220.0,29.0})\n",
      "        Predict: 87.88888888888889\n",
      "       Else (feature 13 not in {210.0,181.0,240.0,41.0,198.0,227.0,46.0,37.0,72.0,9.0,16.0,17.0,56.0,249.0,98.0,147.0,84.0,88.0,214.0,26.0,137.0,101.0,73.0,248.0,30.0,220.0,29.0})\n",
      "        Predict: 156.03571428571428\n",
      "  Tree 2:\n",
      "    If (feature 11 <= 51.0)\n",
      "     If (feature 4 <= 1555.0)\n",
      "      If (feature 11 <= 13.0)\n",
      "       If (feature 12 in {91.0,258.0,19.0,85.0,108.0,46.0,116.0,127.0,3.0,31.0,95.0,171.0,233.0,142.0,179.0,8.0,245.0,184.0,28.0,131.0,191.0,219.0,223.0,259.0,7.0,12.0,72.0,268.0,81.0,70.0,147.0,144.0,1.0,162.0,82.0,250.0,21.0,239.0,35.0,30.0,111.0,11.0,40.0,92.0,94.0,104.0,124.0,148.0,149.0,154.0,158.0,176.0,227.0,246.0,114.0,178.0,206.0,97.0,146.0,185.0,26.0,10.0,25.0,29.0,98.0,192.0,50.0,152.0,120.0,60.0,167.0,270.0,16.0,163.0,155.0,200.0,69.0,139.0,36.0,199.0,236.0,102.0,48.0,122.0,161.0,243.0,42.0,59.0,67.0,188.0,194.0,225.0,22.0,271.0,39.0,181.0,251.0})\n",
      "        Predict: -4.495400788436268\n",
      "       Else (feature 12 not in {91.0,258.0,19.0,85.0,108.0,46.0,116.0,127.0,3.0,31.0,95.0,171.0,233.0,142.0,179.0,8.0,245.0,184.0,28.0,131.0,191.0,219.0,223.0,259.0,7.0,12.0,72.0,268.0,81.0,70.0,147.0,144.0,1.0,162.0,82.0,250.0,21.0,239.0,35.0,30.0,111.0,11.0,40.0,92.0,94.0,104.0,124.0,148.0,149.0,154.0,158.0,176.0,227.0,246.0,114.0,178.0,206.0,97.0,146.0,185.0,26.0,10.0,25.0,29.0,98.0,192.0,50.0,152.0,120.0,60.0,167.0,270.0,16.0,163.0,155.0,200.0,69.0,139.0,36.0,199.0,236.0,102.0,48.0,122.0,161.0,243.0,42.0,59.0,67.0,188.0,194.0,225.0,22.0,271.0,39.0,181.0,251.0})\n",
      "        Predict: -0.48134126554894535\n",
      "      Else (feature 11 > 13.0)\n",
      "       If (feature 13 in {115.0,236.0,220.0,234.0,64.0,45.0,232.0,83.0,114.0,162.0,163.0,214.0,271.0,79.0,243.0,74.0,120.0,192.0,68.0,248.0,32.0,93.0,100.0,102.0,217.0,86.0,73.0,125.0,0.0,169.0,186.0,247.0,136.0,201.0,251.0,152.0,195.0,205.0,190.0,196.0,200.0,76.0})\n",
      "        Predict: 10.202479338842975\n",
      "       Else (feature 13 not in {115.0,236.0,220.0,234.0,64.0,45.0,232.0,83.0,114.0,162.0,163.0,214.0,271.0,79.0,243.0,74.0,120.0,192.0,68.0,248.0,32.0,93.0,100.0,102.0,217.0,86.0,73.0,125.0,0.0,169.0,186.0,247.0,136.0,201.0,251.0,152.0,195.0,205.0,190.0,196.0,200.0,76.0})\n",
      "        Predict: 22.97814207650273\n",
      "     Else (feature 4 > 1555.0)\n",
      "      If (feature 13 in {116.0,197.0,231.0,184.0,210.0,226.0,253.0,78.0,225.0,244.0,266.0,53.0,146.0,220.0,241.0,238.0,250.0,261.0,152.0,69.0,176.0,12.0,14.0,97.0,165.0,211.0,145.0,161.0,255.0,48.0,86.0,82.0,33.0,54.0,56.0,72.0,98.0,131.0,133.0,173.0,252.0,59.0,47.0,23.0,6.0,154.0,209.0,239.0,259.0,181.0,95.0,120.0,257.0,17.0,61.0,70.0,93.0,190.0,65.0,182.0,224.0,246.0,24.0,35.0,73.0,45.0,247.0,232.0,140.0,21.0,36.0,0.0,25.0,64.0,249.0,115.0,76.0,71.0,177.0,125.0,271.0,186.0,149.0,196.0,159.0,263.0,81.0,99.0,178.0,166.0,189.0,7.0,136.0,205.0,227.0,108.0,130.0,22.0,68.0,79.0,106.0,11.0,223.0,217.0,83.0,206.0,248.0})\n",
      "       If (feature 11 <= 16.0)\n",
      "        Predict: -0.6069651741293532\n",
      "       Else (feature 11 > 16.0)\n",
      "        Predict: 20.564814814814813\n",
      "      Else (feature 13 not in {116.0,197.0,231.0,184.0,210.0,226.0,253.0,78.0,225.0,244.0,266.0,53.0,146.0,220.0,241.0,238.0,250.0,261.0,152.0,69.0,176.0,12.0,14.0,97.0,165.0,211.0,145.0,161.0,255.0,48.0,86.0,82.0,33.0,54.0,56.0,72.0,98.0,131.0,133.0,173.0,252.0,59.0,47.0,23.0,6.0,154.0,209.0,239.0,259.0,181.0,95.0,120.0,257.0,17.0,61.0,70.0,93.0,190.0,65.0,182.0,224.0,246.0,24.0,35.0,73.0,45.0,247.0,232.0,140.0,21.0,36.0,0.0,25.0,64.0,249.0,115.0,76.0,71.0,177.0,125.0,271.0,186.0,149.0,196.0,159.0,263.0,81.0,99.0,178.0,166.0,189.0,7.0,136.0,205.0,227.0,108.0,130.0,22.0,68.0,79.0,106.0,11.0,223.0,217.0,83.0,206.0,248.0})\n",
      "       If (feature 11 <= 9.0)\n",
      "        Predict: 1.1241830065359477\n",
      "       Else (feature 11 > 9.0)\n",
      "        Predict: 27.530516431924884\n",
      "    Else (feature 11 > 51.0)\n",
      "     If (feature 12 in {120.0,232.0,102.0,173.0,89.0,109.0,260.0,84.0,36.0,196.0,206.0,185.0,80.0,202.0,23.0,26.0,115.0,1.0,145.0,51.0,189.0,205.0,148.0,86.0,101.0,106.0,238.0,248.0,121.0,62.0,22.0,155.0,225.0,74.0,156.0,39.0,135.0,233.0,130.0,149.0,198.0,68.0,136.0,152.0,255.0,159.0,71.0,79.0,251.0,190.0,192.0,122.0,263.0,162.0,141.0,217.0,73.0,21.0,32.0,47.0,25.0,110.0,119.0,247.0,8.0,257.0,41.0,125.0})\n",
      "      If (feature 11 <= 140.0)\n",
      "       If (feature 11 <= 81.0)\n",
      "        Predict: 57.79012345679013\n",
      "       Else (feature 11 > 81.0)\n",
      "        Predict: 92.88372093023256\n",
      "      Else (feature 11 > 140.0)\n",
      "       If (feature 16 <= 57.0)\n",
      "        Predict: 193.16666666666666\n",
      "       Else (feature 16 > 57.0)\n",
      "        Predict: 137.6\n",
      "     Else (feature 12 not in {120.0,232.0,102.0,173.0,89.0,109.0,260.0,84.0,36.0,196.0,206.0,185.0,80.0,202.0,23.0,26.0,115.0,1.0,145.0,51.0,189.0,205.0,148.0,86.0,101.0,106.0,238.0,248.0,121.0,62.0,22.0,155.0,225.0,74.0,156.0,39.0,135.0,233.0,130.0,149.0,198.0,68.0,136.0,152.0,255.0,159.0,71.0,79.0,251.0,190.0,192.0,122.0,263.0,162.0,141.0,217.0,73.0,21.0,32.0,47.0,25.0,110.0,119.0,247.0,8.0,257.0,41.0,125.0})\n",
      "      If (feature 11 <= 216.0)\n",
      "       If (feature 14 <= 987.0)\n",
      "        Predict: 117.25806451612904\n",
      "       Else (feature 14 > 987.0)\n",
      "        Predict: 173.85714285714286\n",
      "      Else (feature 11 > 216.0)\n",
      "       If (feature 15 <= 15.0)\n",
      "        Predict: 338.625\n",
      "       Else (feature 15 > 15.0)\n",
      "        Predict: 228.0\n",
      "  Tree 3:\n",
      "    If (feature 6 <= 227.0)\n",
      "     If (feature 13 in {48.0,122.0,241.0,173.0,186.0,121.0,263.0,80.0,192.0,21.0,73.0,39.0,62.0,29.0,71.0,124.0,251.0,74.0,187.0,84.0,248.0,200.0,163.0,64.0,181.0})\n",
      "      If (feature 13 in {48.0,122.0,241.0,173.0,186.0,121.0,263.0,80.0,192.0,21.0,73.0,39.0,62.0,29.0,71.0,124.0,251.0,74.0})\n",
      "       If (feature 2 <= 4.0)\n",
      "        Predict: 33.142857142857146\n",
      "       Else (feature 2 > 4.0)\n",
      "        Predict: 9.323529411764707\n",
      "      Else (feature 13 not in {48.0,122.0,241.0,173.0,186.0,121.0,263.0,80.0,192.0,21.0,73.0,39.0,62.0,29.0,71.0,124.0,251.0,74.0})\n",
      "       If (feature 15 <= 5.0)\n",
      "        Predict: 54.714285714285715\n",
      "       Else (feature 15 > 5.0)\n",
      "        Predict: 105.375\n",
      "     Else (feature 13 not in {48.0,122.0,241.0,173.0,186.0,121.0,263.0,80.0,192.0,21.0,73.0,39.0,62.0,29.0,71.0,124.0,251.0,74.0,187.0,84.0,248.0,200.0,163.0,64.0,181.0})\n",
      "      If (feature 16 <= 10.0)\n",
      "       If (feature 2 <= 14.0)\n",
      "        Predict: 352.0\n",
      "       Else (feature 2 > 14.0)\n",
      "        Predict: 234.0\n",
      "      Else (feature 16 > 10.0)\n",
      "       If (feature 8 <= 56.0)\n",
      "        Predict: -5.0\n",
      "       Else (feature 8 > 56.0)\n",
      "        Predict: 129.75\n",
      "    Else (feature 6 > 227.0)\n",
      "     If (feature 11 <= 65.0)\n",
      "      If (feature 6 <= 1342.0)\n",
      "       If (feature 13 in {267.0,261.0,7.0,113.0,12.0,54.0,164.0,82.0,159.0,8.0,16.0,46.0,78.0,90.0,271.0,92.0,94.0,143.0,144.0,146.0,142.0,125.0,69.0,23.0,145.0,162.0,200.0,225.0,266.0,154.0,127.0,9.0,118.0,152.0,177.0,160.0,210.0,257.0,79.0,3.0,10.0,11.0,27.0,62.0,181.0,263.0,155.0,120.0,55.0,134.0,249.0,156.0,73.0,251.0,81.0,103.0,169.0,176.0,193.0,74.0,68.0,59.0,39.0,121.0,149.0,24.0,206.0,115.0,45.0,67.0,201.0,247.0,64.0,17.0,175.0,237.0,241.0,86.0,0.0,101.0,236.0,198.0,25.0,80.0,166.0,189.0,190.0,41.0,56.0,234.0,268.0,248.0,136.0,40.0,37.0,148.0,205.0,48.0,227.0,84.0,214.0,187.0,32.0,217.0,192.0,255.0,102.0,163.0,114.0,196.0,246.0,140.0})\n",
      "        Predict: -1.2379696769940673\n",
      "       Else (feature 13 not in {267.0,261.0,7.0,113.0,12.0,54.0,164.0,82.0,159.0,8.0,16.0,46.0,78.0,90.0,271.0,92.0,94.0,143.0,144.0,146.0,142.0,125.0,69.0,23.0,145.0,162.0,200.0,225.0,266.0,154.0,127.0,9.0,118.0,152.0,177.0,160.0,210.0,257.0,79.0,3.0,10.0,11.0,27.0,62.0,181.0,263.0,155.0,120.0,55.0,134.0,249.0,156.0,73.0,251.0,81.0,103.0,169.0,176.0,193.0,74.0,68.0,59.0,39.0,121.0,149.0,24.0,206.0,115.0,45.0,67.0,201.0,247.0,64.0,17.0,175.0,237.0,241.0,86.0,0.0,101.0,236.0,198.0,25.0,80.0,166.0,189.0,190.0,41.0,56.0,234.0,268.0,248.0,136.0,40.0,37.0,148.0,205.0,48.0,227.0,84.0,214.0,187.0,32.0,217.0,192.0,255.0,102.0,163.0,114.0,196.0,246.0,140.0})\n",
      "        Predict: 7.013333333333334\n",
      "      Else (feature 6 > 1342.0)\n",
      "       If (feature 12 in {127.0,119.0,98.0,38.0,177.0,250.0,160.0,253.0,267.0,245.0,104.0,142.0,200.0,1.0,28.0,124.0,146.0,147.0,182.0,239.0,259.0,81.0,204.0,9.0,88.0,220.0,59.0,233.0,135.0,149.0,46.0,103.0,114.0,157.0,176.0,271.0,192.0,206.0,227.0,184.0,94.0,109.0,219.0,224.0,270.0,35.0,48.0,10.0,42.0,70.0,194.0,265.0,92.0,240.0,178.0,173.0,181.0,58.0,170.0,246.0,69.0,82.0,66.0,72.0,237.0,29.0,205.0,214.0,21.0,36.0,83.0,140.0,145.0,243.0,24.0,110.0,49.0,17.0,8.0,16.0,89.0,86.0,11.0,153.0,55.0,102.0,136.0,25.0,252.0,190.0,195.0,41.0,39.0,32.0,263.0,251.0,54.0,186.0,257.0,101.0,125.0,156.0,162.0,71.0,161.0,238.0,79.0,80.0,216.0,26.0,68.0,247.0,106.0,232.0,189.0,255.0,217.0,139.0,166.0,73.0,236.0,163.0,120.0,64.0,74.0,196.0,67.0,261.0,37.0,118.0,47.0,121.0,187.0,0.0,152.0,115.0,130.0})\n",
      "        Predict: 4.1628303495311165\n",
      "       Else (feature 12 not in {127.0,119.0,98.0,38.0,177.0,250.0,160.0,253.0,267.0,245.0,104.0,142.0,200.0,1.0,28.0,124.0,146.0,147.0,182.0,239.0,259.0,81.0,204.0,9.0,88.0,220.0,59.0,233.0,135.0,149.0,46.0,103.0,114.0,157.0,176.0,271.0,192.0,206.0,227.0,184.0,94.0,109.0,219.0,224.0,270.0,35.0,48.0,10.0,42.0,70.0,194.0,265.0,92.0,240.0,178.0,173.0,181.0,58.0,170.0,246.0,69.0,82.0,66.0,72.0,237.0,29.0,205.0,214.0,21.0,36.0,83.0,140.0,145.0,243.0,24.0,110.0,49.0,17.0,8.0,16.0,89.0,86.0,11.0,153.0,55.0,102.0,136.0,25.0,252.0,190.0,195.0,41.0,39.0,32.0,263.0,251.0,54.0,186.0,257.0,101.0,125.0,156.0,162.0,71.0,161.0,238.0,79.0,80.0,216.0,26.0,68.0,247.0,106.0,232.0,189.0,255.0,217.0,139.0,166.0,73.0,236.0,163.0,120.0,64.0,74.0,196.0,67.0,261.0,37.0,118.0,47.0,121.0,187.0,0.0,152.0,115.0,130.0})\n",
      "        Predict: 18.782222222222224\n",
      "     Else (feature 11 > 65.0)\n",
      "      If (feature 13 in {187.0,13.0,39.0,86.0,46.0,251.0,37.0,72.0,9.0,16.0,80.0,217.0,23.0,56.0,249.0,136.0,161.0,248.0,73.0,67.0,98.0,214.0,71.0,198.0,163.0,206.0,26.0,141.0,68.0,205.0,88.0,110.0,125.0,102.0,118.0,139.0,137.0,84.0,247.0,124.0,189.0,216.0,79.0,220.0,194.0,29.0,101.0,0.0,49.0})\n",
      "       If (feature 11 <= 115.0)\n",
      "        Predict: 76.11176470588235\n",
      "       Else (feature 11 > 115.0)\n",
      "        Predict: 146.9607843137255\n",
      "      Else (feature 13 not in {187.0,13.0,39.0,86.0,46.0,251.0,37.0,72.0,9.0,16.0,80.0,217.0,23.0,56.0,249.0,136.0,161.0,248.0,73.0,67.0,98.0,214.0,71.0,198.0,163.0,206.0,26.0,141.0,68.0,205.0,88.0,110.0,125.0,102.0,118.0,139.0,137.0,84.0,247.0,124.0,189.0,216.0,79.0,220.0,194.0,29.0,101.0,0.0,49.0})\n",
      "       If (feature 5 <= 1455.0)\n",
      "        Predict: 135.4375\n",
      "       Else (feature 5 > 1455.0)\n",
      "        Predict: 186.30769230769232\n",
      "  Tree 4:\n",
      "    If (feature 12 in {208.0,19.0,254.0,258.0,85.0,108.0,116.0,177.0,126.0,171.0,28.0,150.0,165.0,245.0,259.0,46.0,223.0,234.0,104.0,127.0,264.0,9.0,146.0,144.0,81.0,239.0,268.0,1.0,30.0,219.0,250.0,267.0,199.0,59.0,2.0,70.0,94.0,157.0,181.0,213.0,11.0,97.0,182.0,76.0,124.0,160.0,10.0,253.0,72.0,95.0,100.0,147.0,197.0,224.0,270.0,16.0,155.0,98.0,7.0,42.0,134.0,194.0,209.0,40.0,82.0,52.0,58.0,170.0,172.0,174.0,214.0,178.0,49.0,158.0,227.0,240.0,142.0,206.0,69.0,161.0,88.0,13.0,43.0,153.0,169.0,215.0,252.0,139.0,22.0,163.0,243.0,45.0,102.0,77.0,166.0,265.0,65.0,35.0,50.0,246.0,47.0,21.0,145.0,271.0,25.0,173.0,37.0,96.0,207.0,238.0,236.0,231.0,92.0,120.0,74.0,56.0,149.0,196.0,48.0,200.0,248.0,23.0,136.0,201.0,41.0,156.0,257.0,89.0,154.0,202.0,122.0,140.0,110.0,130.0,36.0,67.0,247.0,220.0,86.0,80.0,111.0,73.0,189.0,263.0,0.0,39.0,152.0,228.0,83.0,68.0,115.0,26.0,232.0,251.0,121.0,90.0,159.0,198.0,255.0,162.0,64.0,217.0,192.0,17.0,109.0,185.0,187.0,186.0,205.0,71.0,118.0,190.0,101.0,54.0,106.0,125.0,24.0,29.0,148.0,84.0,32.0,216.0,141.0,261.0,51.0,168.0,79.0,62.0,114.0,15.0,195.0,91.0,137.0,119.0,191.0,135.0,128.0,183.0,8.0,55.0,233.0,225.0,260.0,184.0,75.0})\n",
      "     If (feature 13 in {116.0,267.0,113.0,2.0,226.0,12.0,78.0,90.0,123.0,142.0,53.0,150.0,168.0,59.0,46.0,231.0,197.0,212.0,250.0,254.0,146.0,152.0,238.0,57.0,173.0,176.0,216.0,241.0,3.0,17.0,43.0,131.0,133.0,155.0,253.0,149.0,111.0,103.0,95.0,185.0,209.0,211.0,69.0,6.0,47.0,33.0,65.0,45.0,82.0,263.0,28.0,31.0,61.0,144.0,175.0,236.0,239.0,177.0,115.0,4.0,134.0,164.0,224.0,184.0,36.0,22.0,169.0,114.0,252.0,181.0,148.0,55.0,79.0,92.0,11.0,261.0,251.0,106.0,83.0,195.0,32.0,136.0,25.0,96.0,39.0,0.0,97.0,89.0,35.0,255.0,166.0,127.0,8.0,200.0,77.0,160.0,190.0,80.0,257.0,125.0,102.0,259.0,67.0,243.0,247.0,162.0,205.0,86.0,192.0,23.0,268.0,48.0,139.0,76.0,120.0,24.0,163.0,84.0,68.0,9.0,64.0,158.0,7.0,140.0,75.0,71.0,187.0,207.0,73.0,189.0,21.0,112.0,130.0,74.0,159.0,141.0,206.0,249.0,271.0,124.0,62.0,186.0,171.0,174.0,29.0,118.0,37.0,196.0,135.0,217.0,13.0,182.0,122.0,246.0,81.0,178.0,51.0,161.0})\n",
      "      If (feature 13 in {116.0,267.0,113.0,2.0,226.0,12.0,78.0,90.0,123.0,142.0,53.0,150.0,168.0,59.0,46.0,231.0,197.0,212.0,250.0,254.0,146.0,152.0,238.0,57.0,173.0,176.0,216.0,241.0,3.0,17.0,43.0,131.0,133.0,155.0,253.0,149.0,111.0,103.0,95.0,185.0,209.0,211.0,69.0,6.0,47.0,33.0,65.0,45.0,82.0,263.0,28.0,31.0,61.0,144.0,175.0,236.0,239.0,177.0,115.0,4.0,134.0,164.0,224.0,184.0,36.0,22.0,169.0,114.0,252.0,181.0,148.0,55.0,79.0,92.0,11.0,261.0,251.0,106.0,83.0,195.0,32.0,136.0,25.0,96.0,39.0,0.0,97.0,89.0,35.0,255.0,166.0,127.0,8.0,200.0,77.0,160.0,190.0,80.0,257.0,125.0,102.0,259.0})\n",
      "       If (feature 12 in {119.0,208.0,258.0,116.0,177.0,225.0,127.0,170.0,199.0,150.0,16.0,259.0,191.0,234.0,162.0,29.0,72.0,264.0,35.0,181.0,97.0,36.0,173.0,220.0,250.0,253.0,32.0,146.0,216.0,2.0,46.0,59.0,70.0,95.0,148.0,157.0,213.0,67.0,182.0,100.0,209.0,232.0,270.0,206.0,155.0,192.0,69.0,7.0,49.0,239.0,122.0,248.0,139.0,10.0,40.0,1.0,77.0,214.0,22.0,255.0,149.0,82.0,102.0,109.0,196.0,257.0,76.0,114.0,238.0,145.0,89.0,142.0,8.0,140.0,246.0,125.0,178.0,166.0,169.0,195.0,215.0,163.0,136.0,79.0,130.0,198.0,251.0,74.0,205.0,47.0,118.0,41.0,37.0,120.0,141.0,86.0,25.0,263.0,83.0,50.0,39.0,68.0,243.0,189.0,156.0,161.0,271.0,11.0,55.0,26.0,186.0,84.0,217.0,247.0,101.0,190.0,111.0,236.0,201.0,135.0,71.0,121.0,187.0,80.0,154.0,152.0,64.0,73.0,65.0,92.0,48.0,21.0,202.0,228.0,24.0,88.0,0.0,17.0,62.0,106.0,23.0,115.0,110.0,233.0,51.0})\n",
      "        Predict: 1.7587795048934944\n",
      "       Else (feature 12 not in {119.0,208.0,258.0,116.0,177.0,225.0,127.0,170.0,199.0,150.0,16.0,259.0,191.0,234.0,162.0,29.0,72.0,264.0,35.0,181.0,97.0,36.0,173.0,220.0,250.0,253.0,32.0,146.0,216.0,2.0,46.0,59.0,70.0,95.0,148.0,157.0,213.0,67.0,182.0,100.0,209.0,232.0,270.0,206.0,155.0,192.0,69.0,7.0,49.0,239.0,122.0,248.0,139.0,10.0,40.0,1.0,77.0,214.0,22.0,255.0,149.0,82.0,102.0,109.0,196.0,257.0,76.0,114.0,238.0,145.0,89.0,142.0,8.0,140.0,246.0,125.0,178.0,166.0,169.0,195.0,215.0,163.0,136.0,79.0,130.0,198.0,251.0,74.0,205.0,47.0,118.0,41.0,37.0,120.0,141.0,86.0,25.0,263.0,83.0,50.0,39.0,68.0,243.0,189.0,156.0,161.0,271.0,11.0,55.0,26.0,186.0,84.0,217.0,247.0,101.0,190.0,111.0,236.0,201.0,135.0,71.0,121.0,187.0,80.0,154.0,152.0,64.0,73.0,65.0,92.0,48.0,21.0,202.0,228.0,24.0,88.0,0.0,17.0,62.0,106.0,23.0,115.0,110.0,233.0,51.0})\n",
      "        Predict: 168.0\n",
      "      Else (feature 13 not in {116.0,267.0,113.0,2.0,226.0,12.0,78.0,90.0,123.0,142.0,53.0,150.0,168.0,59.0,46.0,231.0,197.0,212.0,250.0,254.0,146.0,152.0,238.0,57.0,173.0,176.0,216.0,241.0,3.0,17.0,43.0,131.0,133.0,155.0,253.0,149.0,111.0,103.0,95.0,185.0,209.0,211.0,69.0,6.0,47.0,33.0,65.0,45.0,82.0,263.0,28.0,31.0,61.0,144.0,175.0,236.0,239.0,177.0,115.0,4.0,134.0,164.0,224.0,184.0,36.0,22.0,169.0,114.0,252.0,181.0,148.0,55.0,79.0,92.0,11.0,261.0,251.0,106.0,83.0,195.0,32.0,136.0,25.0,96.0,39.0,0.0,97.0,89.0,35.0,255.0,166.0,127.0,8.0,200.0,77.0,160.0,190.0,80.0,257.0,125.0,102.0,259.0})\n",
      "       If (feature 11 <= 52.0)\n",
      "        Predict: 2.5597165991902835\n",
      "       Else (feature 11 > 52.0)\n",
      "        Predict: 86.8041958041958\n",
      "     Else (feature 13 not in {116.0,267.0,113.0,2.0,226.0,12.0,78.0,90.0,123.0,142.0,53.0,150.0,168.0,59.0,46.0,231.0,197.0,212.0,250.0,254.0,146.0,152.0,238.0,57.0,173.0,176.0,216.0,241.0,3.0,17.0,43.0,131.0,133.0,155.0,253.0,149.0,111.0,103.0,95.0,185.0,209.0,211.0,69.0,6.0,47.0,33.0,65.0,45.0,82.0,263.0,28.0,31.0,61.0,144.0,175.0,236.0,239.0,177.0,115.0,4.0,134.0,164.0,224.0,184.0,36.0,22.0,169.0,114.0,252.0,181.0,148.0,55.0,79.0,92.0,11.0,261.0,251.0,106.0,83.0,195.0,32.0,136.0,25.0,96.0,39.0,0.0,97.0,89.0,35.0,255.0,166.0,127.0,8.0,200.0,77.0,160.0,190.0,80.0,257.0,125.0,102.0,259.0,67.0,243.0,247.0,162.0,205.0,86.0,192.0,23.0,268.0,48.0,139.0,76.0,120.0,24.0,163.0,84.0,68.0,9.0,64.0,158.0,7.0,140.0,75.0,71.0,187.0,207.0,73.0,189.0,21.0,112.0,130.0,74.0,159.0,141.0,206.0,249.0,271.0,124.0,62.0,186.0,171.0,174.0,29.0,118.0,37.0,196.0,135.0,217.0,13.0,182.0,122.0,246.0,81.0,178.0,51.0,161.0})\n",
      "      If (feature 6 <= 513.0)\n",
      "       If (feature 11 <= 176.0)\n",
      "        Predict: 58.38461538461539\n",
      "       Else (feature 11 > 176.0)\n",
      "        Predict: 232.5\n",
      "      Else (feature 6 > 513.0)\n",
      "       If (feature 4 <= 1529.0)\n",
      "        Predict: 8.14949494949495\n",
      "       Else (feature 4 > 1529.0)\n",
      "        Predict: 37.46056782334385\n",
      "    Else (feature 12 not in {208.0,19.0,254.0,258.0,85.0,108.0,116.0,177.0,126.0,171.0,28.0,150.0,165.0,245.0,259.0,46.0,223.0,234.0,104.0,127.0,264.0,9.0,146.0,144.0,81.0,239.0,268.0,1.0,30.0,219.0,250.0,267.0,199.0,59.0,2.0,70.0,94.0,157.0,181.0,213.0,11.0,97.0,182.0,76.0,124.0,160.0,10.0,253.0,72.0,95.0,100.0,147.0,197.0,224.0,270.0,16.0,155.0,98.0,7.0,42.0,134.0,194.0,209.0,40.0,82.0,52.0,58.0,170.0,172.0,174.0,214.0,178.0,49.0,158.0,227.0,240.0,142.0,206.0,69.0,161.0,88.0,13.0,43.0,153.0,169.0,215.0,252.0,139.0,22.0,163.0,243.0,45.0,102.0,77.0,166.0,265.0,65.0,35.0,50.0,246.0,47.0,21.0,145.0,271.0,25.0,173.0,37.0,96.0,207.0,238.0,236.0,231.0,92.0,120.0,74.0,56.0,149.0,196.0,48.0,200.0,248.0,23.0,136.0,201.0,41.0,156.0,257.0,89.0,154.0,202.0,122.0,140.0,110.0,130.0,36.0,67.0,247.0,220.0,86.0,80.0,111.0,73.0,189.0,263.0,0.0,39.0,152.0,228.0,83.0,68.0,115.0,26.0,232.0,251.0,121.0,90.0,159.0,198.0,255.0,162.0,64.0,217.0,192.0,17.0,109.0,185.0,187.0,186.0,205.0,71.0,118.0,190.0,101.0,54.0,106.0,125.0,24.0,29.0,148.0,84.0,32.0,216.0,141.0,261.0,51.0,168.0,79.0,62.0,114.0,15.0,195.0,91.0,137.0,119.0,191.0,135.0,128.0,183.0,8.0,55.0,233.0,225.0,260.0,184.0,75.0})\n",
      "     If (feature 14 <= 251.0)\n",
      "      If (feature 10 <= 38.0)\n",
      "       Predict: 30.0\n",
      "      Else (feature 10 > 38.0)\n",
      "       Predict: -10.0\n",
      "     Else (feature 14 > 251.0)\n",
      "      Predict: 1280.0\n",
      "  Tree 5:\n",
      "    If (feature 6 <= 513.0)\n",
      "     If (feature 11 <= 176.0)\n",
      "      If (feature 11 <= 75.0)\n",
      "       If (feature 12 in {82.0,0.0,71.0,182.0,101.0,74.0,69.0,189.0,48.0,136.0,217.0,125.0,73.0,120.0})\n",
      "        Predict: 6.8\n",
      "       Else (feature 12 not in {82.0,0.0,71.0,182.0,101.0,74.0,69.0,189.0,48.0,136.0,217.0,125.0,73.0,120.0})\n",
      "        Predict: 42.148148148148145\n",
      "      Else (feature 11 > 75.0)\n",
      "       If (feature 12 in {251.0,101.0,163.0,136.0,79.0})\n",
      "        Predict: 84.57142857142857\n",
      "       Else (feature 12 not in {251.0,101.0,163.0,136.0,79.0})\n",
      "        Predict: 128.5\n",
      "     Else (feature 11 > 176.0)\n",
      "      If (feature 3 <= 3.0)\n",
      "       If (feature 13 in {101.0,120.0})\n",
      "        Predict: 173.0\n",
      "       Else (feature 13 not in {101.0,120.0})\n",
      "        Predict: 228.0\n",
      "      Else (feature 3 > 3.0)\n",
      "       If (feature 12 in {257.0})\n",
      "        Predict: 241.0\n",
      "       Else (feature 12 not in {257.0})\n",
      "        Predict: 363.5\n",
      "    Else (feature 6 > 513.0)\n",
      "     If (feature 11 <= 343.0)\n",
      "      If (feature 11 <= 51.0)\n",
      "       If (feature 13 in {116.0,34.0,261.0,226.0,256.0,2.0,14.0,224.0,210.0,123.0,244.0,12.0,142.0,9.0,46.0,92.0,143.0,168.0,241.0,216.0,23.0,203.0,197.0,94.0,250.0,69.0,6.0,146.0,171.0,176.0,236.0,149.0,145.0,211.0,220.0,155.0,27.0,33.0,75.0,98.0,131.0,147.0,262.0,269.0,271.0,103.0,65.0,201.0,81.0,3.0,134.0,144.0,185.0,215.0,267.0,152.0,54.0,59.0,56.0,181.0,25.0,255.0,89.0,190.0,28.0,175.0,252.0,177.0,239.0,24.0,31.0,17.0,72.0,247.0,111.0,246.0,8.0,84.0,164.0,231.0,234.0,268.0,263.0,39.0,243.0,125.0,214.0,195.0,36.0,35.0,248.0,7.0,114.0,48.0,205.0,101.0,11.0,207.0,79.0,120.0,192.0,221.0,260.0,178.0,257.0,163.0,217.0,80.0,169.0,47.0,189.0,45.0,0.0,115.0,154.0,225.0,86.0,68.0,209.0,249.0,55.0,118.0,82.0,150.0,253.0,102.0,184.0,237.0,71.0,127.0,148.0})\n",
      "        Predict: 0.44567776656575847\n",
      "       Else (feature 13 not in {116.0,34.0,261.0,226.0,256.0,2.0,14.0,224.0,210.0,123.0,244.0,12.0,142.0,9.0,46.0,92.0,143.0,168.0,241.0,216.0,23.0,203.0,197.0,94.0,250.0,69.0,6.0,146.0,171.0,176.0,236.0,149.0,145.0,211.0,220.0,155.0,27.0,33.0,75.0,98.0,131.0,147.0,262.0,269.0,271.0,103.0,65.0,201.0,81.0,3.0,134.0,144.0,185.0,215.0,267.0,152.0,54.0,59.0,56.0,181.0,25.0,255.0,89.0,190.0,28.0,175.0,252.0,177.0,239.0,24.0,31.0,17.0,72.0,247.0,111.0,246.0,8.0,84.0,164.0,231.0,234.0,268.0,263.0,39.0,243.0,125.0,214.0,195.0,36.0,35.0,248.0,7.0,114.0,48.0,205.0,101.0,11.0,207.0,79.0,120.0,192.0,221.0,260.0,178.0,257.0,163.0,217.0,80.0,169.0,47.0,189.0,45.0,0.0,115.0,154.0,225.0,86.0,68.0,209.0,249.0,55.0,118.0,82.0,150.0,253.0,102.0,184.0,237.0,71.0,127.0,148.0})\n",
      "        Predict: 5.827823691460055\n",
      "      Else (feature 11 > 51.0)\n",
      "       If (feature 13 in {13.0,11.0,32.0,39.0,106.0,69.0,190.0,136.0,81.0,5.0,55.0,21.0,225.0,48.0,180.0,210.0,251.0,186.0,240.0,271.0,73.0,178.0,227.0,246.0,139.0,46.0,187.0,259.0,72.0,9.0,80.0,198.0,68.0,205.0,141.0,121.0,23.0,163.0,71.0,189.0,115.0,255.0,26.0,84.0,67.0,140.0,0.0,94.0,145.0,156.0,118.0,101.0,217.0,88.0,110.0})\n",
      "        Predict: 74.9872340425532\n",
      "       Else (feature 13 not in {13.0,11.0,32.0,39.0,106.0,69.0,190.0,136.0,81.0,5.0,55.0,21.0,225.0,48.0,180.0,210.0,251.0,186.0,240.0,271.0,73.0,178.0,227.0,246.0,139.0,46.0,187.0,259.0,72.0,9.0,80.0,198.0,68.0,205.0,141.0,121.0,23.0,163.0,71.0,189.0,115.0,255.0,26.0,84.0,67.0,140.0,0.0,94.0,145.0,156.0,118.0,101.0,217.0,88.0,110.0})\n",
      "        Predict: 121.18987341772151\n",
      "     Else (feature 11 > 343.0)\n",
      "      Predict: 1280.0\n",
      "  Tree 6:\n",
      "    If (feature 4 <= 1107.0)\n",
      "     If (feature 5 <= 1120.0)\n",
      "      If (feature 12 in {208.0,254.0,85.0,7.0,33.0,12.0,184.0,11.0,31.0,70.0,126.0,171.0,108.0,95.0,131.0,223.0,21.0,162.0,114.0,165.0,264.0,32.0,82.0,155.0,219.0,229.0,232.0,250.0,259.0,8.0,23.0,268.0,9.0,270.0,19.0,40.0,134.0,213.0,35.0,209.0,67.0,192.0,124.0,55.0,160.0,246.0,28.0,46.0,81.0,97.0,100.0,138.0,167.0,186.0,83.0,120.0,127.0,154.0,16.0,26.0,263.0,48.0,69.0,0.0,76.0,88.0,96.0,122.0,141.0,236.0,145.0,253.0,257.0,144.0,152.0,216.0,25.0,24.0,198.0,158.0,156.0,139.0,106.0,181.0,202.0,36.0,71.0,248.0,161.0,49.0,54.0,59.0,66.0,146.0,166.0,191.0,214.0,39.0,64.0,118.0,90.0,178.0,174.0,195.0,73.0,10.0,13.0,41.0,43.0,52.0,72.0,199.0,215.0,86.0,205.0,37.0,187.0,140.0,22.0,201.0,190.0,101.0,74.0,247.0,84.0,125.0,142.0,168.0,136.0,62.0,169.0,79.0,102.0,130.0,240.0,243.0,47.0,80.0,251.0,50.0,189.0,75.0,148.0,255.0,115.0,135.0})\n",
      "       If (feature 13 in {7.0,113.0,159.0,90.0,142.0,82.0,160.0,94.0,146.0,8.0,67.0,162.0,111.0,197.0,225.0,254.0,124.0,24.0,243.0,17.0,127.0,134.0,152.0,165.0,177.0,224.0,161.0,192.0,154.0,236.0,246.0,163.0,55.0,149.0,257.0,3.0,10.0,89.0,155.0,205.0,156.0,64.0,79.0,22.0,84.0,145.0,198.0,68.0,45.0,193.0,215.0,74.0,37.0,35.0,247.0,255.0,101.0,263.0,125.0,140.0,122.0,115.0,150.0,251.0,217.0,181.0,201.0,238.0,25.0,26.0,73.0,86.0,187.0,141.0,102.0,80.0,136.0,4.0,23.0,81.0,164.0,234.0,268.0,139.0,190.0,83.0,121.0,0.0,189.0,184.0,271.0,120.0,148.0,71.0,39.0,166.0,196.0,41.0,62.0,248.0,110.0,32.0,186.0,252.0,21.0,178.0,48.0,118.0,169.0,47.0,69.0,114.0,195.0,158.0,112.0,93.0,100.0,214.0,11.0,108.0})\n",
      "        Predict: -0.9884745762711864\n",
      "       Else (feature 13 not in {7.0,113.0,159.0,90.0,142.0,82.0,160.0,94.0,146.0,8.0,67.0,162.0,111.0,197.0,225.0,254.0,124.0,24.0,243.0,17.0,127.0,134.0,152.0,165.0,177.0,224.0,161.0,192.0,154.0,236.0,246.0,163.0,55.0,149.0,257.0,3.0,10.0,89.0,155.0,205.0,156.0,64.0,79.0,22.0,84.0,145.0,198.0,68.0,45.0,193.0,215.0,74.0,37.0,35.0,247.0,255.0,101.0,263.0,125.0,140.0,122.0,115.0,150.0,251.0,217.0,181.0,201.0,238.0,25.0,26.0,73.0,86.0,187.0,141.0,102.0,80.0,136.0,4.0,23.0,81.0,164.0,234.0,268.0,139.0,190.0,83.0,121.0,0.0,189.0,184.0,271.0,120.0,148.0,71.0,39.0,166.0,196.0,41.0,62.0,248.0,110.0,32.0,186.0,252.0,21.0,178.0,48.0,118.0,169.0,47.0,69.0,114.0,195.0,158.0,112.0,93.0,100.0,214.0,11.0,108.0})\n",
      "        Predict: 32.09090909090909\n",
      "      Else (feature 12 not in {208.0,254.0,85.0,7.0,33.0,12.0,184.0,11.0,31.0,70.0,126.0,171.0,108.0,95.0,131.0,223.0,21.0,162.0,114.0,165.0,264.0,32.0,82.0,155.0,219.0,229.0,232.0,250.0,259.0,8.0,23.0,268.0,9.0,270.0,19.0,40.0,134.0,213.0,35.0,209.0,67.0,192.0,124.0,55.0,160.0,246.0,28.0,46.0,81.0,97.0,100.0,138.0,167.0,186.0,83.0,120.0,127.0,154.0,16.0,26.0,263.0,48.0,69.0,0.0,76.0,88.0,96.0,122.0,141.0,236.0,145.0,253.0,257.0,144.0,152.0,216.0,25.0,24.0,198.0,158.0,156.0,139.0,106.0,181.0,202.0,36.0,71.0,248.0,161.0,49.0,54.0,59.0,66.0,146.0,166.0,191.0,214.0,39.0,64.0,118.0,90.0,178.0,174.0,195.0,73.0,10.0,13.0,41.0,43.0,52.0,72.0,199.0,215.0,86.0,205.0,37.0,187.0,140.0,22.0,201.0,190.0,101.0,74.0,247.0,84.0,125.0,142.0,168.0,136.0,62.0,169.0,79.0,102.0,130.0,240.0,243.0,47.0,80.0,251.0,50.0,189.0,75.0,148.0,255.0,115.0,135.0})\n",
      "       If (feature 16 <= 5.0)\n",
      "        Predict: 165.0\n",
      "       Else (feature 16 > 5.0)\n",
      "        Predict: 12.22689075630252\n",
      "     Else (feature 5 > 1120.0)\n",
      "      If (feature 12 in {190.0,68.0})\n",
      "       If (feature 13 in {86.0})\n",
      "        Predict: 100.0\n",
      "       Else (feature 13 not in {86.0})\n",
      "        Predict: 108.0\n",
      "      Else (feature 12 not in {190.0,68.0})\n",
      "       If (feature 8 <= 145.0)\n",
      "        Predict: 183.0\n",
      "       Else (feature 8 > 145.0)\n",
      "        Predict: 254.5\n",
      "    Else (feature 4 > 1107.0)\n",
      "     If (feature 11 <= 61.0)\n",
      "      If (feature 11 <= 18.0)\n",
      "       If (feature 13 in {261.0,116.0,197.0,253.0,210.0,16.0,78.0,111.0,244.0,266.0,203.0,12.0,70.0,150.0,168.0,220.0,226.0,9.0,146.0,14.0,142.0,212.0,225.0,250.0,55.0,124.0,59.0,259.0,190.0,11.0,255.0,103.0,145.0,29.0,56.0,176.0,181.0,43.0,54.0,65.0,69.0,72.0,89.0,98.0,133.0,173.0,227.0,252.0,262.0,269.0,205.0,24.0,149.0,154.0,86.0,152.0,7.0,169.0,236.0,141.0,48.0,106.0,6.0,31.0,51.0,109.0,134.0,177.0,185.0,211.0,216.0,257.0,267.0,79.0,198.0,139.0,163.0,202.0,263.0,214.0,95.0,23.0,125.0,26.0,28.0,46.0,93.0,114.0,127.0,175.0,195.0,247.0,209.0,71.0,35.0,201.0,182.0,17.0,39.0,206.0,102.0,140.0,67.0,189.0,25.0,186.0,77.0,81.0,122.0,231.0,101.0,83.0})\n",
      "        Predict: -1.7353407290015848\n",
      "       Else (feature 13 not in {261.0,116.0,197.0,253.0,210.0,16.0,78.0,111.0,244.0,266.0,203.0,12.0,70.0,150.0,168.0,220.0,226.0,9.0,146.0,14.0,142.0,212.0,225.0,250.0,55.0,124.0,59.0,259.0,190.0,11.0,255.0,103.0,145.0,29.0,56.0,176.0,181.0,43.0,54.0,65.0,69.0,72.0,89.0,98.0,133.0,173.0,227.0,252.0,262.0,269.0,205.0,24.0,149.0,154.0,86.0,152.0,7.0,169.0,236.0,141.0,48.0,106.0,6.0,31.0,51.0,109.0,134.0,177.0,185.0,211.0,216.0,257.0,267.0,79.0,198.0,139.0,163.0,202.0,263.0,214.0,95.0,23.0,125.0,26.0,28.0,46.0,93.0,114.0,127.0,175.0,195.0,247.0,209.0,71.0,35.0,201.0,182.0,17.0,39.0,206.0,102.0,140.0,67.0,189.0,25.0,186.0,77.0,81.0,122.0,231.0,101.0,83.0})\n",
      "        Predict: 2.706627680311891\n",
      "      Else (feature 11 > 18.0)\n",
      "       If (feature 12 in {47.0,184.0,98.0,153.0,156.0,110.0,220.0,236.0,39.0,216.0,198.0,163.0,70.0,228.0,55.0,187.0,69.0,17.0,64.0,186.0,145.0,130.0,152.0,271.0,73.0,139.0,83.0,0.0,24.0,166.0,68.0,16.0,248.0,41.0,189.0,79.0,15.0,181.0,246.0,48.0,196.0,251.0,101.0,86.0,136.0,80.0,67.0,121.0,31.0,128.0,183.0,32.0,159.0,71.0,217.0,118.0,205.0})\n",
      "        Predict: 23.06645569620253\n",
      "       Else (feature 12 not in {47.0,184.0,98.0,153.0,156.0,110.0,220.0,236.0,39.0,216.0,198.0,163.0,70.0,228.0,55.0,187.0,69.0,17.0,64.0,186.0,145.0,130.0,152.0,271.0,73.0,139.0,83.0,0.0,24.0,166.0,68.0,16.0,248.0,41.0,189.0,79.0,15.0,181.0,246.0,48.0,196.0,251.0,101.0,86.0,136.0,80.0,67.0,121.0,31.0,128.0,183.0,32.0,159.0,71.0,217.0,118.0,205.0})\n",
      "        Predict: 43.36842105263158\n",
      "     Else (feature 11 > 61.0)\n",
      "      If (feature 12 in {95.0,26.0,201.0,84.0,232.0,86.0,202.0,6.0,115.0,1.0,145.0,51.0,35.0,148.0,41.0,39.0,74.0,22.0,155.0,64.0,121.0,73.0,106.0,217.0,130.0,149.0,190.0,255.0,139.0,17.0,251.0,159.0,198.0,189.0,62.0,135.0,247.0,67.0,163.0,162.0,263.0,25.0,71.0,101.0,37.0,225.0,136.0,205.0,68.0,119.0,8.0,125.0,141.0,192.0,122.0,10.0,0.0,47.0,257.0,191.0,79.0,248.0,186.0,243.0,83.0,32.0,29.0,183.0,24.0,48.0})\n",
      "       If (feature 11 <= 123.0)\n",
      "        Predict: 82.4047619047619\n",
      "       Else (feature 11 > 123.0)\n",
      "        Predict: 151.9857142857143\n",
      "      Else (feature 12 not in {95.0,26.0,201.0,84.0,232.0,86.0,202.0,6.0,115.0,1.0,145.0,51.0,35.0,148.0,41.0,39.0,74.0,22.0,155.0,64.0,121.0,73.0,106.0,217.0,130.0,149.0,190.0,255.0,139.0,17.0,251.0,159.0,198.0,189.0,62.0,135.0,247.0,67.0,163.0,162.0,263.0,25.0,71.0,101.0,37.0,225.0,136.0,205.0,68.0,119.0,8.0,125.0,141.0,192.0,122.0,10.0,0.0,47.0,257.0,191.0,79.0,248.0,186.0,243.0,83.0,32.0,29.0,183.0,24.0,48.0})\n",
      "       Predict: 1280.0\n",
      "  Tree 7:\n",
      "    If (feature 6 <= 513.0)\n",
      "     If (feature 7 <= 551.0)\n",
      "      If (feature 10 <= 40.0)\n",
      "       Predict: 184.0\n",
      "      Else (feature 10 > 40.0)\n",
      "       If (feature 11 <= 14.0)\n",
      "        Predict: -1.4642857142857142\n",
      "       Else (feature 11 > 14.0)\n",
      "        Predict: 35.833333333333336\n",
      "     Else (feature 7 > 551.0)\n",
      "      If (feature 12 in {251.0,190.0,136.0,68.0,79.0,156.0,163.0,74.0,39.0,248.0})\n",
      "       If (feature 12 in {251.0,190.0,136.0,68.0,79.0,156.0})\n",
      "        Predict: 69.66666666666667\n",
      "       Else (feature 12 not in {251.0,190.0,136.0,68.0,79.0,156.0})\n",
      "        Predict: 130.625\n",
      "      Else (feature 12 not in {251.0,190.0,136.0,68.0,79.0,156.0,163.0,74.0,39.0,248.0})\n",
      "       If (feature 2 <= 12.0)\n",
      "        Predict: 154.4\n",
      "       Else (feature 2 > 12.0)\n",
      "        Predict: 264.5\n",
      "    Else (feature 6 > 513.0)\n",
      "     If (feature 11 <= 315.0)\n",
      "      If (feature 11 <= 51.0)\n",
      "       If (feature 9 <= 195.0)\n",
      "        Predict: 1.6868825466520307\n",
      "       Else (feature 9 > 195.0)\n",
      "        Predict: 4.243816254416961\n",
      "      Else (feature 11 > 51.0)\n",
      "       If (feature 8 <= 226.0)\n",
      "        Predict: 86.6676923076923\n",
      "       Else (feature 8 > 226.0)\n",
      "        Predict: 54.513513513513516\n",
      "     Else (feature 11 > 315.0)\n",
      "      Predict: 1280.0\n",
      "  Tree 8:\n",
      "    If (feature 12 in {208.0,258.0,85.0,108.0,33.0,38.0,91.0,11.0,165.0,171.0,142.0,245.0,199.0,219.0,9.0,28.0,131.0,223.0,234.0,147.0,259.0,204.0,95.0,182.0,1.0,227.0,229.0,250.0,268.0,81.0,12.0,191.0,76.0,209.0,19.0,124.0,30.0,50.0,103.0,146.0,157.0,160.0,176.0,213.0,270.0,94.0,154.0,200.0,127.0,155.0,58.0,70.0,77.0,167.0,240.0,144.0,177.0,98.0,65.0,97.0,122.0,7.0,42.0,215.0,47.0,16.0,82.0,59.0,134.0,253.0,55.0,172.0,206.0,195.0,271.0,72.0,158.0,49.0,66.0,237.0,32.0,150.0,54.0,56.0,216.0,120.0,161.0,69.0,13.0,52.0,153.0,166.0,104.0,174.0,67.0,45.0,214.0,178.0,130.0,169.0,37.0,145.0,181.0,139.0,140.0,243.0,207.0,156.0,23.0,246.0,88.0,201.0,86.0,114.0,48.0,110.0,224.0,106.0,35.0,251.0,17.0,263.0,252.0,236.0,26.0,8.0,22.0,96.0,109.0,36.0,89.0,189.0,248.0,90.0,159.0,73.0,102.0,202.0,220.0,261.0,118.0,257.0,74.0,21.0,80.0,228.0,186.0,136.0,41.0,187.0,205.0,152.0,25.0,196.0,231.0,163.0,92.0,173.0,170.0,238.0,101.0,190.0,185.0,39.0,71.0,68.0,40.0,29.0,24.0,115.0,83.0,217.0,149.0,247.0,64.0,62.0,10.0,121.0,265.0,79.0,168.0,125.0,198.0,0.0,264.0,267.0,135.0,162.0,111.0,137.0,233.0,141.0,84.0,51.0,116.0,255.0,15.0,192.0,119.0,148.0,232.0,123.0,184.0,225.0,260.0,75.0,6.0,183.0})\n",
      "     If (feature 11 <= 81.0)\n",
      "      If (feature 11 <= 31.0)\n",
      "       If (feature 5 <= 1034.0)\n",
      "        Predict: -1.1683029453015428\n",
      "       Else (feature 5 > 1034.0)\n",
      "        Predict: 1.4918684495843875\n",
      "      Else (feature 11 > 31.0)\n",
      "       If (feature 12 in {83.0,32.0,122.0,47.0,10.0,153.0,41.0,86.0,255.0,110.0,228.0,248.0,89.0,111.0,257.0,220.0,0.0,8.0,92.0,74.0,26.0,67.0,118.0,183.0,246.0,196.0,120.0,73.0,187.0,141.0,69.0,201.0,178.0,102.0,198.0})\n",
      "        Predict: 25.518796992481203\n",
      "       Else (feature 12 not in {83.0,32.0,122.0,47.0,10.0,153.0,41.0,86.0,255.0,110.0,228.0,248.0,89.0,111.0,257.0,220.0,0.0,8.0,92.0,74.0,26.0,67.0,118.0,183.0,246.0,196.0,120.0,73.0,187.0,141.0,69.0,201.0,178.0,102.0,198.0})\n",
      "        Predict: 50.66420664206642\n",
      "     Else (feature 11 > 81.0)\n",
      "      If (feature 11 <= 220.0)\n",
      "       If (feature 11 <= 146.0)\n",
      "        Predict: 97.18709677419355\n",
      "       Else (feature 11 > 146.0)\n",
      "        Predict: 165.75\n",
      "      Else (feature 11 > 220.0)\n",
      "       If (feature 11 <= 276.0)\n",
      "        Predict: 228.14285714285714\n",
      "       Else (feature 11 > 276.0)\n",
      "        Predict: 304.4\n",
      "    Else (feature 12 not in {208.0,258.0,85.0,108.0,33.0,38.0,91.0,11.0,165.0,171.0,142.0,245.0,199.0,219.0,9.0,28.0,131.0,223.0,234.0,147.0,259.0,204.0,95.0,182.0,1.0,227.0,229.0,250.0,268.0,81.0,12.0,191.0,76.0,209.0,19.0,124.0,30.0,50.0,103.0,146.0,157.0,160.0,176.0,213.0,270.0,94.0,154.0,200.0,127.0,155.0,58.0,70.0,77.0,167.0,240.0,144.0,177.0,98.0,65.0,97.0,122.0,7.0,42.0,215.0,47.0,16.0,82.0,59.0,134.0,253.0,55.0,172.0,206.0,195.0,271.0,72.0,158.0,49.0,66.0,237.0,32.0,150.0,54.0,56.0,216.0,120.0,161.0,69.0,13.0,52.0,153.0,166.0,104.0,174.0,67.0,45.0,214.0,178.0,130.0,169.0,37.0,145.0,181.0,139.0,140.0,243.0,207.0,156.0,23.0,246.0,88.0,201.0,86.0,114.0,48.0,110.0,224.0,106.0,35.0,251.0,17.0,263.0,252.0,236.0,26.0,8.0,22.0,96.0,109.0,36.0,89.0,189.0,248.0,90.0,159.0,73.0,102.0,202.0,220.0,261.0,118.0,257.0,74.0,21.0,80.0,228.0,186.0,136.0,41.0,187.0,205.0,152.0,25.0,196.0,231.0,163.0,92.0,173.0,170.0,238.0,101.0,190.0,185.0,39.0,71.0,68.0,40.0,29.0,24.0,115.0,83.0,217.0,149.0,247.0,64.0,62.0,10.0,121.0,265.0,79.0,168.0,125.0,198.0,0.0,264.0,267.0,135.0,162.0,111.0,137.0,233.0,141.0,84.0,51.0,116.0,255.0,15.0,192.0,119.0,148.0,232.0,123.0,184.0,225.0,260.0,75.0,6.0,183.0})\n",
      "     If (feature 11 <= 40.0)\n",
      "      If (feature 10 <= 38.0)\n",
      "       Predict: 30.0\n",
      "      Else (feature 10 > 38.0)\n",
      "       Predict: -10.0\n",
      "     Else (feature 11 > 40.0)\n",
      "      Predict: 1280.0\n",
      "  Tree 9:\n",
      "    If (feature 4 <= 455.0)\n",
      "     If (feature 5 <= 520.0)\n",
      "      If (feature 13 in {74.0,251.0,17.0,248.0,48.0,257.0})\n",
      "       If (feature 13 in {74.0,251.0,17.0})\n",
      "        Predict: -11.0\n",
      "       Else (feature 13 not in {74.0,251.0,17.0})\n",
      "        Predict: 7.25\n",
      "      Else (feature 13 not in {74.0,251.0,17.0,248.0,48.0,257.0})\n",
      "       Predict: 86.0\n",
      "     Else (feature 5 > 520.0)\n",
      "      If (feature 12 in {125.0,217.0})\n",
      "       If (feature 7 <= 18.0)\n",
      "        Predict: 184.0\n",
      "       Else (feature 7 > 18.0)\n",
      "        Predict: 275.0\n",
      "      Else (feature 12 not in {125.0,217.0})\n",
      "       Predict: 398.0\n",
      "    Else (feature 4 > 455.0)\n",
      "     If (feature 11 <= 70.0)\n",
      "      If (feature 12 in {119.0,254.0,258.0,12.0,116.0,3.0,126.0,171.0,1.0,46.0,215.0,8.0,245.0,259.0,9.0,131.0,191.0,223.0,110.0,147.0,82.0,165.0,253.0,267.0,28.0,146.0,81.0,30.0,52.0,155.0,219.0,229.0,233.0,250.0,268.0,270.0,182.0,32.0,7.0,2.0,95.0,103.0,157.0,176.0,239.0,11.0,160.0,200.0,94.0,177.0,185.0,92.0,97.0,10.0,88.0,100.0,109.0,127.0,138.0,167.0,197.0,59.0,227.0,98.0,72.0,42.0,76.0,108.0,174.0,194.0,58.0,173.0,139.0,55.0,77.0,90.0,144.0,83.0,169.0,149.0,21.0,36.0,48.0,240.0,181.0,66.0,237.0,163.0,69.0,19.0,231.0,206.0,35.0,67.0,50.0,162.0,13.0,43.0,195.0,255.0,156.0,24.0,145.0,166.0,214.0,263.0,45.0,54.0,70.0,184.0,141.0,17.0,135.0,209.0,224.0,232.0,41.0,29.0,136.0,192.0,190.0,23.0,49.0,251.0,122.0,26.0,37.0,140.0,120.0,152.0,257.0,64.0,220.0,106.0,89.0})\n",
      "       If (feature 11 <= 16.0)\n",
      "        Predict: -2.244674376141205\n",
      "       Else (feature 11 > 16.0)\n",
      "        Predict: 19.350574712643677\n",
      "      Else (feature 12 not in {119.0,254.0,258.0,12.0,116.0,3.0,126.0,171.0,1.0,46.0,215.0,8.0,245.0,259.0,9.0,131.0,191.0,223.0,110.0,147.0,82.0,165.0,253.0,267.0,28.0,146.0,81.0,30.0,52.0,155.0,219.0,229.0,233.0,250.0,268.0,270.0,182.0,32.0,7.0,2.0,95.0,103.0,157.0,176.0,239.0,11.0,160.0,200.0,94.0,177.0,185.0,92.0,97.0,10.0,88.0,100.0,109.0,127.0,138.0,167.0,197.0,59.0,227.0,98.0,72.0,42.0,76.0,108.0,174.0,194.0,58.0,173.0,139.0,55.0,77.0,90.0,144.0,83.0,169.0,149.0,21.0,36.0,48.0,240.0,181.0,66.0,237.0,163.0,69.0,19.0,231.0,206.0,35.0,67.0,50.0,162.0,13.0,43.0,195.0,255.0,156.0,24.0,145.0,166.0,214.0,263.0,45.0,54.0,70.0,184.0,141.0,17.0,135.0,209.0,224.0,232.0,41.0,29.0,136.0,192.0,190.0,23.0,49.0,251.0,122.0,26.0,37.0,140.0,120.0,152.0,257.0,64.0,220.0,106.0,89.0})\n",
      "       If (feature 11 <= 28.0)\n",
      "        Predict: 1.802043422733078\n",
      "       Else (feature 11 > 28.0)\n",
      "        Predict: 39.223367697594504\n",
      "     Else (feature 11 > 70.0)\n",
      "      If (feature 12 in {95.0,120.0,173.0,109.0,189.0,121.0,205.0,8.0,35.0,51.0,238.0,22.0,155.0,86.0,62.0,225.0,73.0,217.0,149.0,136.0,135.0,55.0,152.0,17.0,263.0,74.0,67.0,25.0,21.0,39.0,247.0,125.0,84.0,251.0,141.0,248.0,79.0,101.0,110.0,68.0,119.0,257.0,108.0})\n",
      "       If (feature 4 <= 1127.0)\n",
      "        Predict: 64.72\n",
      "       Else (feature 4 > 1127.0)\n",
      "        Predict: 98.79856115107914\n",
      "      Else (feature 12 not in {95.0,120.0,173.0,109.0,189.0,121.0,205.0,8.0,35.0,51.0,238.0,22.0,155.0,86.0,62.0,225.0,73.0,217.0,149.0,136.0,135.0,55.0,152.0,17.0,263.0,74.0,67.0,25.0,21.0,39.0,247.0,125.0,84.0,251.0,141.0,248.0,79.0,101.0,110.0,68.0,119.0,257.0,108.0})\n",
      "       If (feature 4 <= 2153.0)\n",
      "        Predict: 142.13888888888889\n",
      "       Else (feature 4 > 2153.0)\n",
      "        Predict: 201.66666666666666\n",
      "\n"
     ]
    }
   ],
   "source": [
    "print \"Learned regression forest model:\\n\" + model.toDebugString()"
   ]
  },
  {
   "cell_type": "markdown",
   "metadata": {},
   "source": [
    "Now let's try to predict some test data:"
   ]
  },
  {
   "cell_type": "code",
   "execution_count": 19,
   "metadata": {
    "collapsed": false
   },
   "outputs": [
    {
     "data": {
      "text/html": [
       "<table><thead><tr><th>Actual delay</th><th>Predicted delay</th><th>Difference</th></tr></thead><tbody><tr><tr><td>47.0</td><td>21.3871475592</td><td>25.6128524408</td></tr><tr><td>29.0</td><td>8.31357438124</td><td>20.6864256188</td></tr><tr><td>37.0</td><td>18.5936325985</td><td>18.4063674015</td></tr><tr><td>1.0</td><td>3.12509322964</td><td>-2.12509322964</td></tr><tr><td>26.0</td><td>14.350545514</td><td>11.649454486</td></tr><tr><td>0.0</td><td>1.44521326625</td><td>-1.44521326625</td></tr><tr><td>-2.0</td><td>2.07383727648</td><td>-4.07383727648</td></tr><tr><td>-5.0</td><td>1.99075251413</td><td>-6.99075251413</td></tr><tr><td>-2.0</td><td>1.4577756571</td><td>-3.4577756571</td></tr><tr><td>0.0</td><td>2.28104054797</td><td>-2.28104054797</td></tr></tr></tbody></table>"
      ],
      "text/plain": [
       "<IPython.core.display.HTML object>"
      ]
     },
     "metadata": {},
     "output_type": "display_data"
    }
   ],
   "source": [
    "test = testing.take(10)\n",
    "predictions = [(point.label, model.predict(point.features), point.label - model.predict(point.features)) for point in test]\n",
    "\n",
    "from IPython.display import display, HTML\n",
    "tbody = \"\"\n",
    "for tup in predictions:\n",
    "    tbody = tbody + \"<tr><td>\" + str(tup[0]) + \"</td><td>\" + str(tup[1]) + \"</td><td>\" + str(tup[2]) + \"</td></tr>\"\n",
    "display(HTML(\"<table><thead><tr><th>Actual delay</th><th>Predicted delay</th><th>Difference</th></tr></thead><tbody><tr>\" + tbody + \"</tr></tbody></table>\"))"
   ]
  },
  {
   "cell_type": "markdown",
   "metadata": {},
   "source": [
    "Now for the MSE. First a baseline and then our model:"
   ]
  },
  {
   "cell_type": "code",
   "execution_count": 20,
   "metadata": {
    "collapsed": false
   },
   "outputs": [
    {
     "name": "stdout",
     "output_type": "stream",
     "text": [
      "9.56505342552\n",
      "(47.0, 9.565053425518544)\n",
      "1301.66708132\n"
     ]
    }
   ],
   "source": [
    "# Get some baseline\n",
    "avgDelay = training.map(lambda p: p.label).mean()\n",
    "print avgDelay\n",
    "baseLineData = testing.map(lambda p: (p.label, avgDelay))\n",
    "print baseLineData.first()\n",
    "mseBaseLine = baseLineData.map(lambda (x,y) : (x - y)**2).mean()\n",
    "print mseBaseLine"
   ]
  },
  {
   "cell_type": "code",
   "execution_count": 21,
   "metadata": {
    "collapsed": false
   },
   "outputs": [
    {
     "name": "stdout",
     "output_type": "stream",
     "text": [
      "(47.0, 21.387147559225507)\n",
      "518.970148678\n"
     ]
    }
   ],
   "source": [
    "predictions = model.predict(testing.map(lambda p: p.features))\n",
    "labelsAndPredictions = testing.map(lambda p: p.label).zip(predictions)\n",
    "print labelsAndPredictions.first()\n",
    "testMSE = labelsAndPredictions.map(lambda (x,y) : (x - y)**2).mean()\n",
    "print testMSE"
   ]
  },
  {
   "cell_type": "markdown",
   "metadata": {
    "collapsed": true
   },
   "source": [
    "This concludes the notebook. Feel free to experiment more with the model and the data. As an exercise try plotting the predicted and actual values. Alternatively you can try to find out if there are certain airports were the predictions are significantly better. Have fun!"
   ]
  },
  {
   "cell_type": "code",
   "execution_count": null,
   "metadata": {
    "collapsed": true
   },
   "outputs": [],
   "source": []
  }
 ],
 "metadata": {
  "kernelspec": {
   "display_name": "Python 2",
   "language": "python",
   "name": "python2"
  },
  "language_info": {
   "codemirror_mode": {
    "name": "ipython",
    "version": 2
   },
   "file_extension": ".py",
   "mimetype": "text/x-python",
   "name": "python",
   "nbconvert_exporter": "python",
   "pygments_lexer": "ipython2",
   "version": "2.7.11"
  }
 },
 "nbformat": 4,
 "nbformat_minor": 0
}
